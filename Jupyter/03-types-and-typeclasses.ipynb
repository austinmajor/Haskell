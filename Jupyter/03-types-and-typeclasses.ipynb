{
 "cells": [
  {
   "cell_type": "markdown",
   "metadata": {
    "toc": true
   },
   "source": [
    "<h1>Table of Contents<span class=\"tocSkip\"></span></h1>\n",
    "<div class=\"toc\"><ul class=\"toc-item\"><li><span><a href=\"#Believe-the-type\" data-toc-modified-id=\"Believe-the-type-1\"><span class=\"toc-item-num\">1&nbsp;&nbsp;</span>Believe the type</a></span><ul class=\"toc-item\"><li><span><a href=\"#Static-type-system\" data-toc-modified-id=\"Static-type-system-1.1\"><span class=\"toc-item-num\">1.1&nbsp;&nbsp;</span>Static type system</a></span></li><li><span><a href=\"#Type-inference\" data-toc-modified-id=\"Type-inference-1.2\"><span class=\"toc-item-num\">1.2&nbsp;&nbsp;</span>Type inference</a></span></li><li><span><a href=\"#Examine-the-types-of-some-expressions\" data-toc-modified-id=\"Examine-the-types-of-some-expressions-1.3\"><span class=\"toc-item-num\">1.3&nbsp;&nbsp;</span>Examine the types of some expressions</a></span></li><li><span><a href=\"#Types\" data-toc-modified-id=\"Types-1.4\"><span class=\"toc-item-num\">1.4&nbsp;&nbsp;</span>Types</a></span><ul class=\"toc-item\"><li><span><a href=\"#Expression-Types\" data-toc-modified-id=\"Expression-Types-1.4.1\"><span class=\"toc-item-num\">1.4.1&nbsp;&nbsp;</span>Expression Types</a></span></li><li><span><a href=\"#Function-Types\" data-toc-modified-id=\"Function-Types-1.4.2\"><span class=\"toc-item-num\">1.4.2&nbsp;&nbsp;</span>Function Types</a></span></li><li><span><a href=\"#Function-with-multiple-parameters\" data-toc-modified-id=\"Function-with-multiple-parameters-1.4.3\"><span class=\"toc-item-num\">1.4.3&nbsp;&nbsp;</span>Function with multiple parameters</a></span></li><li><span><a href=\"#Check-funtion-types\" data-toc-modified-id=\"Check-funtion-types-1.4.4\"><span class=\"toc-item-num\">1.4.4&nbsp;&nbsp;</span>Check funtion types</a></span></li></ul></li><li><span><a href=\"#Common-types\" data-toc-modified-id=\"Common-types-1.5\"><span class=\"toc-item-num\">1.5&nbsp;&nbsp;</span>Common types</a></span><ul class=\"toc-item\"><li><span><a href=\"#Int\" data-toc-modified-id=\"Int-1.5.1\"><span class=\"toc-item-num\">1.5.1&nbsp;&nbsp;</span>Int</a></span></li><li><span><a href=\"#Float\" data-toc-modified-id=\"Float-1.5.2\"><span class=\"toc-item-num\">1.5.2&nbsp;&nbsp;</span>Float</a></span></li><li><span><a href=\"#Double\" data-toc-modified-id=\"Double-1.5.3\"><span class=\"toc-item-num\">1.5.3&nbsp;&nbsp;</span>Double</a></span></li><li><span><a href=\"#Bool\" data-toc-modified-id=\"Bool-1.5.4\"><span class=\"toc-item-num\">1.5.4&nbsp;&nbsp;</span>Bool</a></span></li><li><span><a href=\"#Char\" data-toc-modified-id=\"Char-1.5.5\"><span class=\"toc-item-num\">1.5.5&nbsp;&nbsp;</span>Char</a></span></li><li><span><a href=\"#Tuple\" data-toc-modified-id=\"Tuple-1.5.6\"><span class=\"toc-item-num\">1.5.6&nbsp;&nbsp;</span>Tuple</a></span></li></ul></li></ul></li><li><span><a href=\"#Type-variables\" data-toc-modified-id=\"Type-variables-2\"><span class=\"toc-item-num\">2&nbsp;&nbsp;</span>Type variables</a></span><ul class=\"toc-item\"><li><span><a href=\"#Type-variable\" data-toc-modified-id=\"Type-variable-2.1\"><span class=\"toc-item-num\">2.1&nbsp;&nbsp;</span>Type variable</a></span></li><li><span><a href=\"#Type-variable-examples\" data-toc-modified-id=\"Type-variable-examples-2.2\"><span class=\"toc-item-num\">2.2&nbsp;&nbsp;</span>Type variable examples</a></span></li></ul></li><li><span><a href=\"#Typeclasses-101\" data-toc-modified-id=\"Typeclasses-101-3\"><span class=\"toc-item-num\">3&nbsp;&nbsp;</span>Typeclasses 101</a></span><ul class=\"toc-item\"><li><span><a href=\"#Eq-typeclass\" data-toc-modified-id=\"Eq-typeclass-3.1\"><span class=\"toc-item-num\">3.1&nbsp;&nbsp;</span>Eq typeclass</a></span></li><li><span><a href=\"#Eq-typeclass-cont'ed\" data-toc-modified-id=\"Eq-typeclass-cont'ed-3.2\"><span class=\"toc-item-num\">3.2&nbsp;&nbsp;</span>Eq typeclass cont'ed</a></span></li><li><span><a href=\"#Some-basic-typeclasses\" data-toc-modified-id=\"Some-basic-typeclasses-3.3\"><span class=\"toc-item-num\">3.3&nbsp;&nbsp;</span>Some basic typeclasses</a></span><ul class=\"toc-item\"><li><span><a href=\"#Eq\" data-toc-modified-id=\"Eq-3.3.1\"><span class=\"toc-item-num\">3.3.1&nbsp;&nbsp;</span>Eq</a></span></li><li><span><a href=\"#Ord\" data-toc-modified-id=\"Ord-3.3.2\"><span class=\"toc-item-num\">3.3.2&nbsp;&nbsp;</span>Ord</a></span></li><li><span><a href=\"#Show\" data-toc-modified-id=\"Show-3.3.3\"><span class=\"toc-item-num\">3.3.3&nbsp;&nbsp;</span>Show</a></span></li><li><span><a href=\"#Read\" data-toc-modified-id=\"Read-3.3.4\"><span class=\"toc-item-num\">3.3.4&nbsp;&nbsp;</span>Read</a></span><ul class=\"toc-item\"><li><span><a href=\"#Explicit-type-annotation\" data-toc-modified-id=\"Explicit-type-annotation-3.3.4.1\"><span class=\"toc-item-num\">3.3.4.1&nbsp;&nbsp;</span>Explicit type annotation</a></span></li></ul></li><li><span><a href=\"#Enum\" data-toc-modified-id=\"Enum-3.3.5\"><span class=\"toc-item-num\">3.3.5&nbsp;&nbsp;</span>Enum</a></span></li><li><span><a href=\"#Bounded\" data-toc-modified-id=\"Bounded-3.3.6\"><span class=\"toc-item-num\">3.3.6&nbsp;&nbsp;</span>Bounded</a></span></li><li><span><a href=\"#Num\" data-toc-modified-id=\"Num-3.3.7\"><span class=\"toc-item-num\">3.3.7&nbsp;&nbsp;</span>Num</a></span></li><li><span><a href=\"#Integral\" data-toc-modified-id=\"Integral-3.3.8\"><span class=\"toc-item-num\">3.3.8&nbsp;&nbsp;</span>Integral</a></span></li><li><span><a href=\"#Floating\" data-toc-modified-id=\"Floating-3.3.9\"><span class=\"toc-item-num\">3.3.9&nbsp;&nbsp;</span>Floating</a></span></li></ul></li><li><span><a href=\"#Number-conversions\" data-toc-modified-id=\"Number-conversions-3.4\"><span class=\"toc-item-num\">3.4&nbsp;&nbsp;</span>Number conversions</a></span><ul class=\"toc-item\"><li><span><a href=\"#fromIntegral\" data-toc-modified-id=\"fromIntegral-3.4.1\"><span class=\"toc-item-num\">3.4.1&nbsp;&nbsp;</span>fromIntegral</a></span></li><li><span><a href=\"#Example:-*\" data-toc-modified-id=\"Example:-*-3.4.2\"><span class=\"toc-item-num\">3.4.2&nbsp;&nbsp;</span>Example: <code>*</code></a></span></li><li><span><a href=\"#Type-conversion\" data-toc-modified-id=\"Type-conversion-3.4.3\"><span class=\"toc-item-num\">3.4.3&nbsp;&nbsp;</span>Type conversion</a></span></li></ul></li></ul></li><li><span><a href=\"#Summary\" data-toc-modified-id=\"Summary-4\"><span class=\"toc-item-num\">4&nbsp;&nbsp;</span>Summary</a></span></li></ul></div>"
   ]
  },
  {
   "cell_type": "markdown",
   "metadata": {},
   "source": [
    "Types and Typeclasses\n",
    "=====================\n",
    "\n",
    "Believe the type\n",
    "----------------\n",
    "\n",
    "<img src=\"img/cow.png\" title=\"moo\" style=\"float:right;margin-right:2em;\" />\n",
    "\n",
    "### Static type system\n",
    "Haskell has a static type system. \n",
    "\n",
    "* The type\n",
    "of every expression is known at compile time, which leads to safer code.\n",
    "* If you write a program where you try to divide a boolean type with some\n",
    "number, it won't even compile. \n",
    "* That's good because it's better to catch\n",
    "such errors at compile time instead of having your program crash.\n",
    "* Everything in Haskell has a type, so the compiler can reason quite a lot\n",
    "about your program before compiling it.\n",
    "\n",
    "### Type inference\n",
    "Unlike Java or Pascal, Haskell has type inference. \n",
    "\n",
    "* It can *infer* that on its\n",
    "own, so we don't have to explicitly write out the types of our functions\n",
    "and expressions to get things done. \n",
    "\n",
    "Understanding the type system is a very important part of learning\n",
    "Haskell.\n",
    "\n",
    "* A type is a kind of label that every expression has. \n",
    "* It tells us in\n",
    "which category of things that expression fits. \n",
    "* The expression [`True`](https://hackage.haskell.org/package/base/docs/Prelude.html#v:True) is a\n",
    "boolean, `\"hello\"` is a string, etc."
   ]
  },
  {
   "cell_type": "markdown",
   "metadata": {},
   "source": [
    "> __Jupyter Note:__ We'll turn off the [automatic linting for IHaskell](https://github.com/gibiansky/IHaskell/wiki#opt-no-lint) first."
   ]
  },
  {
   "cell_type": "code",
   "execution_count": 1,
   "metadata": {},
   "outputs": [],
   "source": [
    ":opt no-lint"
   ]
  },
  {
   "cell_type": "markdown",
   "metadata": {},
   "source": [
    "### Examine the types of some expressions\n",
    "We'll do\n",
    "that by using the `:t` command which, followed by any valid expression,\n",
    "tells us its type. "
   ]
  },
  {
   "cell_type": "code",
   "execution_count": 2,
   "metadata": {
    "attributes": {
     "classes": [
      "haskell:",
      "ghci"
     ],
     "id": "",
     "name": "\"code\""
    }
   },
   "outputs": [
    {
     "data": {
      "text/html": [
       "<style>/* Styles used for the Hoogle display in the pager */\n",
       ".hoogle-doc {\n",
       "display: block;\n",
       "padding-bottom: 1.3em;\n",
       "padding-left: 0.4em;\n",
       "}\n",
       ".hoogle-code {\n",
       "display: block;\n",
       "font-family: monospace;\n",
       "white-space: pre;\n",
       "}\n",
       ".hoogle-text {\n",
       "display: block;\n",
       "}\n",
       ".hoogle-name {\n",
       "color: green;\n",
       "font-weight: bold;\n",
       "}\n",
       ".hoogle-head {\n",
       "font-weight: bold;\n",
       "}\n",
       ".hoogle-sub {\n",
       "display: block;\n",
       "margin-left: 0.4em;\n",
       "}\n",
       ".hoogle-package {\n",
       "font-weight: bold;\n",
       "font-style: italic;\n",
       "}\n",
       ".hoogle-module {\n",
       "font-weight: bold;\n",
       "}\n",
       ".hoogle-class {\n",
       "font-weight: bold;\n",
       "}\n",
       ".get-type {\n",
       "color: green;\n",
       "font-weight: bold;\n",
       "font-family: monospace;\n",
       "display: block;\n",
       "white-space: pre-wrap;\n",
       "}\n",
       ".show-type {\n",
       "color: green;\n",
       "font-weight: bold;\n",
       "font-family: monospace;\n",
       "margin-left: 1em;\n",
       "}\n",
       ".mono {\n",
       "font-family: monospace;\n",
       "display: block;\n",
       "}\n",
       ".err-msg {\n",
       "color: red;\n",
       "font-style: italic;\n",
       "font-family: monospace;\n",
       "white-space: pre;\n",
       "display: block;\n",
       "}\n",
       "#unshowable {\n",
       "color: red;\n",
       "font-weight: bold;\n",
       "}\n",
       ".err-msg.in.collapse {\n",
       "padding-top: 0.7em;\n",
       "}\n",
       ".highlight-code {\n",
       "white-space: pre;\n",
       "font-family: monospace;\n",
       "}\n",
       ".suggestion-warning { \n",
       "font-weight: bold;\n",
       "color: rgb(200, 130, 0);\n",
       "}\n",
       ".suggestion-error { \n",
       "font-weight: bold;\n",
       "color: red;\n",
       "}\n",
       ".suggestion-name {\n",
       "font-weight: bold;\n",
       "}\n",
       "</style><span class='get-type'>'a' :: Char</span>"
      ],
      "text/plain": [
       "'a' :: Char"
      ]
     },
     "metadata": {},
     "output_type": "display_data"
    }
   ],
   "source": [
    ":t 'a'"
   ]
  },
  {
   "cell_type": "code",
   "execution_count": 3,
   "metadata": {
    "attributes": {
     "classes": [
      "haskell:",
      "ghci"
     ],
     "id": "",
     "name": "\"code\""
    }
   },
   "outputs": [
    {
     "data": {
      "text/html": [
       "<style>/* Styles used for the Hoogle display in the pager */\n",
       ".hoogle-doc {\n",
       "display: block;\n",
       "padding-bottom: 1.3em;\n",
       "padding-left: 0.4em;\n",
       "}\n",
       ".hoogle-code {\n",
       "display: block;\n",
       "font-family: monospace;\n",
       "white-space: pre;\n",
       "}\n",
       ".hoogle-text {\n",
       "display: block;\n",
       "}\n",
       ".hoogle-name {\n",
       "color: green;\n",
       "font-weight: bold;\n",
       "}\n",
       ".hoogle-head {\n",
       "font-weight: bold;\n",
       "}\n",
       ".hoogle-sub {\n",
       "display: block;\n",
       "margin-left: 0.4em;\n",
       "}\n",
       ".hoogle-package {\n",
       "font-weight: bold;\n",
       "font-style: italic;\n",
       "}\n",
       ".hoogle-module {\n",
       "font-weight: bold;\n",
       "}\n",
       ".hoogle-class {\n",
       "font-weight: bold;\n",
       "}\n",
       ".get-type {\n",
       "color: green;\n",
       "font-weight: bold;\n",
       "font-family: monospace;\n",
       "display: block;\n",
       "white-space: pre-wrap;\n",
       "}\n",
       ".show-type {\n",
       "color: green;\n",
       "font-weight: bold;\n",
       "font-family: monospace;\n",
       "margin-left: 1em;\n",
       "}\n",
       ".mono {\n",
       "font-family: monospace;\n",
       "display: block;\n",
       "}\n",
       ".err-msg {\n",
       "color: red;\n",
       "font-style: italic;\n",
       "font-family: monospace;\n",
       "white-space: pre;\n",
       "display: block;\n",
       "}\n",
       "#unshowable {\n",
       "color: red;\n",
       "font-weight: bold;\n",
       "}\n",
       ".err-msg.in.collapse {\n",
       "padding-top: 0.7em;\n",
       "}\n",
       ".highlight-code {\n",
       "white-space: pre;\n",
       "font-family: monospace;\n",
       "}\n",
       ".suggestion-warning { \n",
       "font-weight: bold;\n",
       "color: rgb(200, 130, 0);\n",
       "}\n",
       ".suggestion-error { \n",
       "font-weight: bold;\n",
       "color: red;\n",
       "}\n",
       ".suggestion-name {\n",
       "font-weight: bold;\n",
       "}\n",
       "</style><span class='get-type'>True :: Bool</span>"
      ],
      "text/plain": [
       "True :: Bool"
      ]
     },
     "metadata": {},
     "output_type": "display_data"
    }
   ],
   "source": [
    ":t True"
   ]
  },
  {
   "cell_type": "code",
   "execution_count": 4,
   "metadata": {
    "attributes": {
     "classes": [
      "haskell:",
      "ghci"
     ],
     "id": "",
     "name": "\"code\""
    }
   },
   "outputs": [
    {
     "data": {
      "text/html": [
       "<style>/* Styles used for the Hoogle display in the pager */\n",
       ".hoogle-doc {\n",
       "display: block;\n",
       "padding-bottom: 1.3em;\n",
       "padding-left: 0.4em;\n",
       "}\n",
       ".hoogle-code {\n",
       "display: block;\n",
       "font-family: monospace;\n",
       "white-space: pre;\n",
       "}\n",
       ".hoogle-text {\n",
       "display: block;\n",
       "}\n",
       ".hoogle-name {\n",
       "color: green;\n",
       "font-weight: bold;\n",
       "}\n",
       ".hoogle-head {\n",
       "font-weight: bold;\n",
       "}\n",
       ".hoogle-sub {\n",
       "display: block;\n",
       "margin-left: 0.4em;\n",
       "}\n",
       ".hoogle-package {\n",
       "font-weight: bold;\n",
       "font-style: italic;\n",
       "}\n",
       ".hoogle-module {\n",
       "font-weight: bold;\n",
       "}\n",
       ".hoogle-class {\n",
       "font-weight: bold;\n",
       "}\n",
       ".get-type {\n",
       "color: green;\n",
       "font-weight: bold;\n",
       "font-family: monospace;\n",
       "display: block;\n",
       "white-space: pre-wrap;\n",
       "}\n",
       ".show-type {\n",
       "color: green;\n",
       "font-weight: bold;\n",
       "font-family: monospace;\n",
       "margin-left: 1em;\n",
       "}\n",
       ".mono {\n",
       "font-family: monospace;\n",
       "display: block;\n",
       "}\n",
       ".err-msg {\n",
       "color: red;\n",
       "font-style: italic;\n",
       "font-family: monospace;\n",
       "white-space: pre;\n",
       "display: block;\n",
       "}\n",
       "#unshowable {\n",
       "color: red;\n",
       "font-weight: bold;\n",
       "}\n",
       ".err-msg.in.collapse {\n",
       "padding-top: 0.7em;\n",
       "}\n",
       ".highlight-code {\n",
       "white-space: pre;\n",
       "font-family: monospace;\n",
       "}\n",
       ".suggestion-warning { \n",
       "font-weight: bold;\n",
       "color: rgb(200, 130, 0);\n",
       "}\n",
       ".suggestion-error { \n",
       "font-weight: bold;\n",
       "color: red;\n",
       "}\n",
       ".suggestion-name {\n",
       "font-weight: bold;\n",
       "}\n",
       "</style><span class='get-type'>\"HELLO!\" :: [Char]</span>"
      ],
      "text/plain": [
       "\"HELLO!\" :: [Char]"
      ]
     },
     "metadata": {},
     "output_type": "display_data"
    }
   ],
   "source": [
    ":t \"HELLO!\""
   ]
  },
  {
   "cell_type": "code",
   "execution_count": 5,
   "metadata": {
    "attributes": {
     "classes": [
      "haskell:",
      "ghci"
     ],
     "id": "",
     "name": "\"code\""
    }
   },
   "outputs": [
    {
     "data": {
      "text/html": [
       "<style>/* Styles used for the Hoogle display in the pager */\n",
       ".hoogle-doc {\n",
       "display: block;\n",
       "padding-bottom: 1.3em;\n",
       "padding-left: 0.4em;\n",
       "}\n",
       ".hoogle-code {\n",
       "display: block;\n",
       "font-family: monospace;\n",
       "white-space: pre;\n",
       "}\n",
       ".hoogle-text {\n",
       "display: block;\n",
       "}\n",
       ".hoogle-name {\n",
       "color: green;\n",
       "font-weight: bold;\n",
       "}\n",
       ".hoogle-head {\n",
       "font-weight: bold;\n",
       "}\n",
       ".hoogle-sub {\n",
       "display: block;\n",
       "margin-left: 0.4em;\n",
       "}\n",
       ".hoogle-package {\n",
       "font-weight: bold;\n",
       "font-style: italic;\n",
       "}\n",
       ".hoogle-module {\n",
       "font-weight: bold;\n",
       "}\n",
       ".hoogle-class {\n",
       "font-weight: bold;\n",
       "}\n",
       ".get-type {\n",
       "color: green;\n",
       "font-weight: bold;\n",
       "font-family: monospace;\n",
       "display: block;\n",
       "white-space: pre-wrap;\n",
       "}\n",
       ".show-type {\n",
       "color: green;\n",
       "font-weight: bold;\n",
       "font-family: monospace;\n",
       "margin-left: 1em;\n",
       "}\n",
       ".mono {\n",
       "font-family: monospace;\n",
       "display: block;\n",
       "}\n",
       ".err-msg {\n",
       "color: red;\n",
       "font-style: italic;\n",
       "font-family: monospace;\n",
       "white-space: pre;\n",
       "display: block;\n",
       "}\n",
       "#unshowable {\n",
       "color: red;\n",
       "font-weight: bold;\n",
       "}\n",
       ".err-msg.in.collapse {\n",
       "padding-top: 0.7em;\n",
       "}\n",
       ".highlight-code {\n",
       "white-space: pre;\n",
       "font-family: monospace;\n",
       "}\n",
       ".suggestion-warning { \n",
       "font-weight: bold;\n",
       "color: rgb(200, 130, 0);\n",
       "}\n",
       ".suggestion-error { \n",
       "font-weight: bold;\n",
       "color: red;\n",
       "}\n",
       ".suggestion-name {\n",
       "font-weight: bold;\n",
       "}\n",
       "</style><span class='get-type'>(True, 'a') :: (Bool, Char)</span>"
      ],
      "text/plain": [
       "(True, 'a') :: (Bool, Char)"
      ]
     },
     "metadata": {},
     "output_type": "display_data"
    }
   ],
   "source": [
    ":t (True, 'a')"
   ]
  },
  {
   "cell_type": "code",
   "execution_count": 1,
   "metadata": {
    "attributes": {
     "classes": [
      "haskell:",
      "ghci"
     ],
     "id": "",
     "name": "\"code\""
    }
   },
   "outputs": [
    {
     "data": {
      "text/html": [
       "<style>/* Styles used for the Hoogle display in the pager */\n",
       ".hoogle-doc {\n",
       "display: block;\n",
       "padding-bottom: 1.3em;\n",
       "padding-left: 0.4em;\n",
       "}\n",
       ".hoogle-code {\n",
       "display: block;\n",
       "font-family: monospace;\n",
       "white-space: pre;\n",
       "}\n",
       ".hoogle-text {\n",
       "display: block;\n",
       "}\n",
       ".hoogle-name {\n",
       "color: green;\n",
       "font-weight: bold;\n",
       "}\n",
       ".hoogle-head {\n",
       "font-weight: bold;\n",
       "}\n",
       ".hoogle-sub {\n",
       "display: block;\n",
       "margin-left: 0.4em;\n",
       "}\n",
       ".hoogle-package {\n",
       "font-weight: bold;\n",
       "font-style: italic;\n",
       "}\n",
       ".hoogle-module {\n",
       "font-weight: bold;\n",
       "}\n",
       ".hoogle-class {\n",
       "font-weight: bold;\n",
       "}\n",
       ".get-type {\n",
       "color: green;\n",
       "font-weight: bold;\n",
       "font-family: monospace;\n",
       "display: block;\n",
       "white-space: pre-wrap;\n",
       "}\n",
       ".show-type {\n",
       "color: green;\n",
       "font-weight: bold;\n",
       "font-family: monospace;\n",
       "margin-left: 1em;\n",
       "}\n",
       ".mono {\n",
       "font-family: monospace;\n",
       "display: block;\n",
       "}\n",
       ".err-msg {\n",
       "color: red;\n",
       "font-style: italic;\n",
       "font-family: monospace;\n",
       "white-space: pre;\n",
       "display: block;\n",
       "}\n",
       "#unshowable {\n",
       "color: red;\n",
       "font-weight: bold;\n",
       "}\n",
       ".err-msg.in.collapse {\n",
       "padding-top: 0.7em;\n",
       "}\n",
       ".highlight-code {\n",
       "white-space: pre;\n",
       "font-family: monospace;\n",
       "}\n",
       ".suggestion-warning { \n",
       "font-weight: bold;\n",
       "color: rgb(200, 130, 0);\n",
       "}\n",
       ".suggestion-error { \n",
       "font-weight: bold;\n",
       "color: red;\n",
       "}\n",
       ".suggestion-name {\n",
       "font-weight: bold;\n",
       "}\n",
       "</style><span class='get-type'>4 == 5 :: Bool</span>"
      ],
      "text/plain": [
       "4 == 5 :: Bool"
      ]
     },
     "metadata": {},
     "output_type": "display_data"
    }
   ],
   "source": [
    ":t 4 == 5"
   ]
  },
  {
   "cell_type": "markdown",
   "metadata": {},
   "source": [
    "### Types \n",
    "<img src=\"img/bomb.png\" title=\"bomb\" style=\"float:right;margin-left:2em;\" /> \n",
    "\n",
    "#### Expression Types\n",
    "\n",
    "* `::` is read as \"has type of\". \n",
    "* Explicit types are always denoted with the\n",
    "first letter in capital case. \n",
    "    * `'a'`, as it would seem, has a type of [`Char`](https://hackage.haskell.org/package/base/docs/Prelude.html#t:Char), which stands for *character*. \n",
    "    * [`True`](https://hackage.haskell.org/package/base/docs/Prelude.html#v:True) is of a\n",
    "[`Bool`](https://hackage.haskell.org/package/base/docs/Prelude.html#t:Bool) type. \n",
    "    * Examining the type of\n",
    "`\"HELLO!\"` yields a `[Char]`. The square brackets denote a list. \n",
    "* Unlike lists, each tuple length\n",
    "has its own type. \n",
    "    * So the expression of `(True, 'a')` has a type of\n",
    "`(Bool, Char)`, \n",
    "    * an expression such as `('a','b','c')` would have the\n",
    "type of `(Char, Char, Char)`.\n",
    "* `4 == 5` will always return [`False`](https://hackage.haskell.org/package/base/docs/Prelude.html#v:False), so its type\n",
    "is [`Bool`](https://hackage.haskell.org/package/base/docs/Prelude.html#t:Bool).\n",
    "\n",
    "#### Function Types\n",
    "\n",
    "* Functions also have types. \n",
    "* When writing our own functions, we can choose\n",
    "to give them an explicit type declaration. \n",
    "* From here\n",
    "on, we'll give all the functions that we make type declarations.\n"
   ]
  },
  {
   "cell_type": "code",
   "execution_count": 7,
   "metadata": {
    "attributes": {
     "classes": [
      "haskell:",
      "hs"
     ],
     "id": "",
     "name": "\"code\""
    }
   },
   "outputs": [],
   "source": [
    "removeNonUppercase :: [Char] -> [Char]\n",
    "removeNonUppercase st = [ c | c <- st, \n",
    "                            c `elem` ['A'..'Z']]"
   ]
  },
  {
   "cell_type": "markdown",
   "metadata": {},
   "source": [
    "* `removeNonUppercase` has a type of `[Char] -> [Char]`, meaning that it maps\n",
    "from a string to a string. \n",
    "* It takes one string as a\n",
    "parameter and returns another as a result. \n",
    "* The `[Char]` type is synonymous\n",
    "with [`String`](https://hackage.haskell.org/package/base/docs/Prelude.html#t:String) so it's clearer if we write\n",
    "`removeNonUppercase :: String -> String`.\n",
    "* We didn't have to give this function a type declaration because\n",
    "the compiler can infer by itself that it's a function from a string to a\n",
    "string but we did anyway. "
   ]
  },
  {
   "cell_type": "markdown",
   "metadata": {},
   "source": [
    "#### Function with multiple parameters\n",
    "But how do we write out the type of a function\n",
    "that takes several parameters? "
   ]
  },
  {
   "cell_type": "code",
   "execution_count": 8,
   "metadata": {
    "attributes": {
     "classes": [
      "haskell:",
      "hs"
     ],
     "id": "",
     "name": "\"code\""
    }
   },
   "outputs": [],
   "source": [
    "addThree :: Int -> Int -> Int -> Int\n",
    "addThree x y z = x + y + z"
   ]
  },
  {
   "cell_type": "markdown",
   "metadata": {},
   "source": [
    "* The parameters are separated with `->` and there's no special distinction\n",
    "between the parameters and the return type. \n",
    "* The return type is the last\n",
    "item in the declaration and the parameters are the first three. \n",
    "* we'll see why they're all just separated with `->` instead of having some\n",
    "more explicit distinction between the return types and the parameters\n",
    "like `Int, Int, Int -> Int` or something."
   ]
  },
  {
   "cell_type": "markdown",
   "metadata": {},
   "source": [
    "#### Check funtion types\n",
    "If you want to give your function a type declaration but are unsure as\n",
    "to what it should be, \n",
    "\n",
    "* you can always just write the function without it\n",
    "and then check it with `:t`. \n",
    "* Functions are expressions too, so `:t` works\n",
    "on them without a problem."
   ]
  },
  {
   "cell_type": "markdown",
   "metadata": {},
   "source": [
    "### Common types\n",
    "Here's an overview of some common types.\n",
    "#### Int\n",
    "\n",
    "* __[`Int`](https://hackage.haskell.org/package/base/docs/Prelude.html#t:Int)__ stands for integer. \n",
    "    * It's used for whole numbers. `7` can be an [`Int`](https://hackage.haskell.org/package/base/docs/Prelude.html#t:Int) but\n",
    "`7.2` cannot. \n",
    "    * [`Int`](https://hackage.haskell.org/package/base/docs/Prelude.html#t:Int) is bounded, which means that it has a minimum and a\n",
    "maximum value. Usually on 32-bit machines the maximum possible [`Int`](https://hackage.haskell.org/package/base/docs/Prelude.html#t:Int) is\n",
    "2147483647 and the minimum is -2147483648.\n",
    "\n",
    "* __[`Integer`](https://hackage.haskell.org/package/base/docs/Prelude.html#t:Integer)__ stands for also integer. \n",
    "    * The main difference is that it's\n",
    "not bounded so it can be used to represent really really big numbers. \n",
    "    * [`Int`](https://hackage.haskell.org/package/base/docs/Prelude.html#t:Int), however, is more efficient."
   ]
  },
  {
   "cell_type": "code",
   "execution_count": 9,
   "metadata": {
    "attributes": {
     "classes": [
      "haskell:",
      "hs"
     ],
     "id": "",
     "name": "\"code\""
    }
   },
   "outputs": [],
   "source": [
    "factorial :: Integer -> Integer\n",
    "factorial n = product [1..n]"
   ]
  },
  {
   "cell_type": "code",
   "execution_count": 10,
   "metadata": {
    "attributes": {
     "classes": [
      "haskell:",
      "ghci"
     ],
     "id": "",
     "name": "\"code\""
    }
   },
   "outputs": [
    {
     "data": {
      "text/plain": [
       "30414093201713378043612608166064768844377641568960512000000000000"
      ]
     },
     "metadata": {},
     "output_type": "display_data"
    }
   ],
   "source": [
    "factorial 50"
   ]
  },
  {
   "cell_type": "markdown",
   "metadata": {},
   "source": [
    "#### Float\n",
    "__[`Float`](https://hackage.haskell.org/package/base/docs/Prelude.html#t:Float)__ is a real floating point with single precision."
   ]
  },
  {
   "cell_type": "code",
   "execution_count": 11,
   "metadata": {
    "attributes": {
     "classes": [
      "haskell:",
      "hs"
     ],
     "id": "",
     "name": "\"code\""
    }
   },
   "outputs": [],
   "source": [
    "circumference :: Float -> Float\n",
    "circumference r = 2 * pi * r"
   ]
  },
  {
   "cell_type": "code",
   "execution_count": 12,
   "metadata": {
    "attributes": {
     "classes": [
      "haskell:",
      "ghci"
     ],
     "id": "",
     "name": "\"code\""
    }
   },
   "outputs": [
    {
     "data": {
      "text/plain": [
       "25.132742"
      ]
     },
     "metadata": {},
     "output_type": "display_data"
    }
   ],
   "source": [
    "circumference 4.0"
   ]
  },
  {
   "cell_type": "markdown",
   "metadata": {},
   "source": [
    "#### Double \n",
    "__[`Double`](https://hackage.haskell.org/package/base/docs/Prelude.html#t:Double)__ is a real floating point with double the precision!"
   ]
  },
  {
   "cell_type": "code",
   "execution_count": 13,
   "metadata": {
    "attributes": {
     "classes": [
      "haskell:",
      "hs"
     ],
     "id": "",
     "name": "\"code\""
    }
   },
   "outputs": [],
   "source": [
    "circumference' :: Double -> Double\n",
    "circumference' r = 2 * pi * r"
   ]
  },
  {
   "cell_type": "code",
   "execution_count": 14,
   "metadata": {
    "attributes": {
     "classes": [
      "haskell:",
      "ghci"
     ],
     "id": "",
     "name": "\"code\""
    }
   },
   "outputs": [
    {
     "data": {
      "text/plain": [
       "25.132741228718345"
      ]
     },
     "metadata": {},
     "output_type": "display_data"
    }
   ],
   "source": [
    "circumference' 4.0"
   ]
  },
  {
   "cell_type": "markdown",
   "metadata": {},
   "source": [
    "#### Bool\n",
    "__[`Bool`](https://hackage.haskell.org/package/base/docs/Prelude.html#t:Bool)__ is a boolean type. It can have only two values: [`True`](https://hackage.haskell.org/package/base/docs/Prelude.html#v:True) and [`False`](https://hackage.haskell.org/package/base/docs/Prelude.html#v:False).\n",
    "\n",
    "#### Char\n",
    "__[`Char`](https://hackage.haskell.org/package/base/docs/Prelude.html#t:Char)__ represents a character. It's denoted by single quotes. A list of\n",
    "characters is a string.\n",
    "\n",
    "#### Tuple\n",
    "* Tuples are types but they are dependent on their length as well as the\n",
    "types of their components, \n",
    "* so there is theoretically an infinite number\n",
    "of tuple types. \n",
    "* Note that\n",
    "the empty tuple `()` is also a type which can only have a single value: `()`"
   ]
  },
  {
   "cell_type": "markdown",
   "metadata": {},
   "source": [
    "Type variables\n",
    "--------------\n",
    "\n",
    "Because [`head`](https://hackage.haskell.org/package/base/docs/Prelude.html#v:head) takes a\n",
    "list of any type and returns the first element, so what could it be?\n"
   ]
  },
  {
   "cell_type": "code",
   "execution_count": 15,
   "metadata": {
    "attributes": {
     "classes": [
      "haskell:",
      "ghci"
     ],
     "id": "",
     "name": "\"code\""
    }
   },
   "outputs": [
    {
     "data": {
      "text/html": [
       "<style>/* Styles used for the Hoogle display in the pager */\n",
       ".hoogle-doc {\n",
       "display: block;\n",
       "padding-bottom: 1.3em;\n",
       "padding-left: 0.4em;\n",
       "}\n",
       ".hoogle-code {\n",
       "display: block;\n",
       "font-family: monospace;\n",
       "white-space: pre;\n",
       "}\n",
       ".hoogle-text {\n",
       "display: block;\n",
       "}\n",
       ".hoogle-name {\n",
       "color: green;\n",
       "font-weight: bold;\n",
       "}\n",
       ".hoogle-head {\n",
       "font-weight: bold;\n",
       "}\n",
       ".hoogle-sub {\n",
       "display: block;\n",
       "margin-left: 0.4em;\n",
       "}\n",
       ".hoogle-package {\n",
       "font-weight: bold;\n",
       "font-style: italic;\n",
       "}\n",
       ".hoogle-module {\n",
       "font-weight: bold;\n",
       "}\n",
       ".hoogle-class {\n",
       "font-weight: bold;\n",
       "}\n",
       ".get-type {\n",
       "color: green;\n",
       "font-weight: bold;\n",
       "font-family: monospace;\n",
       "display: block;\n",
       "white-space: pre-wrap;\n",
       "}\n",
       ".show-type {\n",
       "color: green;\n",
       "font-weight: bold;\n",
       "font-family: monospace;\n",
       "margin-left: 1em;\n",
       "}\n",
       ".mono {\n",
       "font-family: monospace;\n",
       "display: block;\n",
       "}\n",
       ".err-msg {\n",
       "color: red;\n",
       "font-style: italic;\n",
       "font-family: monospace;\n",
       "white-space: pre;\n",
       "display: block;\n",
       "}\n",
       "#unshowable {\n",
       "color: red;\n",
       "font-weight: bold;\n",
       "}\n",
       ".err-msg.in.collapse {\n",
       "padding-top: 0.7em;\n",
       "}\n",
       ".highlight-code {\n",
       "white-space: pre;\n",
       "font-family: monospace;\n",
       "}\n",
       ".suggestion-warning { \n",
       "font-weight: bold;\n",
       "color: rgb(200, 130, 0);\n",
       "}\n",
       ".suggestion-error { \n",
       "font-weight: bold;\n",
       "color: red;\n",
       "}\n",
       ".suggestion-name {\n",
       "font-weight: bold;\n",
       "}\n",
       "</style><span class='get-type'>head :: forall a. [a] -> a</span>"
      ],
      "text/plain": [
       "head :: forall a. [a] -> a"
      ]
     },
     "metadata": {},
     "output_type": "display_data"
    }
   ],
   "source": [
    ":t head"
   ]
  },
  {
   "cell_type": "markdown",
   "metadata": {},
   "source": [
    "### Type variable\n",
    "<img src=\"img/box.png\" title=\"box\" style=\"float:right;margin-right:2em;\" /> Hmmm! What is this `a`? Is it\n",
    "a type? \n",
    "\n",
    "* types are written in\n",
    "capital case, so it can't exactly be a type. \n",
    "* it's actually a *type variable*. That means that `a` can be of any\n",
    "type. \n",
    "* This is much like generics in other languages, only in Haskell\n",
    "it's much more powerful because it allows us to easily write very\n",
    "general functions if they don't use any specific behavior of the types.\n",
    "* Functions that have type variables are called *polymorphic\n",
    "functions*. "
   ]
  },
  {
   "cell_type": "markdown",
   "metadata": {},
   "source": [
    "### Type variable examples\n",
    "Although type variables can have names longer than one character, we\n",
    "usually give them names of a, b, c, d …\n",
    "\n",
    "The type declaration of [`head`](https://hackage.haskell.org/package/base/docs/Prelude.html#v:head) states that it takes a list of\n",
    "any type and returns one element of that type."
   ]
  },
  {
   "cell_type": "code",
   "execution_count": 16,
   "metadata": {
    "attributes": {
     "classes": [
      "haskell:",
      "ghci"
     ],
     "id": "",
     "name": "\"code\""
    }
   },
   "outputs": [
    {
     "data": {
      "text/html": [
       "<style>/* Styles used for the Hoogle display in the pager */\n",
       ".hoogle-doc {\n",
       "display: block;\n",
       "padding-bottom: 1.3em;\n",
       "padding-left: 0.4em;\n",
       "}\n",
       ".hoogle-code {\n",
       "display: block;\n",
       "font-family: monospace;\n",
       "white-space: pre;\n",
       "}\n",
       ".hoogle-text {\n",
       "display: block;\n",
       "}\n",
       ".hoogle-name {\n",
       "color: green;\n",
       "font-weight: bold;\n",
       "}\n",
       ".hoogle-head {\n",
       "font-weight: bold;\n",
       "}\n",
       ".hoogle-sub {\n",
       "display: block;\n",
       "margin-left: 0.4em;\n",
       "}\n",
       ".hoogle-package {\n",
       "font-weight: bold;\n",
       "font-style: italic;\n",
       "}\n",
       ".hoogle-module {\n",
       "font-weight: bold;\n",
       "}\n",
       ".hoogle-class {\n",
       "font-weight: bold;\n",
       "}\n",
       ".get-type {\n",
       "color: green;\n",
       "font-weight: bold;\n",
       "font-family: monospace;\n",
       "display: block;\n",
       "white-space: pre-wrap;\n",
       "}\n",
       ".show-type {\n",
       "color: green;\n",
       "font-weight: bold;\n",
       "font-family: monospace;\n",
       "margin-left: 1em;\n",
       "}\n",
       ".mono {\n",
       "font-family: monospace;\n",
       "display: block;\n",
       "}\n",
       ".err-msg {\n",
       "color: red;\n",
       "font-style: italic;\n",
       "font-family: monospace;\n",
       "white-space: pre;\n",
       "display: block;\n",
       "}\n",
       "#unshowable {\n",
       "color: red;\n",
       "font-weight: bold;\n",
       "}\n",
       ".err-msg.in.collapse {\n",
       "padding-top: 0.7em;\n",
       "}\n",
       ".highlight-code {\n",
       "white-space: pre;\n",
       "font-family: monospace;\n",
       "}\n",
       ".suggestion-warning { \n",
       "font-weight: bold;\n",
       "color: rgb(200, 130, 0);\n",
       "}\n",
       ".suggestion-error { \n",
       "font-weight: bold;\n",
       "color: red;\n",
       "}\n",
       ".suggestion-name {\n",
       "font-weight: bold;\n",
       "}\n",
       "</style><span class='get-type'>head :: forall a. [a] -> a</span>"
      ],
      "text/plain": [
       "head :: forall a. [a] -> a"
      ]
     },
     "metadata": {},
     "output_type": "display_data"
    }
   ],
   "source": [
    ":t head"
   ]
  },
  {
   "cell_type": "code",
   "execution_count": 17,
   "metadata": {
    "attributes": {
     "classes": [
      "haskell:",
      "ghci"
     ],
     "id": "",
     "name": "\"code\""
    }
   },
   "outputs": [
    {
     "data": {
      "text/html": [
       "<style>/* Styles used for the Hoogle display in the pager */\n",
       ".hoogle-doc {\n",
       "display: block;\n",
       "padding-bottom: 1.3em;\n",
       "padding-left: 0.4em;\n",
       "}\n",
       ".hoogle-code {\n",
       "display: block;\n",
       "font-family: monospace;\n",
       "white-space: pre;\n",
       "}\n",
       ".hoogle-text {\n",
       "display: block;\n",
       "}\n",
       ".hoogle-name {\n",
       "color: green;\n",
       "font-weight: bold;\n",
       "}\n",
       ".hoogle-head {\n",
       "font-weight: bold;\n",
       "}\n",
       ".hoogle-sub {\n",
       "display: block;\n",
       "margin-left: 0.4em;\n",
       "}\n",
       ".hoogle-package {\n",
       "font-weight: bold;\n",
       "font-style: italic;\n",
       "}\n",
       ".hoogle-module {\n",
       "font-weight: bold;\n",
       "}\n",
       ".hoogle-class {\n",
       "font-weight: bold;\n",
       "}\n",
       ".get-type {\n",
       "color: green;\n",
       "font-weight: bold;\n",
       "font-family: monospace;\n",
       "display: block;\n",
       "white-space: pre-wrap;\n",
       "}\n",
       ".show-type {\n",
       "color: green;\n",
       "font-weight: bold;\n",
       "font-family: monospace;\n",
       "margin-left: 1em;\n",
       "}\n",
       ".mono {\n",
       "font-family: monospace;\n",
       "display: block;\n",
       "}\n",
       ".err-msg {\n",
       "color: red;\n",
       "font-style: italic;\n",
       "font-family: monospace;\n",
       "white-space: pre;\n",
       "display: block;\n",
       "}\n",
       "#unshowable {\n",
       "color: red;\n",
       "font-weight: bold;\n",
       "}\n",
       ".err-msg.in.collapse {\n",
       "padding-top: 0.7em;\n",
       "}\n",
       ".highlight-code {\n",
       "white-space: pre;\n",
       "font-family: monospace;\n",
       "}\n",
       ".suggestion-warning { \n",
       "font-weight: bold;\n",
       "color: rgb(200, 130, 0);\n",
       "}\n",
       ".suggestion-error { \n",
       "font-weight: bold;\n",
       "color: red;\n",
       "}\n",
       ".suggestion-name {\n",
       "font-weight: bold;\n",
       "}\n",
       "</style><span class='get-type'>fst :: forall a b. (a, b) -> a</span>"
      ],
      "text/plain": [
       "fst :: forall a b. (a, b) -> a"
      ]
     },
     "metadata": {},
     "output_type": "display_data"
    }
   ],
   "source": [
    ":t fst"
   ]
  },
  {
   "cell_type": "markdown",
   "metadata": {},
   "source": [
    "* [`fst`](https://hackage.haskell.org/package/base/docs/Prelude.html#v:fst) takes a tuple which contains two types and returns an\n",
    "element which is of the same type as the pair's first component. \n",
    "* That's\n",
    "why we can use [`fst`](https://hackage.haskell.org/package/base/docs/Prelude.html#v:fst) on a pair that contains any two types. \n",
    "* __Note__ that just\n",
    "because `a` and `b` are different type variables, they don't have to be\n",
    "different types. It just states that the first component's type and the\n",
    "return value's type are the same.\n",
    "\n",
    "<a name=\"typeclasses-101\"></a>\n",
    "\n",
    "Typeclasses 101\n",
    "---------------\n",
    "\n",
    "<img src=\"img/classes.png\" title=\"class\" style=\"float:right;margin-left:2em;\" />\n",
    "\n",
    "* A typeclass is a sort of interface that defines some behavior. \n",
    "* If a type\n",
    "is a part of a typeclass, that means that it supports and implements the\n",
    "behavior the typeclass describes. \n",
    "* Typeclasses are __NOT__ like classes in\n",
    "object oriented languages. They are like Java interfaces."
   ]
  },
  {
   "cell_type": "markdown",
   "metadata": {},
   "source": [
    "### Eq typeclass\n",
    "What's the type signature of the [`==`](https://hackage.haskell.org/package/base/docs/Prelude.html#v:-61--61-) function?"
   ]
  },
  {
   "cell_type": "code",
   "execution_count": 18,
   "metadata": {
    "attributes": {
     "classes": [
      "haskell:",
      "ghci"
     ],
     "id": "",
     "name": "\"code\""
    }
   },
   "outputs": [
    {
     "data": {
      "text/html": [
       "<style>/* Styles used for the Hoogle display in the pager */\n",
       ".hoogle-doc {\n",
       "display: block;\n",
       "padding-bottom: 1.3em;\n",
       "padding-left: 0.4em;\n",
       "}\n",
       ".hoogle-code {\n",
       "display: block;\n",
       "font-family: monospace;\n",
       "white-space: pre;\n",
       "}\n",
       ".hoogle-text {\n",
       "display: block;\n",
       "}\n",
       ".hoogle-name {\n",
       "color: green;\n",
       "font-weight: bold;\n",
       "}\n",
       ".hoogle-head {\n",
       "font-weight: bold;\n",
       "}\n",
       ".hoogle-sub {\n",
       "display: block;\n",
       "margin-left: 0.4em;\n",
       "}\n",
       ".hoogle-package {\n",
       "font-weight: bold;\n",
       "font-style: italic;\n",
       "}\n",
       ".hoogle-module {\n",
       "font-weight: bold;\n",
       "}\n",
       ".hoogle-class {\n",
       "font-weight: bold;\n",
       "}\n",
       ".get-type {\n",
       "color: green;\n",
       "font-weight: bold;\n",
       "font-family: monospace;\n",
       "display: block;\n",
       "white-space: pre-wrap;\n",
       "}\n",
       ".show-type {\n",
       "color: green;\n",
       "font-weight: bold;\n",
       "font-family: monospace;\n",
       "margin-left: 1em;\n",
       "}\n",
       ".mono {\n",
       "font-family: monospace;\n",
       "display: block;\n",
       "}\n",
       ".err-msg {\n",
       "color: red;\n",
       "font-style: italic;\n",
       "font-family: monospace;\n",
       "white-space: pre;\n",
       "display: block;\n",
       "}\n",
       "#unshowable {\n",
       "color: red;\n",
       "font-weight: bold;\n",
       "}\n",
       ".err-msg.in.collapse {\n",
       "padding-top: 0.7em;\n",
       "}\n",
       ".highlight-code {\n",
       "white-space: pre;\n",
       "font-family: monospace;\n",
       "}\n",
       ".suggestion-warning { \n",
       "font-weight: bold;\n",
       "color: rgb(200, 130, 0);\n",
       "}\n",
       ".suggestion-error { \n",
       "font-weight: bold;\n",
       "color: red;\n",
       "}\n",
       ".suggestion-name {\n",
       "font-weight: bold;\n",
       "}\n",
       "</style><span class='get-type'>(==) :: forall a. Eq a => a -> a -> Bool</span>"
      ],
      "text/plain": [
       "(==) :: forall a. Eq a => a -> a -> Bool"
      ]
     },
     "metadata": {},
     "output_type": "display_data"
    }
   ],
   "source": [
    ":t (==)"
   ]
  },
  {
   "cell_type": "markdown",
   "metadata": {},
   "source": [
    "__Note__: \n",
    "\n",
    "* the equality operator, [`==`](https://hackage.haskell.org/package/base/docs/Prelude.html#v:-61--61-) is a function. \n",
    "* So are [`+`](https://hackage.haskell.org/package/base/docs/Prelude.html#v:-43-), [`*`](https://hackage.haskell.org/package/base/docs/Prelude.html#v:-42-), [`-`](https://hackage.haskell.org/package/base/docs/Prelude.html#v:-45-), [`/`](https://hackage.haskell.org/package/base/docs/Prelude.html#v:-47-) and\n",
    "pretty much all operators. \n",
    "* If a function is comprised only of special\n",
    " characters, it's considered an infix function by default. \n",
    "* If we want to examine its type, pass it to another function or call it as a prefix function, we have to surround it in parentheses."
   ]
  },
  {
   "cell_type": "code",
   "execution_count": 19,
   "metadata": {},
   "outputs": [
    {
     "data": {
      "text/plain": [
       "True"
      ]
     },
     "metadata": {},
     "output_type": "display_data"
    }
   ],
   "source": [
    "(==) 2 2"
   ]
  },
  {
   "cell_type": "code",
   "execution_count": 20,
   "metadata": {
    "attributes": {
     "classes": [
      "haskell:",
      "ghci"
     ],
     "id": "",
     "name": "\"code\""
    }
   },
   "outputs": [
    {
     "data": {
      "text/html": [
       "<style>/* Styles used for the Hoogle display in the pager */\n",
       ".hoogle-doc {\n",
       "display: block;\n",
       "padding-bottom: 1.3em;\n",
       "padding-left: 0.4em;\n",
       "}\n",
       ".hoogle-code {\n",
       "display: block;\n",
       "font-family: monospace;\n",
       "white-space: pre;\n",
       "}\n",
       ".hoogle-text {\n",
       "display: block;\n",
       "}\n",
       ".hoogle-name {\n",
       "color: green;\n",
       "font-weight: bold;\n",
       "}\n",
       ".hoogle-head {\n",
       "font-weight: bold;\n",
       "}\n",
       ".hoogle-sub {\n",
       "display: block;\n",
       "margin-left: 0.4em;\n",
       "}\n",
       ".hoogle-package {\n",
       "font-weight: bold;\n",
       "font-style: italic;\n",
       "}\n",
       ".hoogle-module {\n",
       "font-weight: bold;\n",
       "}\n",
       ".hoogle-class {\n",
       "font-weight: bold;\n",
       "}\n",
       ".get-type {\n",
       "color: green;\n",
       "font-weight: bold;\n",
       "font-family: monospace;\n",
       "display: block;\n",
       "white-space: pre-wrap;\n",
       "}\n",
       ".show-type {\n",
       "color: green;\n",
       "font-weight: bold;\n",
       "font-family: monospace;\n",
       "margin-left: 1em;\n",
       "}\n",
       ".mono {\n",
       "font-family: monospace;\n",
       "display: block;\n",
       "}\n",
       ".err-msg {\n",
       "color: red;\n",
       "font-style: italic;\n",
       "font-family: monospace;\n",
       "white-space: pre;\n",
       "display: block;\n",
       "}\n",
       "#unshowable {\n",
       "color: red;\n",
       "font-weight: bold;\n",
       "}\n",
       ".err-msg.in.collapse {\n",
       "padding-top: 0.7em;\n",
       "}\n",
       ".highlight-code {\n",
       "white-space: pre;\n",
       "font-family: monospace;\n",
       "}\n",
       ".suggestion-warning { \n",
       "font-weight: bold;\n",
       "color: rgb(200, 130, 0);\n",
       "}\n",
       ".suggestion-error { \n",
       "font-weight: bold;\n",
       "color: red;\n",
       "}\n",
       ".suggestion-name {\n",
       "font-weight: bold;\n",
       "}\n",
       "</style><span class='get-type'>(==) :: forall a. Eq a => a -> a -> Bool</span>"
      ],
      "text/plain": [
       "(==) :: forall a. Eq a => a -> a -> Bool"
      ]
     },
     "metadata": {},
     "output_type": "display_data"
    }
   ],
   "source": [
    ":t (==)"
   ]
  },
  {
   "cell_type": "markdown",
   "metadata": {},
   "source": [
    "* Everything before\n",
    "the `=>` symbol is called a *class constraint*. \n",
    "* It reads like this: the equality function takes any two values\n",
    "that are of the same type and returns a [`Bool`](https://hackage.haskell.org/package/base/docs/Prelude.html#t:Bool). \n",
    "### Eq typeclass cont'ed\n",
    "* The type of those two\n",
    "values must be a member of the `Eq` class (this was the class constraint).\n",
    "* The `Eq` typeclass provides an interface for testing for equality. \n",
    "* Any\n",
    "type where it makes sense to test for equality between two values of\n",
    "that type should be a member of the `Eq` class. \n",
    "* All standard Haskell types\n",
    "except for [`IO`](https://hackage.haskell.org/package/base/docs/Prelude.html#t:IO) (the type for dealing with input and output) and functions\n",
    "are a part of the `Eq` typeclass.\n",
    "* The [`elem`](https://hackage.haskell.org/package/base/docs/Prelude.html#v:elem) function has a type of `(Eq a) => a -> [a] -> Bool` because it\n",
    "uses [`==`](https://hackage.haskell.org/package/base/docs/Prelude.html#v:-61--61-) over a list to check whether some value we're looking for is in\n",
    "it."
   ]
  },
  {
   "cell_type": "markdown",
   "metadata": {},
   "source": [
    "### Some basic typeclasses\n",
    "#### Eq\n",
    "* __`Eq`__ is used for types that support equality testing. \n",
    "* The functions its\n",
    "members implement are [`==`](https://hackage.haskell.org/package/base/docs/Prelude.html#v:-61--61-) and [`/=`](https://hackage.haskell.org/package/base/docs/Prelude.html#v:-47--61-). \n",
    "* So if there's an `Eq` class constraint\n",
    "for a type variable in a function, it uses [`==`](https://hackage.haskell.org/package/base/docs/Prelude.html#v:-61--61-) or [`/=`](https://hackage.haskell.org/package/base/docs/Prelude.html#v:-47--61-) somewhere inside its\n",
    "definition. \n",
    "* All the types we mentioned previously except for functions\n",
    "are part of `Eq`, so they can be tested for equality."
   ]
  },
  {
   "cell_type": "code",
   "execution_count": 21,
   "metadata": {
    "attributes": {
     "classes": [
      "haskell:",
      "ghci"
     ],
     "id": "",
     "name": "\"code\""
    }
   },
   "outputs": [
    {
     "data": {
      "text/plain": [
       "True"
      ]
     },
     "metadata": {},
     "output_type": "display_data"
    }
   ],
   "source": [
    "5 == 5"
   ]
  },
  {
   "cell_type": "code",
   "execution_count": 22,
   "metadata": {
    "attributes": {
     "classes": [
      "haskell:",
      "ghci"
     ],
     "id": "",
     "name": "\"code\""
    }
   },
   "outputs": [
    {
     "data": {
      "text/plain": [
       "False"
      ]
     },
     "metadata": {},
     "output_type": "display_data"
    }
   ],
   "source": [
    "5 /= 5"
   ]
  },
  {
   "cell_type": "code",
   "execution_count": 23,
   "metadata": {
    "attributes": {
     "classes": [
      "haskell:",
      "ghci"
     ],
     "id": "",
     "name": "\"code\""
    }
   },
   "outputs": [
    {
     "data": {
      "text/plain": [
       "True"
      ]
     },
     "metadata": {},
     "output_type": "display_data"
    }
   ],
   "source": [
    "'a' == 'a'"
   ]
  },
  {
   "cell_type": "code",
   "execution_count": 24,
   "metadata": {
    "attributes": {
     "classes": [
      "haskell:",
      "ghci"
     ],
     "id": "",
     "name": "\"code\""
    }
   },
   "outputs": [
    {
     "data": {
      "text/plain": [
       "True"
      ]
     },
     "metadata": {},
     "output_type": "display_data"
    }
   ],
   "source": [
    "\"Ho Ho\" == \"Ho Ho\""
   ]
  },
  {
   "cell_type": "code",
   "execution_count": 25,
   "metadata": {
    "attributes": {
     "classes": [
      "haskell:",
      "ghci"
     ],
     "id": "",
     "name": "\"code\""
    }
   },
   "outputs": [
    {
     "data": {
      "text/plain": [
       "True"
      ]
     },
     "metadata": {},
     "output_type": "display_data"
    }
   ],
   "source": [
    "3.432 == 3.432"
   ]
  },
  {
   "cell_type": "markdown",
   "metadata": {},
   "source": [
    "#### Ord\n",
    "__[`Ord`](https://hackage.haskell.org/package/base/docs/Prelude.html#t:Ord)__ is for types that have an ordering."
   ]
  },
  {
   "cell_type": "code",
   "execution_count": 26,
   "metadata": {
    "attributes": {
     "classes": [
      "haskell:",
      "ghci"
     ],
     "id": "",
     "name": "\"code\""
    }
   },
   "outputs": [
    {
     "data": {
      "text/html": [
       "<style>/* Styles used for the Hoogle display in the pager */\n",
       ".hoogle-doc {\n",
       "display: block;\n",
       "padding-bottom: 1.3em;\n",
       "padding-left: 0.4em;\n",
       "}\n",
       ".hoogle-code {\n",
       "display: block;\n",
       "font-family: monospace;\n",
       "white-space: pre;\n",
       "}\n",
       ".hoogle-text {\n",
       "display: block;\n",
       "}\n",
       ".hoogle-name {\n",
       "color: green;\n",
       "font-weight: bold;\n",
       "}\n",
       ".hoogle-head {\n",
       "font-weight: bold;\n",
       "}\n",
       ".hoogle-sub {\n",
       "display: block;\n",
       "margin-left: 0.4em;\n",
       "}\n",
       ".hoogle-package {\n",
       "font-weight: bold;\n",
       "font-style: italic;\n",
       "}\n",
       ".hoogle-module {\n",
       "font-weight: bold;\n",
       "}\n",
       ".hoogle-class {\n",
       "font-weight: bold;\n",
       "}\n",
       ".get-type {\n",
       "color: green;\n",
       "font-weight: bold;\n",
       "font-family: monospace;\n",
       "display: block;\n",
       "white-space: pre-wrap;\n",
       "}\n",
       ".show-type {\n",
       "color: green;\n",
       "font-weight: bold;\n",
       "font-family: monospace;\n",
       "margin-left: 1em;\n",
       "}\n",
       ".mono {\n",
       "font-family: monospace;\n",
       "display: block;\n",
       "}\n",
       ".err-msg {\n",
       "color: red;\n",
       "font-style: italic;\n",
       "font-family: monospace;\n",
       "white-space: pre;\n",
       "display: block;\n",
       "}\n",
       "#unshowable {\n",
       "color: red;\n",
       "font-weight: bold;\n",
       "}\n",
       ".err-msg.in.collapse {\n",
       "padding-top: 0.7em;\n",
       "}\n",
       ".highlight-code {\n",
       "white-space: pre;\n",
       "font-family: monospace;\n",
       "}\n",
       ".suggestion-warning { \n",
       "font-weight: bold;\n",
       "color: rgb(200, 130, 0);\n",
       "}\n",
       ".suggestion-error { \n",
       "font-weight: bold;\n",
       "color: red;\n",
       "}\n",
       ".suggestion-name {\n",
       "font-weight: bold;\n",
       "}\n",
       "</style><span class='get-type'>(>) :: forall a. Ord a => a -> a -> Bool</span>"
      ],
      "text/plain": [
       "(>) :: forall a. Ord a => a -> a -> Bool"
      ]
     },
     "metadata": {},
     "output_type": "display_data"
    }
   ],
   "source": [
    ":t (>)"
   ]
  },
  {
   "cell_type": "markdown",
   "metadata": {},
   "source": [
    "* All the types we covered so far except for functions are part of [`Ord`](https://hackage.haskell.org/package/base/docs/Prelude.html#t:Ord).\n",
    "* [`Ord`](https://hackage.haskell.org/package/base/docs/Prelude.html#t:Ord) covers all the standard comparing functions such as [`>`](https://hackage.haskell.org/package/base/docs/Prelude.html#v:-62-), [`<`](https://hackage.haskell.org/package/base/docs/Prelude.html#v:-60-), [`>=`](https://hackage.haskell.org/package/base/docs/Prelude.html#v:-62--61-) and\n",
    "[`<=`](https://hackage.haskell.org/package/base/docs/Prelude.html#v:-60--61-). \n",
    "* The [`compare`](https://hackage.haskell.org/package/base/docs/Prelude.html#v:compare) function takes two [`Ord`](https://hackage.haskell.org/package/base/docs/Prelude.html#t:Ord) members of the same type and\n",
    "returns an ordering. \n",
    "\n",
    "* [`Ordering`](https://hackage.haskell.org/package/base/docs/Prelude.html#t:Ordering) is a type that can be [`GT`](https://hackage.haskell.org/package/base/docs/Prelude.html#v:GT), [`LT`](https://hackage.haskell.org/package/base/docs/Prelude.html#v:LT) or [`EQ`](https://hackage.haskell.org/package/base/docs/Prelude.html#v:EQ), meaning *greater than*, *lesser than* and *equal*, respectively.\n",
    "* To be a member of [`Ord`](https://hackage.haskell.org/package/base/docs/Prelude.html#t:Ord), a type must first have membership in the\n",
    "prestigious and exclusive `Eq` club."
   ]
  },
  {
   "cell_type": "code",
   "execution_count": 27,
   "metadata": {
    "attributes": {
     "classes": [
      "haskell:",
      "ghci"
     ],
     "id": "",
     "name": "\"code\""
    }
   },
   "outputs": [
    {
     "data": {
      "text/plain": [
       "True"
      ]
     },
     "metadata": {},
     "output_type": "display_data"
    }
   ],
   "source": [
    "\"Abrakadabra\" < \"Zebra\""
   ]
  },
  {
   "cell_type": "code",
   "execution_count": 28,
   "metadata": {
    "attributes": {
     "classes": [
      "haskell:",
      "ghci"
     ],
     "id": "",
     "name": "\"code\""
    }
   },
   "outputs": [
    {
     "data": {
      "text/plain": [
       "LT"
      ]
     },
     "metadata": {},
     "output_type": "display_data"
    }
   ],
   "source": [
    "\"Abrakadabra\" `compare` \"Zebra\""
   ]
  },
  {
   "cell_type": "code",
   "execution_count": 29,
   "metadata": {
    "attributes": {
     "classes": [
      "haskell:",
      "ghci"
     ],
     "id": "",
     "name": "\"code\""
    }
   },
   "outputs": [
    {
     "data": {
      "text/plain": [
       "True"
      ]
     },
     "metadata": {},
     "output_type": "display_data"
    }
   ],
   "source": [
    "5 >= 2"
   ]
  },
  {
   "cell_type": "code",
   "execution_count": 30,
   "metadata": {
    "attributes": {
     "classes": [
      "haskell:",
      "ghci"
     ],
     "id": "",
     "name": "\"code\""
    }
   },
   "outputs": [
    {
     "data": {
      "text/plain": [
       "GT"
      ]
     },
     "metadata": {},
     "output_type": "display_data"
    }
   ],
   "source": [
    "5 `compare` 3"
   ]
  },
  {
   "cell_type": "markdown",
   "metadata": {},
   "source": [
    "#### Show\n",
    "* Members of __[`Show`](https://hackage.haskell.org/package/base/docs/Prelude.html#t:Show)__ can be presented as strings. \n",
    "* All types covered so far\n",
    "except for functions are a part of [`Show`](https://hackage.haskell.org/package/base/docs/Prelude.html#t:Show). \n",
    "* The most used function that\n",
    "deals with the [`Show`](https://hackage.haskell.org/package/base/docs/Prelude.html#t:Show) typeclass is show. It takes a value whose type is a\n",
    "member of [`Show`](https://hackage.haskell.org/package/base/docs/Prelude.html#t:Show) and presents it to us as a string."
   ]
  },
  {
   "cell_type": "code",
   "execution_count": 31,
   "metadata": {
    "attributes": {
     "classes": [
      "haskell:",
      "ghci"
     ],
     "id": "",
     "name": "\"code\""
    }
   },
   "outputs": [
    {
     "data": {
      "text/plain": [
       "\"3\""
      ]
     },
     "metadata": {},
     "output_type": "display_data"
    }
   ],
   "source": [
    "show 3"
   ]
  },
  {
   "cell_type": "code",
   "execution_count": 32,
   "metadata": {
    "attributes": {
     "classes": [
      "haskell:",
      "ghci"
     ],
     "id": "",
     "name": "\"code\""
    }
   },
   "outputs": [
    {
     "data": {
      "text/plain": [
       "\"5.334\""
      ]
     },
     "metadata": {},
     "output_type": "display_data"
    }
   ],
   "source": [
    "show 5.334"
   ]
  },
  {
   "cell_type": "code",
   "execution_count": 33,
   "metadata": {
    "attributes": {
     "classes": [
      "haskell:",
      "ghci"
     ],
     "id": "",
     "name": "\"code\""
    }
   },
   "outputs": [
    {
     "data": {
      "text/plain": [
       "\"True\""
      ]
     },
     "metadata": {},
     "output_type": "display_data"
    }
   ],
   "source": [
    "show True"
   ]
  },
  {
   "cell_type": "markdown",
   "metadata": {},
   "source": [
    "#### Read\n",
    "* __[`Read`](https://hackage.haskell.org/package/base/docs/Prelude.html#t:Read)__ is sort of the opposite typeclass of [`Show`](https://hackage.haskell.org/package/base/docs/Prelude.html#t:Show). \n",
    "* The [`read`](https://hackage.haskell.org/package/base/docs/Prelude.html#v:read) function takes\n",
    "a string and returns a type which is a member of [`Read`](https://hackage.haskell.org/package/base/docs/Prelude.html#t:Read)."
   ]
  },
  {
   "cell_type": "code",
   "execution_count": 34,
   "metadata": {
    "attributes": {
     "classes": [
      "haskell:",
      "ghci"
     ],
     "id": "",
     "name": "\"code\""
    }
   },
   "outputs": [
    {
     "data": {
      "text/plain": [
       "True"
      ]
     },
     "metadata": {},
     "output_type": "display_data"
    }
   ],
   "source": [
    "read \"True\" || False"
   ]
  },
  {
   "cell_type": "code",
   "execution_count": 35,
   "metadata": {
    "attributes": {
     "classes": [
      "haskell:",
      "ghci"
     ],
     "id": "",
     "name": "\"code\""
    }
   },
   "outputs": [
    {
     "data": {
      "text/plain": [
       "12.0"
      ]
     },
     "metadata": {},
     "output_type": "display_data"
    }
   ],
   "source": [
    "read \"8.2\" + 3.8"
   ]
  },
  {
   "cell_type": "code",
   "execution_count": 36,
   "metadata": {
    "attributes": {
     "classes": [
      "haskell:",
      "ghci"
     ],
     "id": "",
     "name": "\"code\""
    }
   },
   "outputs": [
    {
     "data": {
      "text/plain": [
       "3"
      ]
     },
     "metadata": {},
     "output_type": "display_data"
    }
   ],
   "source": [
    "read \"5\" - 2"
   ]
  },
  {
   "cell_type": "code",
   "execution_count": 37,
   "metadata": {
    "attributes": {
     "classes": [
      "haskell:",
      "ghci"
     ],
     "id": "",
     "name": "\"code\""
    }
   },
   "outputs": [
    {
     "data": {
      "text/plain": [
       "[1,2,3,4,3]"
      ]
     },
     "metadata": {},
     "output_type": "display_data"
    }
   ],
   "source": [
    "read \"[1,2,3,4]\" ++ [3]"
   ]
  },
  {
   "cell_type": "markdown",
   "metadata": {},
   "source": [
    "But what happens if we try to do just `read \"4\"`?"
   ]
  },
  {
   "cell_type": "code",
   "execution_count": 38,
   "metadata": {
    "attributes": {
     "classes": [
      "haskell:",
      "ghci"
     ],
     "id": "",
     "name": "\"code\""
    }
   },
   "outputs": [
    {
     "ename": "",
     "evalue": "",
     "output_type": "error",
     "traceback": [
      "Prelude.read: no parse"
     ]
    }
   ],
   "source": [
    "read \"4\""
   ]
  },
  {
   "cell_type": "markdown",
   "metadata": {
    "attributes": {
     "classes": [
      "haskell:",
      "ghci"
     ],
     "id": "",
     "name": "\"code\""
    }
   },
   "source": [
    "The complete error messages:\n",
    "<interactive>:1:0:\n",
    "    Ambiguous type variable `a' in the constraint:\n",
    "      `Read a' arising from a use of `read' at <interactive>:1:0-7\n",
    "    Probable fix: add a type signature that fixes these type variable(s)"
   ]
  },
  {
   "cell_type": "markdown",
   "metadata": {},
   "source": [
    "* What GHC is telling us here is that it doesn't know what we want in\n",
    "return. "
   ]
  },
  {
   "cell_type": "markdown",
   "metadata": {},
   "source": [
    "Let's take a look at the\n",
    "type signature of [`read`](https://hackage.haskell.org/package/base/docs/Prelude.html#v:read)."
   ]
  },
  {
   "cell_type": "code",
   "execution_count": 39,
   "metadata": {
    "attributes": {
     "classes": [
      "haskell:",
      "ghci"
     ],
     "id": "",
     "name": "\"code\""
    }
   },
   "outputs": [
    {
     "data": {
      "text/html": [
       "<style>/* Styles used for the Hoogle display in the pager */\n",
       ".hoogle-doc {\n",
       "display: block;\n",
       "padding-bottom: 1.3em;\n",
       "padding-left: 0.4em;\n",
       "}\n",
       ".hoogle-code {\n",
       "display: block;\n",
       "font-family: monospace;\n",
       "white-space: pre;\n",
       "}\n",
       ".hoogle-text {\n",
       "display: block;\n",
       "}\n",
       ".hoogle-name {\n",
       "color: green;\n",
       "font-weight: bold;\n",
       "}\n",
       ".hoogle-head {\n",
       "font-weight: bold;\n",
       "}\n",
       ".hoogle-sub {\n",
       "display: block;\n",
       "margin-left: 0.4em;\n",
       "}\n",
       ".hoogle-package {\n",
       "font-weight: bold;\n",
       "font-style: italic;\n",
       "}\n",
       ".hoogle-module {\n",
       "font-weight: bold;\n",
       "}\n",
       ".hoogle-class {\n",
       "font-weight: bold;\n",
       "}\n",
       ".get-type {\n",
       "color: green;\n",
       "font-weight: bold;\n",
       "font-family: monospace;\n",
       "display: block;\n",
       "white-space: pre-wrap;\n",
       "}\n",
       ".show-type {\n",
       "color: green;\n",
       "font-weight: bold;\n",
       "font-family: monospace;\n",
       "margin-left: 1em;\n",
       "}\n",
       ".mono {\n",
       "font-family: monospace;\n",
       "display: block;\n",
       "}\n",
       ".err-msg {\n",
       "color: red;\n",
       "font-style: italic;\n",
       "font-family: monospace;\n",
       "white-space: pre;\n",
       "display: block;\n",
       "}\n",
       "#unshowable {\n",
       "color: red;\n",
       "font-weight: bold;\n",
       "}\n",
       ".err-msg.in.collapse {\n",
       "padding-top: 0.7em;\n",
       "}\n",
       ".highlight-code {\n",
       "white-space: pre;\n",
       "font-family: monospace;\n",
       "}\n",
       ".suggestion-warning { \n",
       "font-weight: bold;\n",
       "color: rgb(200, 130, 0);\n",
       "}\n",
       ".suggestion-error { \n",
       "font-weight: bold;\n",
       "color: red;\n",
       "}\n",
       ".suggestion-name {\n",
       "font-weight: bold;\n",
       "}\n",
       "</style><span class='get-type'>read :: forall a. Read a => String -> a</span>"
      ],
      "text/plain": [
       "read :: forall a. Read a => String -> a"
      ]
     },
     "metadata": {},
     "output_type": "display_data"
    }
   ],
   "source": [
    ":t read"
   ]
  },
  {
   "cell_type": "markdown",
   "metadata": {},
   "source": [
    "It returns a type that's part of [`Read`](https://hackage.haskell.org/package/base/docs/Prelude.html#t:Read) but if we don't try to use it\n",
    "in some way later, it has no way of knowing which type. \n",
    "\n",
    "* In the previous uses of [`read`](https://hackage.haskell.org/package/base/docs/Prelude.html#v:read) we did something with\n",
    "the result afterwards. That way, GHC could infer what kind of result we\n",
    "wanted out of our [`read`](https://hackage.haskell.org/package/base/docs/Prelude.html#v:read). If we used it as a boolean, it knew it had to\n",
    "return a [`Bool`](https://hackage.haskell.org/package/base/docs/Prelude.html#t:Bool). \n",
    "* But now, it knows we want some type that is part of the\n",
    "[`Read`](https://hackage.haskell.org/package/base/docs/Prelude.html#t:Read) class, it just doesn't know which one. "
   ]
  },
  {
   "cell_type": "markdown",
   "metadata": {},
   "source": [
    "##### Explicit type annotation\n",
    "We can use explicit __type annotations__. \n",
    "\n",
    "* Type annotations are a way of\n",
    "explicitly saying what the type of an expression should be. \n",
    "* We do that\n",
    "by adding `::` at the end of the expression and then specifying a type.\n",
    "Observe:"
   ]
  },
  {
   "cell_type": "code",
   "execution_count": 40,
   "metadata": {
    "attributes": {
     "classes": [
      "haskell:",
      "ghci"
     ],
     "id": "",
     "name": "\"code\""
    }
   },
   "outputs": [
    {
     "data": {
      "text/plain": [
       "5"
      ]
     },
     "metadata": {},
     "output_type": "display_data"
    }
   ],
   "source": [
    "read \"5\" :: Int"
   ]
  },
  {
   "cell_type": "code",
   "execution_count": 41,
   "metadata": {
    "attributes": {
     "classes": [
      "haskell:",
      "ghci"
     ],
     "id": "",
     "name": "\"code\""
    }
   },
   "outputs": [
    {
     "data": {
      "text/plain": [
       "5.0"
      ]
     },
     "metadata": {},
     "output_type": "display_data"
    }
   ],
   "source": [
    "read \"5\" :: Float"
   ]
  },
  {
   "cell_type": "code",
   "execution_count": 42,
   "metadata": {
    "attributes": {
     "classes": [
      "haskell:",
      "ghci"
     ],
     "id": "",
     "name": "\"code\""
    }
   },
   "outputs": [
    {
     "data": {
      "text/plain": [
       "20.0"
      ]
     },
     "metadata": {},
     "output_type": "display_data"
    }
   ],
   "source": [
    "(read \"5\" :: Float) * 4"
   ]
  },
  {
   "cell_type": "code",
   "execution_count": 43,
   "metadata": {
    "attributes": {
     "classes": [
      "haskell:",
      "ghci"
     ],
     "id": "",
     "name": "\"code\""
    }
   },
   "outputs": [
    {
     "data": {
      "text/plain": [
       "[1,2,3,4]"
      ]
     },
     "metadata": {},
     "output_type": "display_data"
    }
   ],
   "source": [
    "read \"[1,2,3,4]\" :: [Int]"
   ]
  },
  {
   "cell_type": "code",
   "execution_count": 44,
   "metadata": {
    "attributes": {
     "classes": [
      "haskell:",
      "ghci"
     ],
     "id": "",
     "name": "\"code\""
    }
   },
   "outputs": [
    {
     "data": {
      "text/plain": [
       "(3,'a')"
      ]
     },
     "metadata": {},
     "output_type": "display_data"
    }
   ],
   "source": [
    "read \"(3, 'a')\" :: (Int, Char)"
   ]
  },
  {
   "cell_type": "markdown",
   "metadata": {},
   "source": [
    "* Most expressions are such that the compiler can infer what their type is\n",
    "by itself. \n",
    "* But sometimes, the compiler doesn't know whether to return a\n",
    "value of type [`Int`](https://hackage.haskell.org/package/base/docs/Prelude.html#t:Int) or [`Float`](https://hackage.haskell.org/package/base/docs/Prelude.html#t:Float) for an expression like `read \"5\"`. \n",
    "* To see what\n",
    "the type is, Haskell would have to actually evaluate `read \"5\"`. \n",
    "* Haskell is a statically typed language, it has to know all the types\n",
    "before the code is compiled (or in the case of GHCI, evaluated). "
   ]
  },
  {
   "cell_type": "markdown",
   "metadata": {},
   "source": [
    "#### Enum\n",
    "* __[`Enum`](https://hackage.haskell.org/package/base/docs/Prelude.html#t:Enum)__ members are sequentially ordered types — they can be enumerated.\n",
    "* The main advantage of the [`Enum`](https://hackage.haskell.org/package/base/docs/Prelude.html#t:Enum) typeclass is that we can use its types in\n",
    "list ranges. \n",
    "* They also have defined successors and predecessors, which\n",
    "you can get with the \n",
    "    * [`succ`](https://hackage.haskell.org/package/base/docs/Prelude.html#v:succ) and \n",
    "    * [`pred`](https://hackage.haskell.org/package/base/docs/Prelude.html#v:pred) functions. \n",
    "* Types in this class: `()`,\n",
    "[`Bool`](https://hackage.haskell.org/package/base/docs/Prelude.html#t:Bool), [`Char`](https://hackage.haskell.org/package/base/docs/Prelude.html#t:Char), [`Ordering`](https://hackage.haskell.org/package/base/docs/Prelude.html#t:Ordering), [`Int`](https://hackage.haskell.org/package/base/docs/Prelude.html#t:Int), [`Integer`](https://hackage.haskell.org/package/base/docs/Prelude.html#t:Integer), [`Float`](https://hackage.haskell.org/package/base/docs/Prelude.html#t:Float) and [`Double`](https://hackage.haskell.org/package/base/docs/Prelude.html#t:Double)."
   ]
  },
  {
   "cell_type": "code",
   "execution_count": 45,
   "metadata": {
    "attributes": {
     "classes": [
      "haskell:",
      "ghci"
     ],
     "id": "",
     "name": "\"code\""
    }
   },
   "outputs": [
    {
     "data": {
      "text/plain": [
       "\"abcde\""
      ]
     },
     "metadata": {},
     "output_type": "display_data"
    }
   ],
   "source": [
    "['a'..'e']"
   ]
  },
  {
   "cell_type": "code",
   "execution_count": 46,
   "metadata": {
    "attributes": {
     "classes": [
      "haskell:",
      "ghci"
     ],
     "id": "",
     "name": "\"code\""
    }
   },
   "outputs": [
    {
     "data": {
      "text/plain": [
       "[LT,EQ,GT]"
      ]
     },
     "metadata": {},
     "output_type": "display_data"
    }
   ],
   "source": [
    "[LT .. GT]"
   ]
  },
  {
   "cell_type": "code",
   "execution_count": 47,
   "metadata": {
    "attributes": {
     "classes": [
      "haskell:",
      "ghci"
     ],
     "id": "",
     "name": "\"code\""
    }
   },
   "outputs": [
    {
     "data": {
      "text/plain": [
       "[3,4,5]"
      ]
     },
     "metadata": {},
     "output_type": "display_data"
    }
   ],
   "source": [
    "[3 .. 5]"
   ]
  },
  {
   "cell_type": "code",
   "execution_count": 48,
   "metadata": {
    "attributes": {
     "classes": [
      "haskell:",
      "ghci"
     ],
     "id": "",
     "name": "\"code\""
    }
   },
   "outputs": [
    {
     "data": {
      "text/plain": [
       "'C'"
      ]
     },
     "metadata": {},
     "output_type": "display_data"
    }
   ],
   "source": [
    "succ 'B'"
   ]
  },
  {
   "cell_type": "markdown",
   "metadata": {},
   "source": [
    "#### Bounded\n",
    "__[`Bounded`](https://hackage.haskell.org/package/base/docs/Prelude.html#t:Bounded)__ members have an upper and a lower bound."
   ]
  },
  {
   "cell_type": "markdown",
   "metadata": {},
   "source": [
    "> __Jupyter Note:__ Parentheses resolve ambiguity in the following expressions, see [IHaskell Issue #509 The type signature for ‘minBound’ lacks an accompanying binding](https://github.com/gibiansky/IHaskell/issues/509)"
   ]
  },
  {
   "cell_type": "code",
   "execution_count": 49,
   "metadata": {
    "attributes": {
     "classes": [
      "haskell:",
      "ghci"
     ],
     "id": "",
     "name": "\"code\""
    }
   },
   "outputs": [
    {
     "data": {
      "text/plain": [
       "-9223372036854775808"
      ]
     },
     "metadata": {},
     "output_type": "display_data"
    }
   ],
   "source": [
    "(minBound :: Int)"
   ]
  },
  {
   "cell_type": "code",
   "execution_count": 50,
   "metadata": {
    "attributes": {
     "classes": [
      "haskell:",
      "ghci"
     ],
     "id": "",
     "name": "\"code\""
    }
   },
   "outputs": [
    {
     "data": {
      "text/plain": [
       "'\\1114111'"
      ]
     },
     "metadata": {},
     "output_type": "display_data"
    }
   ],
   "source": [
    "(maxBound :: Char)"
   ]
  },
  {
   "cell_type": "code",
   "execution_count": 51,
   "metadata": {
    "attributes": {
     "classes": [
      "haskell:",
      "ghci"
     ],
     "id": "",
     "name": "\"code\""
    }
   },
   "outputs": [
    {
     "data": {
      "text/plain": [
       "True"
      ]
     },
     "metadata": {},
     "output_type": "display_data"
    }
   ],
   "source": [
    "(maxBound :: Bool)"
   ]
  },
  {
   "cell_type": "code",
   "execution_count": 52,
   "metadata": {
    "attributes": {
     "classes": [
      "haskell:",
      "ghci"
     ],
     "id": "",
     "name": "\"code\""
    }
   },
   "outputs": [
    {
     "data": {
      "text/plain": [
       "False"
      ]
     },
     "metadata": {},
     "output_type": "display_data"
    }
   ],
   "source": [
    "(minBound :: Bool)"
   ]
  },
  {
   "cell_type": "markdown",
   "metadata": {},
   "source": [
    "* [`minBound`](https://hackage.haskell.org/package/base/docs/Prelude.html#v:minBound) and [`maxBound`](https://hackage.haskell.org/package/base/docs/Prelude.html#v:maxBound) are interesting because they have a type of\n",
    "`(Bounded a) => a`. In a sense they are polymorphic constants.\n",
    "\n",
    "* All tuples are also part of [`Bounded`](https://hackage.haskell.org/package/base/docs/Prelude.html#t:Bounded) if the components are also in it."
   ]
  },
  {
   "cell_type": "code",
   "execution_count": 53,
   "metadata": {
    "attributes": {
     "classes": [
      "haskell:",
      "ghci"
     ],
     "id": "",
     "name": "\"code\""
    }
   },
   "outputs": [
    {
     "data": {
      "text/plain": [
       "(True,9223372036854775807,'\\1114111')"
      ]
     },
     "metadata": {},
     "output_type": "display_data"
    }
   ],
   "source": [
    "(maxBound :: (Bool, Int, Char))"
   ]
  },
  {
   "cell_type": "markdown",
   "metadata": {},
   "source": [
    "#### Num\n",
    "* __[`Num`](https://hackage.haskell.org/package/base/docs/Prelude.html#t:Num)__ is a numeric typeclass. \n",
    "* Its members have the property of being able\n",
    "to act like numbers. "
   ]
  },
  {
   "cell_type": "code",
   "execution_count": 54,
   "metadata": {
    "attributes": {
     "classes": [
      "haskell:",
      "ghci"
     ],
     "id": "",
     "name": "\"code\""
    }
   },
   "outputs": [
    {
     "data": {
      "text/html": [
       "<style>/* Styles used for the Hoogle display in the pager */\n",
       ".hoogle-doc {\n",
       "display: block;\n",
       "padding-bottom: 1.3em;\n",
       "padding-left: 0.4em;\n",
       "}\n",
       ".hoogle-code {\n",
       "display: block;\n",
       "font-family: monospace;\n",
       "white-space: pre;\n",
       "}\n",
       ".hoogle-text {\n",
       "display: block;\n",
       "}\n",
       ".hoogle-name {\n",
       "color: green;\n",
       "font-weight: bold;\n",
       "}\n",
       ".hoogle-head {\n",
       "font-weight: bold;\n",
       "}\n",
       ".hoogle-sub {\n",
       "display: block;\n",
       "margin-left: 0.4em;\n",
       "}\n",
       ".hoogle-package {\n",
       "font-weight: bold;\n",
       "font-style: italic;\n",
       "}\n",
       ".hoogle-module {\n",
       "font-weight: bold;\n",
       "}\n",
       ".hoogle-class {\n",
       "font-weight: bold;\n",
       "}\n",
       ".get-type {\n",
       "color: green;\n",
       "font-weight: bold;\n",
       "font-family: monospace;\n",
       "display: block;\n",
       "white-space: pre-wrap;\n",
       "}\n",
       ".show-type {\n",
       "color: green;\n",
       "font-weight: bold;\n",
       "font-family: monospace;\n",
       "margin-left: 1em;\n",
       "}\n",
       ".mono {\n",
       "font-family: monospace;\n",
       "display: block;\n",
       "}\n",
       ".err-msg {\n",
       "color: red;\n",
       "font-style: italic;\n",
       "font-family: monospace;\n",
       "white-space: pre;\n",
       "display: block;\n",
       "}\n",
       "#unshowable {\n",
       "color: red;\n",
       "font-weight: bold;\n",
       "}\n",
       ".err-msg.in.collapse {\n",
       "padding-top: 0.7em;\n",
       "}\n",
       ".highlight-code {\n",
       "white-space: pre;\n",
       "font-family: monospace;\n",
       "}\n",
       ".suggestion-warning { \n",
       "font-weight: bold;\n",
       "color: rgb(200, 130, 0);\n",
       "}\n",
       ".suggestion-error { \n",
       "font-weight: bold;\n",
       "color: red;\n",
       "}\n",
       ".suggestion-name {\n",
       "font-weight: bold;\n",
       "}\n",
       "</style><span class='get-type'>20 :: forall p. Num p => p</span>"
      ],
      "text/plain": [
       "20 :: forall p. Num p => p"
      ]
     },
     "metadata": {},
     "output_type": "display_data"
    }
   ],
   "source": [
    ":t 20"
   ]
  },
  {
   "cell_type": "markdown",
   "metadata": {},
   "source": [
    "* It appears that whole numbers are also polymorphic constants. \n",
    "* They can\n",
    "act like any type that's a member of the [`Num`](https://hackage.haskell.org/package/base/docs/Prelude.html#t:Num) typeclass."
   ]
  },
  {
   "cell_type": "code",
   "execution_count": 55,
   "metadata": {
    "attributes": {
     "classes": [
      "haskell:",
      "ghci"
     ],
     "id": "",
     "name": "\"code\""
    }
   },
   "outputs": [
    {
     "data": {
      "text/plain": [
       "20"
      ]
     },
     "metadata": {},
     "output_type": "display_data"
    }
   ],
   "source": [
    "20 :: Int"
   ]
  },
  {
   "cell_type": "code",
   "execution_count": 56,
   "metadata": {
    "attributes": {
     "classes": [
      "haskell:",
      "ghci"
     ],
     "id": "",
     "name": "\"code\""
    }
   },
   "outputs": [
    {
     "data": {
      "text/plain": [
       "20"
      ]
     },
     "metadata": {},
     "output_type": "display_data"
    }
   ],
   "source": [
    "20 :: Integer"
   ]
  },
  {
   "cell_type": "code",
   "execution_count": 57,
   "metadata": {
    "attributes": {
     "classes": [
      "haskell:",
      "ghci"
     ],
     "id": "",
     "name": "\"code\""
    }
   },
   "outputs": [
    {
     "data": {
      "text/plain": [
       "20.0"
      ]
     },
     "metadata": {},
     "output_type": "display_data"
    }
   ],
   "source": [
    "20 :: Float"
   ]
  },
  {
   "cell_type": "code",
   "execution_count": 58,
   "metadata": {
    "attributes": {
     "classes": [
      "haskell:",
      "ghci"
     ],
     "id": "",
     "name": "\"code\""
    }
   },
   "outputs": [
    {
     "data": {
      "text/plain": [
       "20.0"
      ]
     },
     "metadata": {},
     "output_type": "display_data"
    }
   ],
   "source": [
    "20 :: Double"
   ]
  },
  {
   "cell_type": "markdown",
   "metadata": {},
   "source": [
    "#### Integral\n",
    "\n",
    "__[`Integral`](https://hackage.haskell.org/package/base/docs/Prelude.html#t:Integral)__ is also a numeric typeclass.\n",
    "\n",
    "* [`Num`](https://hackage.haskell.org/package/base/docs/Prelude.html#t:Num) includes all numbers,including real numbers and integral numbers, \n",
    "* [`Integral`](https://hackage.haskell.org/package/base/docs/Prelude.html#t:Integral) includes only\n",
    "integral (whole) numbers. \n",
    "* In this typeclass are [`Int`](https://hackage.haskell.org/package/base/docs/Prelude.html#t:Int) and [`Integer`](https://hackage.haskell.org/package/base/docs/Prelude.html#t:Integer).\n",
    "\n",
    "#### Floating\n",
    "\n",
    "__[`Floating`](https://hackage.haskell.org/package/base/docs/Prelude.html#t:Floating)__ includes only floating point numbers, so [`Float`](https://hackage.haskell.org/package/base/docs/Prelude.html#t:Float) and [`Double`](https://hackage.haskell.org/package/base/docs/Prelude.html#t:Double).\n",
    "\n"
   ]
  },
  {
   "cell_type": "markdown",
   "metadata": {},
   "source": [
    "### Number conversions\n",
    "#### fromIntegral\n",
    "A very useful function for dealing with numbers is __[`fromIntegral`](https://hackage.haskell.org/package/base/docs/Prelude.html#v:fromIntegral)__. `fromIntegral :: (Num b, Integral a) => a -> b`.\n",
    "\n",
    "* It takes an integral number and\n",
    "turns it into a more general number. \n",
    "* For instance,the [`length`](https://hackage.haskell.org/package/base/docs/Prelude.html#v:length) function has a type declaration of `length :: [a] -> Int`\n",
    "instead of having a more general type of\n",
    "`(Num b) => length :: [a] -> b`.\n",
    "* If we try to get a length of a\n",
    "list and then add it to `3.2`, we'll get an error because we tried to add\n",
    "together an [`Int`](https://hackage.haskell.org/package/base/docs/Prelude.html#t:Int) and a floating point number. "
   ]
  },
  {
   "cell_type": "code",
   "execution_count": 59,
   "metadata": {},
   "outputs": [
    {
     "data": {
      "text/plain": [
       "7.2"
      ]
     },
     "metadata": {},
     "output_type": "display_data"
    }
   ],
   "source": [
    "fromIntegral (length [1,2,3,4]) + 3.2"
   ]
  },
  {
   "cell_type": "markdown",
   "metadata": {},
   "source": [
    "#### Example: `*`\n",
    "\n",
    "If we examine the type of\n",
    "[`*`](https://hackage.haskell.org/package/base/docs/Prelude.html#v:-42-), we'll see that it accepts all numbers."
   ]
  },
  {
   "cell_type": "code",
   "execution_count": 2,
   "metadata": {
    "attributes": {
     "classes": [
      "haskell:",
      "ghci"
     ],
     "id": "",
     "name": "\"code\""
    }
   },
   "outputs": [
    {
     "data": {
      "text/html": [
       "<style>/* Styles used for the Hoogle display in the pager */\n",
       ".hoogle-doc {\n",
       "display: block;\n",
       "padding-bottom: 1.3em;\n",
       "padding-left: 0.4em;\n",
       "}\n",
       ".hoogle-code {\n",
       "display: block;\n",
       "font-family: monospace;\n",
       "white-space: pre;\n",
       "}\n",
       ".hoogle-text {\n",
       "display: block;\n",
       "}\n",
       ".hoogle-name {\n",
       "color: green;\n",
       "font-weight: bold;\n",
       "}\n",
       ".hoogle-head {\n",
       "font-weight: bold;\n",
       "}\n",
       ".hoogle-sub {\n",
       "display: block;\n",
       "margin-left: 0.4em;\n",
       "}\n",
       ".hoogle-package {\n",
       "font-weight: bold;\n",
       "font-style: italic;\n",
       "}\n",
       ".hoogle-module {\n",
       "font-weight: bold;\n",
       "}\n",
       ".hoogle-class {\n",
       "font-weight: bold;\n",
       "}\n",
       ".get-type {\n",
       "color: green;\n",
       "font-weight: bold;\n",
       "font-family: monospace;\n",
       "display: block;\n",
       "white-space: pre-wrap;\n",
       "}\n",
       ".show-type {\n",
       "color: green;\n",
       "font-weight: bold;\n",
       "font-family: monospace;\n",
       "margin-left: 1em;\n",
       "}\n",
       ".mono {\n",
       "font-family: monospace;\n",
       "display: block;\n",
       "}\n",
       ".err-msg {\n",
       "color: red;\n",
       "font-style: italic;\n",
       "font-family: monospace;\n",
       "white-space: pre;\n",
       "display: block;\n",
       "}\n",
       "#unshowable {\n",
       "color: red;\n",
       "font-weight: bold;\n",
       "}\n",
       ".err-msg.in.collapse {\n",
       "padding-top: 0.7em;\n",
       "}\n",
       ".highlight-code {\n",
       "white-space: pre;\n",
       "font-family: monospace;\n",
       "}\n",
       ".suggestion-warning { \n",
       "font-weight: bold;\n",
       "color: rgb(200, 130, 0);\n",
       "}\n",
       ".suggestion-error { \n",
       "font-weight: bold;\n",
       "color: red;\n",
       "}\n",
       ".suggestion-name {\n",
       "font-weight: bold;\n",
       "}\n",
       "</style><span class='get-type'>(*) :: forall a. Num a => a -> a -> a</span>"
      ],
      "text/plain": [
       "(*) :: forall a. Num a => a -> a -> a"
      ]
     },
     "metadata": {},
     "output_type": "display_data"
    }
   ],
   "source": [
    ":t (*)"
   ]
  },
  {
   "cell_type": "markdown",
   "metadata": {},
   "source": [
    "* It takes two numbers of the same type and returns a number of that type.\n",
    "* That's why `(5 :: Int) * (6 :: Integer)` will result in a type error\n",
    "* whereas `5 * (6 :: Integer)` will work just fine and produce an [`Integer`](https://hackage.haskell.org/package/base/docs/Prelude.html#t:Integer)\n",
    "because `5` can act like an [`Integer`](https://hackage.haskell.org/package/base/docs/Prelude.html#t:Integer) or an [`Int`](https://hackage.haskell.org/package/base/docs/Prelude.html#t:Int).\n",
    "* To join [`Num`](https://hackage.haskell.org/package/base/docs/Prelude.html#t:Num), a type must already be friends with [`Show`](https://hackage.haskell.org/package/base/docs/Prelude.html#t:Show) and `Eq`."
   ]
  },
  {
   "cell_type": "markdown",
   "metadata": {},
   "source": [
    "#### Type conversion\n",
    "| Source Type       | Destination Type          | Destination Type | Destination Type | Destination Type |\n",
    "|-------------------|---------------------------|------------------|------------------|------------------|\n",
    "|                   | __Double, Float__         | __Int, Word__    | __Integer__      | __Rational__     |\n",
    "| __Double, Float__ | fromRational . toRational | truncate/round   | truncate/round   | toRational       |\n",
    "| __Int, Word__     | fromIntegral              | fromIntegral     | fromIntegral     | fromIntegral     |\n",
    "| __Integer__       | fromIntegral              | fromIntegral     |      n/a         | fromIntegral     |\n",
    "| __Rational__      | fromRational              | truncate/round   | truncate/round   |    n/a           |"
   ]
  },
  {
   "cell_type": "markdown",
   "metadata": {},
   "source": [
    "## Summary\n",
    "* __Types__: Int/Integer, Float, Double, Bool, Char, Tuple\n",
    "* __Typeclasses__: Eq, Ord, Show, Read, Enum, Bounded, Num, Integral, Floating\n",
    "* __Type conversion__: fromIntegral, fromRational/toRational, truncate/round/ceiling/floor"
   ]
  }
 ],
 "metadata": {
  "kernelspec": {
   "display_name": "Haskell",
   "language": "haskell",
   "name": "haskell"
  },
  "language_info": {
   "codemirror_mode": "ihaskell",
   "file_extension": ".hs",
   "name": "haskell",
   "pygments_lexer": "Haskell",
   "version": "8.6.5"
  },
  "toc": {
   "base_numbering": 1,
   "nav_menu": {},
   "number_sections": true,
   "sideBar": true,
   "skip_h1_title": true,
   "title_cell": "Table of Contents",
   "title_sidebar": "Contents",
   "toc_cell": true,
   "toc_position": {
    "height": "calc(100% - 180px)",
    "left": "10px",
    "top": "150px",
    "width": "336.765625px"
   },
   "toc_section_display": true,
   "toc_window_display": true
  }
 },
 "nbformat": 4,
 "nbformat_minor": 4
}
