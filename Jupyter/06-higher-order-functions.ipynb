{
 "cells": [
  {
   "cell_type": "markdown",
   "metadata": {
    "toc": true
   },
   "source": [
    "<h1>Table of Contents<span class=\"tocSkip\"></span></h1>\n",
    "<div class=\"toc\"><ul class=\"toc-item\"><li><span><a href=\"#Higher-order-functions\" data-toc-modified-id=\"Higher-order-functions-1\"><span class=\"toc-item-num\">1&nbsp;&nbsp;</span>Higher order functions</a></span><ul class=\"toc-item\"><li><span><a href=\"#Curried-functions\" data-toc-modified-id=\"Curried-functions-1.1\"><span class=\"toc-item-num\">1.1&nbsp;&nbsp;</span>Curried functions</a></span></li><li><span><a href=\"#Function-application\" data-toc-modified-id=\"Function-application-1.2\"><span class=\"toc-item-num\">1.2&nbsp;&nbsp;</span>Function application</a></span></li><li><span><a href=\"#Function-application\" data-toc-modified-id=\"Function-application-1.3\"><span class=\"toc-item-num\">1.3&nbsp;&nbsp;</span>Function application</a></span></li><li><span><a href=\"#Calling-functions-with-too-few-parameters-creates-new-functions-on-the-fly\" data-toc-modified-id=\"Calling-functions-with-too-few-parameters-creates-new-functions-on-the-fly-1.4\"><span class=\"toc-item-num\">1.4&nbsp;&nbsp;</span>Calling functions with too few parameters creates new functions on the fly</a></span></li><li><span><a href=\"#Sections\" data-toc-modified-id=\"Sections-1.5\"><span class=\"toc-item-num\">1.5&nbsp;&nbsp;</span>Sections</a></span></li><li><span><a href=\"#Special-section?\" data-toc-modified-id=\"Special-section?-1.6\"><span class=\"toc-item-num\">1.6&nbsp;&nbsp;</span>Special section?</a></span></li></ul></li><li><span><a href=\"#Some-higher-orderism-is-in-order\" data-toc-modified-id=\"Some-higher-orderism-is-in-order-2\"><span class=\"toc-item-num\">2&nbsp;&nbsp;</span>Some higher-orderism is in order</a></span><ul class=\"toc-item\"><li><span><a href=\"#Functions-of-functions\" data-toc-modified-id=\"Functions-of-functions-2.1\"><span class=\"toc-item-num\">2.1&nbsp;&nbsp;</span>Functions of functions</a></span></li><li><span><a href=\"#Implementation-of-zipWith\" data-toc-modified-id=\"Implementation-of-zipWith-2.2\"><span class=\"toc-item-num\">2.2&nbsp;&nbsp;</span>Implementation of <code>zipWith</code></a></span></li><li><span><a href=\"#Implementation-of-flip\" data-toc-modified-id=\"Implementation-of-flip-2.3\"><span class=\"toc-item-num\">2.3&nbsp;&nbsp;</span>Implementation of <code>flip</code></a></span></li></ul></li><li><span><a href=\"#Maps-and-filters\" data-toc-modified-id=\"Maps-and-filters-3\"><span class=\"toc-item-num\">3&nbsp;&nbsp;</span>Maps and filters</a></span><ul class=\"toc-item\"><li><span><a href=\"#Map\" data-toc-modified-id=\"Map-3.1\"><span class=\"toc-item-num\">3.1&nbsp;&nbsp;</span>Map</a></span></li><li><span><a href=\"#Filter\" data-toc-modified-id=\"Filter-3.2\"><span class=\"toc-item-num\">3.2&nbsp;&nbsp;</span>Filter</a></span></li><li><span><a href=\"#Example\" data-toc-modified-id=\"Example-3.3\"><span class=\"toc-item-num\">3.3&nbsp;&nbsp;</span>Example</a></span></li><li><span><a href=\"#Partial-application-using-map\" data-toc-modified-id=\"Partial-application-using-map-3.4\"><span class=\"toc-item-num\">3.4&nbsp;&nbsp;</span>Partial application using map</a></span></li></ul></li><li><span><a href=\"#Lambdas\" data-toc-modified-id=\"Lambdas-4\"><span class=\"toc-item-num\">4&nbsp;&nbsp;</span>Lambdas</a></span><ul class=\"toc-item\"><li><span><a href=\"#Lambdas-examples\" data-toc-modified-id=\"Lambdas-examples-4.1\"><span class=\"toc-item-num\">4.1&nbsp;&nbsp;</span>Lambdas examples</a></span></li><li><span><a href=\"#Lambdas-associativity\" data-toc-modified-id=\"Lambdas-associativity-4.2\"><span class=\"toc-item-num\">4.2&nbsp;&nbsp;</span>Lambdas associativity</a></span></li><li><span><a href=\"#Example:-flip\" data-toc-modified-id=\"Example:-flip-4.3\"><span class=\"toc-item-num\">4.3&nbsp;&nbsp;</span>Example: flip</a></span></li></ul></li><li><span><a href=\"#Only-folds-and-horses\" data-toc-modified-id=\"Only-folds-and-horses-5\"><span class=\"toc-item-num\">5&nbsp;&nbsp;</span>Only folds and horses</a></span><ul class=\"toc-item\"><li><span><a href=\"#Folds\" data-toc-modified-id=\"Folds-5.1\"><span class=\"toc-item-num\">5.1&nbsp;&nbsp;</span>Folds</a></span></li><li><span><a href=\"#Foldl\" data-toc-modified-id=\"Foldl-5.2\"><span class=\"toc-item-num\">5.2&nbsp;&nbsp;</span>Foldl</a></span></li><li><span><a href=\"#Reimplement-of-elem\" data-toc-modified-id=\"Reimplement-of-elem-5.3\"><span class=\"toc-item-num\">5.3&nbsp;&nbsp;</span>Reimplement of <code>elem</code></a></span></li><li><span><a href=\"#foldr\" data-toc-modified-id=\"foldr-5.4\"><span class=\"toc-item-num\">5.4&nbsp;&nbsp;</span><code>foldr</code></a></span></li><li><span><a href=\"#Summary-of-fold\" data-toc-modified-id=\"Summary-of-fold-5.5\"><span class=\"toc-item-num\">5.5&nbsp;&nbsp;</span>Summary of fold</a></span></li></ul></li><li><span><a href=\"#Function-application-with-$\" data-toc-modified-id=\"Function-application-with-$-6\"><span class=\"toc-item-num\">6&nbsp;&nbsp;</span>Function application with $</a></span></li><li><span><a href=\"#Function-composition\" data-toc-modified-id=\"Function-composition-7\"><span class=\"toc-item-num\">7&nbsp;&nbsp;</span>Function composition</a></span><ul class=\"toc-item\"><li><span><a href=\"#Example-of-function-composition\" data-toc-modified-id=\"Example-of-function-composition-7.1\"><span class=\"toc-item-num\">7.1&nbsp;&nbsp;</span>Example of function composition</a></span></li><li><span><a href=\"#Pointless-style\" data-toc-modified-id=\"Pointless-style-7.2\"><span class=\"toc-item-num\">7.2&nbsp;&nbsp;</span>Point<em>less</em> style</a></span></li></ul></li></ul></div>"
   ]
  },
  {
   "cell_type": "markdown",
   "metadata": {},
   "source": [
    "## Higher order functions\n",
    "\n",
    "<img src=\"img/sun.png\" title=\"sun\" style=\"float:right;margin-left:2em;\" />\n",
    "\n",
    "\n",
    "* Haskell functions can take functions as parameters and return functions\n",
    "as return values. \n",
    "* Higher order functions: a function of functions.\n",
    "* It turns out that if you want to define computations by defining what stuff\n",
    "*is* instead of defining steps that change some state and maybe looping\n",
    "them, higher order functions are indispensable. \n",
    "* Higher order functions are a really\n",
    "powerful way of solving problems and thinking about programs."
   ]
  },
  {
   "cell_type": "markdown",
   "metadata": {
    "attributes": {
     "classes": [
      "haskell:ghci"
     ],
     "id": "",
     "name": "\"code\""
    }
   },
   "source": [
    "> __Jupyter Note:__ We'll turn off the [automatic linting for IHaskell](https://github.com/gibiansky/IHaskell/wiki#opt-no-lint) first."
   ]
  },
  {
   "cell_type": "code",
   "execution_count": 1,
   "metadata": {
    "attributes": {
     "classes": [
      "haskell:ghci"
     ],
     "id": "",
     "name": "\"code\""
    }
   },
   "outputs": [],
   "source": [
    ":opt no-lint"
   ]
  },
  {
   "cell_type": "markdown",
   "metadata": {},
   "source": []
  },
  {
   "cell_type": "markdown",
   "metadata": {},
   "source": [
    "### Curried functions\n",
    "\n",
    "The [`max`](https://hackage.haskell.org/package/base/docs/Prelude.html#v:max) function looks like it takes two parameters\n",
    "and returns the one that's bigger. \n",
    "\n",
    "* Doing `max 4 5` first creates a\n",
    "function that takes a parameter and returns either `4` or that parameter,\n",
    "depending on which is bigger. \n",
    "* Then, `5` is applied to that function and\n",
    "that function produces our desired result. \n",
    "\n",
    "The following two calls are\n",
    "equivalent:"
   ]
  },
  {
   "cell_type": "code",
   "execution_count": 2,
   "metadata": {
    "attributes": {
     "classes": [
      "haskell:ghci"
     ],
     "id": "",
     "name": "\"code\""
    }
   },
   "outputs": [
    {
     "data": {
      "text/plain": [
       "5"
      ]
     },
     "metadata": {},
     "output_type": "display_data"
    }
   ],
   "source": [
    "max 4 5"
   ]
  },
  {
   "cell_type": "code",
   "execution_count": 3,
   "metadata": {
    "attributes": {
     "classes": [
      "haskell:ghci"
     ],
     "id": "",
     "name": "\"code\""
    }
   },
   "outputs": [
    {
     "data": {
      "text/plain": [
       "5"
      ]
     },
     "metadata": {},
     "output_type": "display_data"
    }
   ],
   "source": [
    "(max 4) 5"
   ]
  },
  {
   "cell_type": "markdown",
   "metadata": {},
   "source": [
    "<img src=\"img/curry.png\" title=\"haskell curry\" style=\"float:right;margin-right:2em;\" />\n",
    "\n",
    "### Function application\n",
    "\n",
    "* Putting a space between two things is simply **function application**.\n",
    "* The space is sort of like an operator and it has the highest precedence.\n",
    "\n",
    "* The type of [`max`](https://hackage.haskell.org/package/base/docs/Prelude.html#v:max). \n",
    "    * It's `max :: (Ord a) => a -> a -> a`.\n",
    "    * Could also be: `max :: (Ord a) => a -> (a -> a)`. It means [`max`](https://hackage.haskell.org/package/base/docs/Prelude.html#v:max) takes an `a` and returns (that's the `->`)\n",
    "a function that takes an `a` and returns an `a`.\n",
    "* That's why the return type and the\n",
    "parameters of functions are all simply separated with arrows."
   ]
  },
  {
   "cell_type": "markdown",
   "metadata": {},
   "source": [
    "### Function application\n",
    "\n",
    "* If we call a function\n",
    "with too few parameters, we get back a __partially applied__ function,\n",
    "meaning a function that takes as many parameters as we left out. \n",
    "* Using\n",
    "partial application (calling functions with too few parameters) is a neat way to create functions on the fly so we can pass them\n",
    "to another function or to seed them with some data."
   ]
  },
  {
   "cell_type": "code",
   "execution_count": 4,
   "metadata": {
    "attributes": {
     "classes": [
      "haskell:ghci"
     ],
     "id": "",
     "name": "\"code\""
    }
   },
   "outputs": [],
   "source": [
    "multThree :: (Num a) => a -> a -> a -> a\n",
    "multThree x y z = x * y * z\n",
    "-- What really happens when we do multThree 3 5 9 or ((multThree 3) 5) 9? First, 3 is applied to multThree, because they're separated by a space. That creates a function that takes one parameter and returns a function. So then 5 is applied to that, which creates a function that will take a parameter and multiply it by 15. 9 is applied to that function and the result is 135 or something. "
   ]
  },
  {
   "cell_type": "markdown",
   "metadata": {},
   "source": [
    "* The function's type could\n",
    "also be written as `multThree :: (Num a) => a -> (a -> (a -> a))`. \n",
    "    * The\n",
    "thing before the `->` is the parameter that a function takes and the\n",
    "thing after it is what it returns. \n",
    "    * So our function takes an `a` and\n",
    "returns a function of type `(Num a) => a -> (a -> a)`. \n",
    "    * the returned function takes an `a` and returns a function of type `(Num a) => a -> a`.\n",
    "    * the returned function takes an `a` and returns an `a`. "
   ]
  },
  {
   "cell_type": "code",
   "execution_count": 5,
   "metadata": {
    "attributes": {
     "classes": [
      "haskell:ghci"
     ],
     "id": "",
     "name": "\"code\""
    }
   },
   "outputs": [
    {
     "data": {
      "text/plain": [
       "54"
      ]
     },
     "metadata": {},
     "output_type": "display_data"
    }
   ],
   "source": [
    "multThree x y z = x * y * z\n",
    "let multTwoWithNine = multThree 9\n",
    "multTwoWithNine 2 3"
   ]
  },
  {
   "cell_type": "code",
   "execution_count": 6,
   "metadata": {
    "attributes": {
     "classes": [
      "haskell:ghci"
     ],
     "id": "",
     "name": "\"code\""
    }
   },
   "outputs": [
    {
     "data": {
      "text/plain": [
       "180"
      ]
     },
     "metadata": {},
     "output_type": "display_data"
    }
   ],
   "source": [
    "let multWithEighteen = multTwoWithNine 2\n",
    "multWithEighteen 10"
   ]
  },
  {
   "cell_type": "markdown",
   "metadata": {},
   "source": [
    "### Calling functions with too few parameters creates new functions on the fly\n",
    "\n",
    "What if we wanted to create a\n",
    "function that takes a number and compares it to `100`? "
   ]
  },
  {
   "cell_type": "code",
   "execution_count": 7,
   "metadata": {
    "attributes": {
     "classes": [
      "haskell:hs"
     ],
     "id": "",
     "name": "\"code\""
    }
   },
   "outputs": [],
   "source": [
    "compareWithHundred :: (Num a, Ord a) => a -> Ordering\n",
    "compareWithHundred x = compare 100 x\n",
    "-- If we call it with 99, it returns a GT."
   ]
  },
  {
   "cell_type": "markdown",
   "metadata": {},
   "source": [
    "We can rewrite this as:"
   ]
  },
  {
   "cell_type": "code",
   "execution_count": 8,
   "metadata": {
    "attributes": {
     "classes": [
      "haskell:hs"
     ],
     "id": "",
     "name": "\"code\""
    }
   },
   "outputs": [],
   "source": [
    "compareWithHundred :: (Num a, Ord a) => a -> Ordering\n",
    "compareWithHundred = compare 100"
   ]
  },
  {
   "cell_type": "markdown",
   "metadata": {},
   "source": [
    "* Compare has a type of `(Ord a) => a -> (a -> Ordering)` and\n",
    "calling it with `100` returns a `(Num a, Ord a) => a -> Ordering`. \n",
    "\n",
    "\n",
    "> __Yo!__ Make sure you really understand how curried functions and partial\n",
    "> application work because they're really important!\n",
    "\n",
    "### Sections\n",
    "\n",
    "* Infix functions can also be partially applied by using sections. \n",
    "* To section an infix function, simply surround it with parentheses and only\n",
    "supply a parameter on one side. \n",
    "* A section creates a function that takes one\n",
    "parameter and then applies it to the side that's missing an operand. "
   ]
  },
  {
   "cell_type": "code",
   "execution_count": 9,
   "metadata": {
    "attributes": {
     "classes": [
      "haskell:hs"
     ],
     "id": "",
     "name": "\"code\""
    }
   },
   "outputs": [],
   "source": [
    "divideByTen :: (Floating a) => a -> a\n",
    "divideByTen = (/10)"
   ]
  },
  {
   "cell_type": "code",
   "execution_count": 10,
   "metadata": {},
   "outputs": [
    {
     "data": {
      "text/plain": [
       "20.0"
      ]
     },
     "metadata": {},
     "output_type": "display_data"
    }
   ],
   "source": [
    "divideByTen 200 -- (/10) 200"
   ]
  },
  {
   "cell_type": "markdown",
   "metadata": {},
   "source": [
    "A function that checks if a character supplied to it is an uppercase letter:"
   ]
  },
  {
   "cell_type": "code",
   "execution_count": 11,
   "metadata": {
    "attributes": {
     "classes": [
      "haskell:hs"
     ],
     "id": "",
     "name": "\"code\""
    }
   },
   "outputs": [],
   "source": [
    "isUpperAlphanum :: Char -> Bool\n",
    "isUpperAlphanum = (`elem` ['A'..'Z'])"
   ]
  },
  {
   "cell_type": "markdown",
   "metadata": {},
   "source": [
    "### Special section?\n",
    "Be careful when you use [`-`](https://hackage.haskell.org/package/base/docs/Prelude.html#v:-45-) in sections. \n",
    "\n",
    "* For convenience, `(-4)` means minus four. * If you want to make a function that subtracts 4 from the number it gets\n",
    "as a parameter, partially apply the [`subtract`](https://hackage.haskell.org/package/base/docs/Prelude.html#v:subtract) function like so:\n",
    "`(subtract 4)`."
   ]
  },
  {
   "cell_type": "code",
   "execution_count": 12,
   "metadata": {},
   "outputs": [
    {
     "data": {
      "text/plain": [
       "1"
      ]
     },
     "metadata": {},
     "output_type": "display_data"
    }
   ],
   "source": [
    "(+(-4)) 5 -- if you really need it be ..."
   ]
  },
  {
   "cell_type": "markdown",
   "metadata": {},
   "source": [
    "What happens if we try to just do `multThree 3 4` instead of\n",
    "binding it to a name with a *let* or passing it to another function?"
   ]
  },
  {
   "cell_type": "code",
   "execution_count": 13,
   "metadata": {
    "attributes": {
     "classes": [
      "haskell:hs"
     ],
     "id": "",
     "name": "\"code\""
    }
   },
   "outputs": [
    {
     "ename": "",
     "evalue": "",
     "output_type": "error",
     "traceback": [
      "<interactive>:1:1: error:\n    • No instance for (Show (Integer -> Integer)) arising from a use of ‘print’\n        (maybe you haven't applied a function to enough arguments?)\n    • In a stmt of an interactive GHCi command: print it"
     ]
    }
   ],
   "source": [
    "multThree 3 4\n",
    "-- GHC is telling us that the expression produced a function of type`a -> a`but it doesn't know how to print it to the screen. Functions aren't instances of the [`Show`](https://hackage.haskell.org/package/base/docs/Prelude.html#t:Show) typeclass, so we can't get a neat string representation of a function."
   ]
  },
  {
   "cell_type": "markdown",
   "metadata": {},
   "source": [
    "## Some higher-orderism is in order\n",
    "\n",
    "### Functions of functions\n",
    "\n",
    "* Functions can take functions as parameters and also return functions. \n",
    "\n",
    "A function that takes a function\n",
    "and then applies it twice:"
   ]
  },
  {
   "cell_type": "code",
   "execution_count": 14,
   "metadata": {
    "attributes": {
     "classes": [
      "haskell:hs"
     ],
     "id": "",
     "name": "\"code\""
    }
   },
   "outputs": [],
   "source": [
    "applyTwice :: (a -> a) -> a -> a\n",
    "applyTwice f x = f (f x)"
   ]
  },
  {
   "cell_type": "markdown",
   "metadata": {},
   "source": [
    "<img src=\"img/bonus.png\" title=\"rocktopus\" style=\"float:right;margin-left:2em;\" />\n",
    "\n",
    "* Parentheses are mandatory. They indicate that the first parameter is a function\n",
    "that takes something and returns that same thing. \n",
    "* We'll just say that this function takes two\n",
    "parameters and returns one thing. The first parameter is a function (of\n",
    "type `a -> a`) and the second is that same `a`. \n",
    "\n",
    "> __Note:__ From now on, we'll say that functions take several parameters\n",
    "> despite each function actually taking only one parameter and returning\n",
    "> partially applied functions until we reach a function that returns a\n",
    "> solid value. So for simplicity's sake, we'll say that `a -> a -> a`\n",
    "> takes two parameters, even though we know what's really going on under\n",
    "> the hood.\n",
    "\n",
    "Examples:"
   ]
  },
  {
   "cell_type": "code",
   "execution_count": 15,
   "metadata": {
    "attributes": {
     "classes": [
      "haskell:hs"
     ],
     "id": "",
     "name": "\"code\""
    }
   },
   "outputs": [
    {
     "data": {
      "text/plain": [
       "16"
      ]
     },
     "metadata": {},
     "output_type": "display_data"
    }
   ],
   "source": [
    "applyTwice (+3) 10"
   ]
  },
  {
   "cell_type": "code",
   "execution_count": 16,
   "metadata": {
    "attributes": {
     "classes": [
      "haskell:hs"
     ],
     "id": "",
     "name": "\"code\""
    }
   },
   "outputs": [
    {
     "data": {
      "text/plain": [
       "\"HEY HAHA HAHA\""
      ]
     },
     "metadata": {},
     "output_type": "display_data"
    }
   ],
   "source": [
    "applyTwice (++ \" HAHA\") \"HEY\""
   ]
  },
  {
   "cell_type": "code",
   "execution_count": 17,
   "metadata": {
    "attributes": {
     "classes": [
      "haskell:hs"
     ],
     "id": "",
     "name": "\"code\""
    }
   },
   "outputs": [
    {
     "data": {
      "text/plain": [
       "\"HAHA HAHA HEY\""
      ]
     },
     "metadata": {},
     "output_type": "display_data"
    }
   ],
   "source": [
    "applyTwice (\"HAHA \" ++) \"HEY\""
   ]
  },
  {
   "cell_type": "code",
   "execution_count": 18,
   "metadata": {
    "attributes": {
     "classes": [
      "haskell:hs"
     ],
     "id": "",
     "name": "\"code\""
    }
   },
   "outputs": [
    {
     "data": {
      "text/plain": [
       "[3,3,1]"
      ]
     },
     "metadata": {},
     "output_type": "display_data"
    }
   ],
   "source": [
    "applyTwice (3:) [1]"
   ]
  },
  {
   "cell_type": "markdown",
   "metadata": {},
   "source": [
    "### Implementation of `zipWith`\n",
    "[`zipWith`](https://hackage.haskell.org/package/base/docs/Prelude.html#v:zipWith)\n",
    "takes a function and two lists as parameters and then joins the two\n",
    "lists by applying the function between corresponding elements. "
   ]
  },
  {
   "cell_type": "code",
   "execution_count": 19,
   "metadata": {},
   "outputs": [
    {
     "data": {
      "text/plain": [
       "[6,8,7,9]"
      ]
     },
     "metadata": {},
     "output_type": "display_data"
    }
   ],
   "source": [
    "zipWith (+) [4,2,5,6] [2,6,2,3]"
   ]
  },
  {
   "cell_type": "code",
   "execution_count": 20,
   "metadata": {
    "attributes": {
     "classes": [
      "haskell:hs"
     ],
     "id": "",
     "name": "\"code\""
    }
   },
   "outputs": [],
   "source": [
    "zipWith' :: (a -> b -> c) -> [a] -> [b] -> [c]\n",
    "zipWith' _ [] _ = []\n",
    "zipWith' _ _ [] = []\n",
    "zipWith' f (x:xs) (y:ys) = f x y : zipWith' f xs ys"
   ]
  },
  {
   "cell_type": "code",
   "execution_count": 21,
   "metadata": {
    "attributes": {
     "classes": [
      "haskell:ghci"
     ],
     "id": "",
     "name": "\"code\""
    }
   },
   "outputs": [
    {
     "data": {
      "text/plain": [
       "[6,8,7,9]"
      ]
     },
     "metadata": {},
     "output_type": "display_data"
    }
   ],
   "source": [
    "zipWith' (+) [4,2,5,6] [2,6,2,3]  -- withour () + will be applied to zipWith'"
   ]
  },
  {
   "cell_type": "code",
   "execution_count": 22,
   "metadata": {
    "attributes": {
     "classes": [
      "haskell:ghci"
     ],
     "id": "",
     "name": "\"code\""
    }
   },
   "outputs": [
    {
     "data": {
      "text/plain": [
       "[\"foo fighters\",\"bar hoppers\",\"baz aldrin\"]"
      ]
     },
     "metadata": {},
     "output_type": "display_data"
    }
   ],
   "source": [
    "zipWith' (++) [\"foo \", \"bar \", \"baz \"] [\"fighters\", \"hoppers\", \"aldrin\"]"
   ]
  },
  {
   "cell_type": "code",
   "execution_count": 23,
   "metadata": {
    "attributes": {
     "classes": [
      "haskell:ghci"
     ],
     "id": "",
     "name": "\"code\""
    }
   },
   "outputs": [
    {
     "data": {
      "text/plain": [
       "[2,4,6,8,10]"
      ]
     },
     "metadata": {},
     "output_type": "display_data"
    }
   ],
   "source": [
    "zipWith' (*) (replicate 5 2) [1..]"
   ]
  },
  {
   "cell_type": "code",
   "execution_count": 24,
   "metadata": {
    "attributes": {
     "classes": [
      "haskell:ghci"
     ],
     "id": "",
     "name": "\"code\""
    }
   },
   "outputs": [
    {
     "data": {
      "text/plain": [
       "[[3,4,6],[9,20,30],[10,12,12]]"
      ]
     },
     "metadata": {},
     "output_type": "display_data"
    }
   ],
   "source": [
    "zipWith' (zipWith' (*)) [[1,2,3],[3,5,6],[2,3,4]] [[3,2,2],[3,4,5],[5,4,3]]"
   ]
  },
  {
   "cell_type": "markdown",
   "metadata": {},
   "source": [
    "* Imperative programming usually uses stuff like for\n",
    "loops, while loops, setting something to a variable, checking its state,\n",
    "etc. to achieve some behavior and then wrap it around an interface, like\n",
    "a function. \n",
    "* Functional programming uses higher order functions to\n",
    "abstract away common patterns, like examining two lists in pairs and\n",
    "doing something with those pairs or getting a set of solutions and\n",
    "eliminating the ones you don't need."
   ]
  },
  {
   "cell_type": "markdown",
   "metadata": {},
   "source": [
    "### Implementation of `flip`\n",
    "\n",
    "[`flip`](https://hackage.haskell.org/package/base/docs/Prelude.html#v:flip) takes a function and returns a function that is\n",
    "like our original function, only the first two arguments are flipped. "
   ]
  },
  {
   "cell_type": "code",
   "execution_count": 25,
   "metadata": {},
   "outputs": [
    {
     "data": {
      "text/plain": [
       "[('h',1),('e',2),('l',3),('l',4),('o',5)]"
      ]
     },
     "metadata": {},
     "output_type": "display_data"
    }
   ],
   "source": [
    "flip zip [1,2,3,4,5] \"hello\""
   ]
  },
  {
   "cell_type": "markdown",
   "metadata": {},
   "source": [
    "We can implement it like so:"
   ]
  },
  {
   "cell_type": "code",
   "execution_count": 26,
   "metadata": {
    "attributes": {
     "classes": [
      "haskell:hs"
     ],
     "id": "",
     "name": "\"code\""
    }
   },
   "outputs": [],
   "source": [
    "flip' :: (a -> b -> c) -> (b -> a -> c)\n",
    "flip' f = g\n",
    "    where g x y = f y x"
   ]
  },
  {
   "cell_type": "code",
   "execution_count": 27,
   "metadata": {},
   "outputs": [
    {
     "data": {
      "text/plain": [
       "[('h',1),('e',2),('l',3),('l',4),('o',5)]"
      ]
     },
     "metadata": {},
     "output_type": "display_data"
    }
   ],
   "source": [
    "flip' zip [1,2,3,4,5] \"hello\""
   ]
  },
  {
   "cell_type": "markdown",
   "metadata": {},
   "source": [
    "* Type declaration says that it takes a function that takes\n",
    "an `a` and a `b` and returns a function that takes a `b` and an `a`. \n",
    "\n",
    "* Because `->` is right associative, so \n",
    "`(a -> b -> c) -> (b -> a -> c)` is the same as\n",
    "`(a -> b -> c) -> (b -> (a -> c))`,\n",
    "which is the same as `(a -> b -> c) -> b -> a -> c`. \n",
    "\n",
    "Why don't we just try `(a -> b -> c) -> b -> a -> c`?"
   ]
  },
  {
   "cell_type": "code",
   "execution_count": 28,
   "metadata": {
    "attributes": {
     "classes": [
      "haskell:hs"
     ],
     "id": "",
     "name": "\"code\""
    }
   },
   "outputs": [],
   "source": [
    "flip' :: (a -> b -> c) -> b -> a -> c\n",
    "flip' f y x = f x y"
   ]
  },
  {
   "cell_type": "markdown",
   "metadata": {},
   "source": [
    "* When we\n",
    "call `flip' f` without the parameters `y` and `x`, it will return an `f` that\n",
    "takes those two parameters but calls them flipped. \n",
    "* Even though flipped\n",
    "functions are usually passed to other functions, we can take advantage\n",
    "of currying when making higher-order functions by thinking ahead and\n",
    "writing what their end result would be if they were called fully\n",
    "applied."
   ]
  },
  {
   "cell_type": "markdown",
   "metadata": {},
   "source": [
    "Let's take some time to rethink about the below function declaration!"
   ]
  },
  {
   "cell_type": "code",
   "execution_count": 29,
   "metadata": {},
   "outputs": [
    {
     "ename": "",
     "evalue": "",
     "output_type": "error",
     "traceback": [
      "<interactive>:1:1: error: The type signature for ‘foo’ lacks an accompanying binding"
     ]
    }
   ],
   "source": [
    "foo :: (a -> b -> c) -> b -> a -> c"
   ]
  },
  {
   "cell_type": "code",
   "execution_count": 30,
   "metadata": {
    "attributes": {
     "classes": [
      "haskell:ghci"
     ],
     "id": "",
     "name": "\"code\""
    }
   },
   "outputs": [
    {
     "data": {
      "text/plain": [
       "[('h',1),('e',2),('l',3),('l',4),('o',5)]"
      ]
     },
     "metadata": {},
     "output_type": "display_data"
    }
   ],
   "source": [
    "flip' zip [1,2,3,4,5] \"hello\""
   ]
  },
  {
   "cell_type": "code",
   "execution_count": 31,
   "metadata": {
    "attributes": {
     "classes": [
      "haskell:ghci"
     ],
     "id": "",
     "name": "\"code\""
    }
   },
   "outputs": [
    {
     "data": {
      "text/plain": [
       "[5,4,3,2,1]"
      ]
     },
     "metadata": {},
     "output_type": "display_data"
    }
   ],
   "source": [
    "zipWith (flip' div) [2,2..] [10,8,6,4,2]"
   ]
  },
  {
   "cell_type": "markdown",
   "metadata": {},
   "source": [
    "<img src=\"img/map.png\" title=\"map\" style=\"float:right;margin-right:2em;\" />\n",
    "\n",
    "## Maps and filters\n",
    "\n",
    "### Map\n",
    "__[`map`](https://hackage.haskell.org/package/base/docs/Prelude.html#v:map)__ takes a function and a list and applies that function to every\n",
    "element in the list, producing a new list. "
   ]
  },
  {
   "cell_type": "code",
   "execution_count": 32,
   "metadata": {
    "attributes": {
     "classes": [
      "haskell:hs"
     ],
     "id": "",
     "name": "\"code\""
    }
   },
   "outputs": [],
   "source": [
    "-- How is map defined?\n",
    "map :: (a -> b) -> [a] -> [b]\n",
    "map _ [] = []\n",
    "map f (x:xs) = f x : map f xs"
   ]
  },
  {
   "cell_type": "markdown",
   "metadata": {},
   "source": [
    "* [`map`](https://hackage.haskell.org/package/base/docs/Prelude.html#v:map) is one of those really versatile higher-order\n",
    "functions that can be used in millions of different ways. \n",
    "\n",
    "* This is the second function that I require you to memorize, in addition to zip."
   ]
  },
  {
   "cell_type": "code",
   "execution_count": 33,
   "metadata": {
    "attributes": {
     "classes": [
      "haskell:ghci"
     ],
     "id": "",
     "name": "\"code\""
    }
   },
   "outputs": [
    {
     "data": {
      "text/plain": [
       "[4,8,6,4,9]"
      ]
     },
     "metadata": {},
     "output_type": "display_data"
    }
   ],
   "source": [
    "map (+3) [1,5,3,1,6]"
   ]
  },
  {
   "cell_type": "code",
   "execution_count": 34,
   "metadata": {
    "attributes": {
     "classes": [
      "haskell:ghci"
     ],
     "id": "",
     "name": "\"code\""
    }
   },
   "outputs": [
    {
     "data": {
      "text/plain": [
       "[\"BIFF!\",\"BANG!\",\"POW!\"]"
      ]
     },
     "metadata": {},
     "output_type": "display_data"
    }
   ],
   "source": [
    "map (++ \"!\") [\"BIFF\", \"BANG\", \"POW\"]"
   ]
  },
  {
   "cell_type": "code",
   "execution_count": 35,
   "metadata": {
    "attributes": {
     "classes": [
      "haskell:ghci"
     ],
     "id": "",
     "name": "\"code\""
    }
   },
   "outputs": [
    {
     "data": {
      "text/plain": [
       "[[3,3,3],[4,4,4],[5,5,5],[6,6,6]]"
      ]
     },
     "metadata": {},
     "output_type": "display_data"
    }
   ],
   "source": [
    "map (replicate 3) [3..6]"
   ]
  },
  {
   "cell_type": "code",
   "execution_count": 36,
   "metadata": {
    "attributes": {
     "classes": [
      "haskell:ghci"
     ],
     "id": "",
     "name": "\"code\""
    }
   },
   "outputs": [
    {
     "data": {
      "text/plain": [
       "[[1,4],[9,16,25,36],[49,64]]"
      ]
     },
     "metadata": {},
     "output_type": "display_data"
    }
   ],
   "source": [
    "map (map (^2)) [[1,2],[3,4,5,6],[7,8]]"
   ]
  },
  {
   "cell_type": "code",
   "execution_count": 37,
   "metadata": {
    "attributes": {
     "classes": [
      "haskell:ghci"
     ],
     "id": "",
     "name": "\"code\""
    }
   },
   "outputs": [
    {
     "data": {
      "text/plain": [
       "[1,3,6,2,2]"
      ]
     },
     "metadata": {},
     "output_type": "display_data"
    }
   ],
   "source": [
    "map fst [(1,2),(3,5),(6,3),(2,6),(2,5)]"
   ]
  },
  {
   "cell_type": "markdown",
   "metadata": {},
   "source": [
    "* These could be achieved with a list\n",
    "comprehension. `map (+3) [1,5,3,1,6]` is the same as writing\n",
    "`[x+3 | x <- [1,5,3,1,6]]`.\n",
    "* Using [`map`] is recommended (comprehension is more powerful though)\n",
    "\n",
    "### Filter\n",
    "\n",
    "* __[`filter`](https://hackage.haskell.org/package/base/docs/Prelude.html#v:filter)__ is a function that takes a predicate (a predicate is a function\n",
    "that tells whether something is true or not, so in our case, a function\n",
    "that returns a boolean value) and a list and then returns the list of\n",
    "elements that satisfy the predicate. \n",
    "* Sorry, the third function to memorize ..."
   ]
  },
  {
   "cell_type": "code",
   "execution_count": 38,
   "metadata": {
    "attributes": {
     "classes": [
      "haskell:hs"
     ],
     "id": "",
     "name": "\"code\""
    }
   },
   "outputs": [],
   "source": [
    "-- The type signature and implementation go like this:\n",
    "filter :: (a -> Bool) -> [a] -> [a]\n",
    "filter _ [] = []\n",
    "filter p (x:xs)\n",
    "    | p x       = x : filter p xs\n",
    "    | otherwise = filter p xs\n",
    "-- If `p x` evaluates to [`True`](https://hackage.haskell.org/package/base/docs/Prelude.html#v:True), the element gets included in the new list. If it doesn't, it stays out. Some usage examples:"
   ]
  },
  {
   "cell_type": "code",
   "execution_count": 39,
   "metadata": {
    "attributes": {
     "classes": [
      "haskell:hs"
     ],
     "id": "",
     "name": "\"code\""
    }
   },
   "outputs": [
    {
     "data": {
      "text/plain": [
       "[5,6,4]"
      ]
     },
     "metadata": {},
     "output_type": "display_data"
    }
   ],
   "source": [
    "filter (>3) [1,5,3,2,1,6,4,3,2,1]"
   ]
  },
  {
   "cell_type": "code",
   "execution_count": 40,
   "metadata": {
    "attributes": {
     "classes": [
      "haskell:hs"
     ],
     "id": "",
     "name": "\"code\""
    }
   },
   "outputs": [
    {
     "data": {
      "text/plain": [
       "[3]"
      ]
     },
     "metadata": {},
     "output_type": "display_data"
    }
   ],
   "source": [
    "filter (==3) [1,2,3,4,5]"
   ]
  },
  {
   "cell_type": "code",
   "execution_count": 41,
   "metadata": {
    "attributes": {
     "classes": [
      "haskell:hs"
     ],
     "id": "",
     "name": "\"code\""
    }
   },
   "outputs": [
    {
     "data": {
      "text/plain": [
       "[2,4,6,8,10]"
      ]
     },
     "metadata": {},
     "output_type": "display_data"
    }
   ],
   "source": [
    "filter even [1..10]"
   ]
  },
  {
   "cell_type": "code",
   "execution_count": 42,
   "metadata": {
    "attributes": {
     "classes": [
      "haskell:hs"
     ],
     "id": "",
     "name": "\"code\""
    }
   },
   "outputs": [
    {
     "data": {
      "text/plain": [
       "[[1,2,3],[3,4,5],[2,2]]"
      ]
     },
     "metadata": {},
     "output_type": "display_data"
    }
   ],
   "source": [
    "let notNull x = not (null x) in filter notNull [[1,2,3],[],[3,4,5],[2,2],[],[],[]]"
   ]
  },
  {
   "cell_type": "code",
   "execution_count": 43,
   "metadata": {
    "attributes": {
     "classes": [
      "haskell:hs"
     ],
     "id": "",
     "name": "\"code\""
    }
   },
   "outputs": [
    {
     "data": {
      "text/plain": [
       "\"uagameasadifeent\""
      ]
     },
     "metadata": {},
     "output_type": "display_data"
    }
   ],
   "source": [
    "filter (`elem` ['a'..'z']) \"u LaUgH aT mE BeCaUsE I aM diFfeRent\""
   ]
  },
  {
   "cell_type": "code",
   "execution_count": 44,
   "metadata": {
    "attributes": {
     "classes": [
      "haskell:ghci"
     ],
     "id": "",
     "name": "\"code\""
    }
   },
   "outputs": [],
   "source": [
    "quicksort :: (Ord a) => [a] -> [a]\n",
    "quicksort [] = []\n",
    "quicksort (x:xs) =\n",
    "    let smallerSorted = quicksort (filter (<=x) xs)\n",
    "        biggerSorted = quicksort (filter (>x) xs)\n",
    "    in  smallerSorted ++ [x] ++ biggerSorted"
   ]
  },
  {
   "cell_type": "markdown",
   "metadata": {},
   "source": [
    "### Example\n",
    "__Find the largest number under 100,000 that's divisible by 3829__."
   ]
  },
  {
   "cell_type": "code",
   "execution_count": 45,
   "metadata": {
    "attributes": {
     "classes": [
      "haskell:hs"
     ],
     "id": "",
     "name": "\"code\""
    }
   },
   "outputs": [],
   "source": [
    "largestDivisible :: (Integral a) => a\n",
    "largestDivisible = head (filter p [100000,99999..])\n",
    "    where p x = x `mod` 3829 == 0"
   ]
  },
  {
   "cell_type": "markdown",
   "metadata": {},
   "source": [
    "### Partial application using map\n",
    "\n",
    "* We've  mapped functions that take one parameter over lists,\n",
    "like `map (*2) [0..]` to get a list of type `(Num a) => [a]`, and we can\n",
    "also do `map (*) [0..]` without a problem. \n",
    "\n",
    "* What happens here is that the\n",
    "number in the list is applied to the function [`*`](https://hackage.haskell.org/package/base/docs/Prelude.html#v:-42-), which has a type of\n",
    "`(Num a) => a -> a -> a`. Applying only one parameter to a function\n",
    "that takes two parameters returns a function that takes one parameter.\n",
    "\n",
    "* If we map [`*`](https://hackage.haskell.org/package/base/docs/Prelude.html#v:-42-) over the list `[0..]`, we get back a list of functions that\n",
    "only take one parameter, so `(Num a) => [a -> a]`. `map (*) [0..]`\n",
    "produces a list like the one we'd get by writing\n",
    "`[(0*),(1*),(2*),(3*),(4*),(5*)...`"
   ]
  },
  {
   "cell_type": "code",
   "execution_count": 46,
   "metadata": {
    "attributes": {
     "classes": [
      "haskell:hs"
     ],
     "id": "",
     "name": "\"code\""
    }
   },
   "outputs": [
    {
     "data": {
      "text/plain": [
       "20"
      ]
     },
     "metadata": {},
     "output_type": "display_data"
    }
   ],
   "source": [
    "let listOfFuns = map (*) [0..]\n",
    "(listOfFuns !! 4) 5\n",
    "-- Getting the element with the index `4` from our list returns a function that's equivalent to `(4*)`. And then, we just apply `5` to that function. So that's like writing `(4*) 5` or just `4 * 5`."
   ]
  },
  {
   "cell_type": "markdown",
   "metadata": {},
   "source": [
    "\n",
    "\n",
    "## Lambdas\n",
    "\n",
    "\n",
    "<img src=\"img/lambda.png\" title=\"lambda\" style=\"float:right;margin-left:2em;\" />\n",
    "\n",
    "* Lambdas are basically anonymous functions \n",
    "* Lambdas are used only once. \n",
    "* Typically, a lambda is passed to a higher-order function. \n",
    "* Lambda `(\\xs -> foo xs xxs)` is usually\n",
    "surrounded  by parentheses, because otherwise they extend all the way\n",
    "to the right.\n",
    "* Lambdas are expressions. The\n",
    "expression `(\\xs -> length xs > 15)` returns a function that tells us\n",
    "whether the length of the list passed to it is greater than 15."
   ]
  },
  {
   "cell_type": "markdown",
   "metadata": {},
   "source": [
    "### Lambdas examples"
   ]
  },
  {
   "cell_type": "code",
   "execution_count": 47,
   "metadata": {},
   "outputs": [
    {
     "data": {
      "text/plain": [
       "[4,9,6,5]"
      ]
     },
     "metadata": {},
     "output_type": "display_data"
    },
    {
     "data": {
      "text/plain": [
       "[4,9,6,5]"
      ]
     },
     "metadata": {},
     "output_type": "display_data"
    }
   ],
   "source": [
    "map (+3) [1,6,3,2]\n",
    "map (\\x -> x + 3) [1,6,3,2]"
   ]
  },
  {
   "cell_type": "markdown",
   "metadata": {},
   "source": [
    "Like normal functions, lambdas can take any number of parameters:"
   ]
  },
  {
   "cell_type": "code",
   "execution_count": 48,
   "metadata": {
    "attributes": {
     "classes": [
      "haskell:ghci"
     ],
     "id": "",
     "name": "\"code\""
    }
   },
   "outputs": [
    {
     "data": {
      "text/plain": [
       "[153.0,61.5,31.0,15.75,6.6]"
      ]
     },
     "metadata": {},
     "output_type": "display_data"
    }
   ],
   "source": [
    "zipWith (\\a b -> (a * 30 + 3) / b) [5,4,3,2,1] [1,2,3,4,5]"
   ]
  },
  {
   "cell_type": "markdown",
   "metadata": {},
   "source": [
    "* You can pattern match in lambdas. \n",
    "* The only\n",
    "difference is that you can't define several patterns for one parameter,\n",
    "like making a `[]` and a `(x:xs)` pattern for the same parameter and then\n",
    "having values fall through. \n",
    "* If a pattern matching fails in a lambda, a\n",
    "runtime error occurs, so be careful when pattern matching in lambdas!"
   ]
  },
  {
   "cell_type": "code",
   "execution_count": 49,
   "metadata": {
    "attributes": {
     "classes": [
      "haskell:ghci"
     ],
     "id": "",
     "name": "\"code\""
    }
   },
   "outputs": [
    {
     "data": {
      "text/plain": [
       "[3,8,9,8,7]"
      ]
     },
     "metadata": {},
     "output_type": "display_data"
    }
   ],
   "source": [
    "map (\\(a,b) -> a + b) [(1,2),(3,5),(6,3),(2,6),(2,5)]"
   ]
  },
  {
   "cell_type": "markdown",
   "metadata": {},
   "source": [
    "Really not several patterns?"
   ]
  },
  {
   "cell_type": "code",
   "execution_count": 50,
   "metadata": {},
   "outputs": [],
   "source": [
    "-------------------------------------------------------------------------------------------(\\a -> case a of {[] -> []; (x:xs) -> [x]}) [1..6]"
   ]
  },
  {
   "cell_type": "markdown",
   "metadata": {},
   "source": [
    "### Lambdas associativity\n",
    "* Lambdas are normally surrounded by parentheses unless we mean for them\n",
    "to extend all the way to the right. \n",
    "* Due to\n",
    "the way functions are curried by default, these two are equivalent:"
   ]
  },
  {
   "cell_type": "code",
   "execution_count": 51,
   "metadata": {
    "attributes": {
     "classes": [
      "haskell:ghci"
     ],
     "id": "",
     "name": "\"code\""
    }
   },
   "outputs": [],
   "source": [
    "addThree :: (Num a) => a -> a -> a -> a\n",
    "addThree x y z = x + y + z"
   ]
  },
  {
   "cell_type": "code",
   "execution_count": 52,
   "metadata": {
    "attributes": {
     "classes": [
      "haskell:ghci"
     ],
     "id": "",
     "name": "\"code\""
    }
   },
   "outputs": [],
   "source": [
    "addThree :: (Num a) => a -> a -> a -> a\n",
    "addThree = \\x -> \\y -> \\z -> x + y + z"
   ]
  },
  {
   "cell_type": "code",
   "execution_count": 53,
   "metadata": {},
   "outputs": [],
   "source": [
    "addThree :: (Num a) => a -> a -> a -> a\n",
    "addThree = \\x -> (\\y -> (\\z -> x + y + z))"
   ]
  },
  {
   "cell_type": "markdown",
   "metadata": {},
   "source": [
    "### Example: flip\n",
    "The [`flip`](https://hackage.haskell.org/package/base/docs/Prelude.html#v:flip) function is the most readable when defined like so:"
   ]
  },
  {
   "cell_type": "code",
   "execution_count": 54,
   "metadata": {
    "attributes": {
     "classes": [
      "haskell:ghci"
     ],
     "id": "",
     "name": "\"code\""
    }
   },
   "outputs": [],
   "source": [
    "flip' :: (a -> b -> c) -> b -> a -> c\n",
    "flip' f = \\x y -> f y x   -- flip' f returns f y x where f is a variable of functions"
   ]
  },
  {
   "cell_type": "markdown",
   "metadata": {},
   "source": [
    "<a name=\"folds\"></a>\n",
    "\n",
    "## Only folds and horses\n",
    "\n",
    "\n",
    "<img src=\"img/origami.png\" title=\"folded bird\" style=\"float:right;margin-left:2em;\" />\n",
    "\n",
    "* In recursion, a typical theme of the recursive functions that operated on lists is like this:\n",
    "    * An edge case for the empty list. \n",
    "    * Use the `x:xs` pattern and take some action that involves a single element `x` and the rest `xs`of the list. \n",
    "    \n",
    "* A couple of very useful functions were introduced to encapsulate the very common pattern: folds. \n",
    "* Folds are sort of like the [`map`](https://hackage.haskell.org/package/base/docs/Prelude.html#v:map) function, only they\n",
    "reduce the list to some single value."
   ]
  },
  {
   "cell_type": "markdown",
   "metadata": {},
   "source": [
    "### Folds\n",
    "\n",
    "* A fold takes a binary function that takes two\n",
    "parameters, a starting value (the\n",
    "accumulator) and a list to fold up. \n",
    "* The binary function is called with the accumulator and the\n",
    "first (or last) element and produces a new accumulator. \n",
    "* Then, the binary\n",
    "function is called again with the new accumulator and the now new first\n",
    "(or last) element, and so on. \n",
    "* Once we've walked over the whole list,\n",
    "only the accumulator remains, which is what we've reduced the list to.\n",
    "\n",
    "### Foldl\n",
    "* __[`foldl`](https://hackage.haskell.org/package/base/docs/Prelude.html#v:foldl)__ function is also called the left\n",
    "fold as it folds the list up from the left side. \n",
    "* Another function to memorize ..."
   ]
  },
  {
   "cell_type": "code",
   "execution_count": 55,
   "metadata": {
    "attributes": {
     "classes": [
      "haskell:hs"
     ],
     "id": "",
     "name": "\"code\""
    }
   },
   "outputs": [],
   "source": [
    "-- Implementation of [`sum`](https://hackage.haskell.org/package/base/docs/Prelude.html#v:sum) \n",
    "sum' :: (Num a) => [a] -> a\n",
    "sum' xs = foldl (\\acc x -> acc + x) 0 xs"
   ]
  },
  {
   "cell_type": "code",
   "execution_count": 56,
   "metadata": {
    "attributes": {
     "classes": [
      "haskell:ghci"
     ],
     "id": "",
     "name": "\"code\""
    }
   },
   "outputs": [
    {
     "data": {
      "text/plain": [
       "11"
      ]
     },
     "metadata": {},
     "output_type": "display_data"
    }
   ],
   "source": [
    "sum' [3,5,2,1]"
   ]
  },
  {
   "cell_type": "markdown",
   "metadata": {},
   "source": [
    "<img src=\"img/foldl.png\" title=\"foldl\" style=\"float:right;margin-right:2em;\" />\n",
    "\n",
    "How this fold happens (The greenish brown number is the accumulator\n",
    "value):\n",
    "\n",
    "* `\\acc x -> acc + x` is the binary function.\n",
    "* `0` is the starting value and `xs` is the list\n",
    "to be folded up. \n",
    "* Now first, `0` is used as the `acc` parameter to the binary\n",
    "function and `3` is used as the `x` (or the current element) parameter.\n",
    "`0 + 3` produces a `3` and it becomes the new accumulator value, so to speak.\n",
    "Next up, `3` is used as the accumulator value and `5` as the current element\n",
    "and `8` becomes the new accumulator value. Moving forward, `8` is the\n",
    "accumulator value, `2` is the current element, the new accumulator value\n",
    "is `10`. Finally, that `10` is used as the accumulator value and `1` as the\n",
    "current element, producing an `11`. Congratulations, you've done a fold!"
   ]
  },
  {
   "cell_type": "code",
   "execution_count": 57,
   "metadata": {
    "attributes": {
     "classes": [
      "haskell:hs"
     ],
     "id": "",
     "name": "\"code\""
    }
   },
   "outputs": [],
   "source": [
    "-- More succinctly?\n",
    "sum' :: (Num a) => [a] -> a\n",
    "sum' = foldl (+) 0"
   ]
  },
  {
   "cell_type": "markdown",
   "metadata": {},
   "source": [
    "* The lambda function `(\\acc x -> acc + x)` is the same as `(+)`. \n",
    "* We can\n",
    "omit the `xs` as the parameter because calling `foldl (+) 0` will return a\n",
    "function that takes a list: currying!.\n",
    "\n",
    "### Reimplement of `elem`\n",
    "\n",
    "[`elem`](https://hackage.haskell.org/package/base/docs/Prelude.html#v:elem) checks whether a\n",
    "value is part of a list."
   ]
  },
  {
   "cell_type": "code",
   "execution_count": 58,
   "metadata": {
    "attributes": {
     "classes": [
      "haskell:hs"
     ],
     "id": "",
     "name": "\"code\""
    }
   },
   "outputs": [],
   "source": [
    "elem' :: (Eq a) => a -> [a] -> Bool\n",
    "elem' y ys = foldl (\\acc x -> if x == y then True else acc) False ys"
   ]
  },
  {
   "cell_type": "markdown",
   "metadata": {},
   "source": [
    "### `foldr`\n",
    "\n",
    "* The right fold, __[`foldr`](https://hackage.haskell.org/package/base/docs/Prelude.html#v:foldr)__ works in a similar way to the left fold, only the\n",
    "accumulator eats up the values from the right. \n",
    "\n",
    "* The left fold's\n",
    "binary function has the accumulator as the first parameter and the\n",
    "current value as the second one (so `\\acc x -> ...`), the right fold's\n",
    "binary function has the current value as the first parameter and the\n",
    "accumulator as the second one (so `\\x acc -> ...`). It kind of makes\n",
    "sense that the right fold has the accumulator on the right, because it\n",
    "folds from the right side.\n",
    "* Last function to memorize ...\n",
    "\n",
    "The accumulator will be\n",
    "a list, we'll be accumulating the mapped list element by element. From\n",
    "that, it's obvious that the starting element will be an empty list."
   ]
  },
  {
   "cell_type": "code",
   "execution_count": 59,
   "metadata": {
    "attributes": {
     "classes": [
      "haskell:hs"
     ],
     "id": "",
     "name": "\"code\""
    }
   },
   "outputs": [],
   "source": [
    "map' :: (a -> b) -> [a] -> [b]\n",
    "map' f xs = foldr (\\x acc -> f x : acc) [] xs"
   ]
  },
  {
   "cell_type": "code",
   "execution_count": 60,
   "metadata": {},
   "outputs": [
    {
     "data": {
      "text/plain": [
       "[4,5,6]"
      ]
     },
     "metadata": {},
     "output_type": "display_data"
    }
   ],
   "source": [
    "map' (+3) [1,2,3]\n",
    "-- If we're mapping `(+3)` to `[1,2,3]`, we approach the list from the right side. We take the last element, which is `3` and apply the function to it, which ends up being `6`. Then, we prepend it to the accumulator, which is was `[]`. `6:[]` is `[6]` and that's now the accumulator. We apply `(+3)` to `2`, that's `5` and we prepend (`:`) it to the accumulator, so the accumulator is now `[5,6]`. We apply `(+3)` to `1` and prepend that to the accumulator and so the end value is `[4,5,6]`."
   ]
  },
  {
   "cell_type": "markdown",
   "metadata": {},
   "source": [
    "<img src=\"img/washmachine.png\" title=\"fold this up!\" style=\"float:right;margin-left:2em;\" />\n",
    "\n",
    "### Summary of fold\n",
    "\n",
    "* One big difference is that right folds work on\n",
    "infinite lists, whereas left ones don't! \n",
    "\n",
    "    * If you take an infinite list at some point and you fold it up from the right, you'll eventually reach the beginning of the list. \n",
    "    * However, if you take an infinite list at a point and you try to fold it up from the left, you'll never reach an end!\n",
    "\n",
    "* Folds can be used to implement any function where you traverse a list\n",
    "once, element by element, and then return something based on that.\n",
    "Whenever you want to traverse a list to return something, chances are\n",
    "you want a fold. That's why folds are, along with maps and filters, one\n",
    "of the most useful types of functions in functional programming.\n",
    "\n",
    "* Another way to picture right and left folds is like this: say we have a\n",
    "right fold and the binary function is `f` and the starting value is `z`.\n",
    "\n",
    "    * If we're right folding over the list `[3,4,5,6]`, we're essentially doing this:\n",
    "`f 3 (f 4 (f 5 (f 6 z)))`.\n",
    "`f` is called with the last element in the\n",
    "list and the accumulator, that value is given as the accumulator to the\n",
    "next to last value and so on. \n",
    "        * If we take `f` to be [`+`](https://hackage.haskell.org/package/base/docs/Prelude.html#v:-43-) and the starting\n",
    "accumulator value to be `0`, that's `3 + (4 + (5 + (6 + 0)))`. \n",
    "        * Or if we write [`+`](https://hackage.haskell.org/package/base/docs/Prelude.html#v:-43-) as a prefix function, that's `(+) 3 ((+) 4 ((+) 5 ((+) 6 0)))`.\n",
    "\n",
    "    * Doing a left fold over that list with `g` as the binary\n",
    "function and `z` as the accumulator is the equivalent of\n",
    "`g (g (g (g z 3) 4) 5) 6`.\n",
    "\n",
    "\n"
   ]
  },
  {
   "cell_type": "markdown",
   "metadata": {},
   "source": [
    "## Function application with \\$\n",
    "\n",
    "\n",
    "The [`$`](https://hackage.haskell.org/package/base/docs/Prelude.html#v:-36-) function, also called\n",
    "*function application* (what? again?)"
   ]
  },
  {
   "cell_type": "code",
   "execution_count": 61,
   "metadata": {
    "attributes": {
     "classes": [
      "haskell:hs"
     ],
     "id": "",
     "name": "\"code\""
    }
   },
   "outputs": [],
   "source": [
    "($) :: (a -> b) -> a -> b\n",
    "f $ x = f x"
   ]
  },
  {
   "cell_type": "markdown",
   "metadata": {},
   "source": [
    "<img src=\"img/dollar.png\" title=\"dollar\" style=\"float:right;margin-right:2em;\" />\n",
    "\n",
    "* Whereas normal function\n",
    "application (putting a space between two things) has a really high\n",
    "precedence, the [`$`](https://hackage.haskell.org/package/base/docs/Prelude.html#v:-36-) function has the lowest precedence. \n",
    "* Function\n",
    "application with a space is left-associative (so `f a b c` is the same as\n",
    "`((f a) b) c))`, function application with [`$`](https://hackage.haskell.org/package/base/docs/Prelude.html#v:-36-) is right-associative.\n",
    "* It changes precedence and associativity!\n",
    "* It's\n",
    "a convenience function so that we don't have to write so many\n",
    "parentheses. "
   ]
  },
  {
   "cell_type": "code",
   "execution_count": 62,
   "metadata": {},
   "outputs": [
    {
     "data": {
      "text/plain": [
       "993.6486803921487"
      ]
     },
     "metadata": {},
     "output_type": "display_data"
    },
    {
     "data": {
      "text/plain": [
       "993.6486803921487"
      ]
     },
     "metadata": {},
     "output_type": "display_data"
    }
   ],
   "source": [
    "sum (map sqrt [1..130])\n",
    "sum $ map sqrt [1..130]"
   ]
  },
  {
   "cell_type": "code",
   "execution_count": 63,
   "metadata": {},
   "outputs": [
    {
     "data": {
      "text/plain": [
       "14.732050807568877"
      ]
     },
     "metadata": {},
     "output_type": "display_data"
    },
    {
     "data": {
      "text/plain": [
       "4.0"
      ]
     },
     "metadata": {},
     "output_type": "display_data"
    },
    {
     "data": {
      "text/plain": [
       "14.732050807568877"
      ]
     },
     "metadata": {},
     "output_type": "display_data"
    }
   ],
   "source": [
    "sqrt 3 + 4 + 9 -- ?\n",
    "sqrt (3 + 4 + 9)\n",
    "sqrt $ 3 + 4 + 9"
   ]
  },
  {
   "cell_type": "code",
   "execution_count": 64,
   "metadata": {},
   "outputs": [
    {
     "data": {
      "text/plain": [
       "80"
      ]
     },
     "metadata": {},
     "output_type": "display_data"
    },
    {
     "ename": "",
     "evalue": "",
     "output_type": "error",
     "traceback": [
      "<interactive>:1:7: error:\n    • Couldn't match type ‘[Integer]’ with ‘[Integer] -> b’\n      Expected type: [Integer] -> [Integer] -> b\n        Actual type: [Integer] -> [Integer]\n    • Possible cause: ‘filter’ is applied to too many arguments\n      In the second argument of ‘($)’, namely ‘filter (> 10)’\n      In the first argument of ‘($)’, namely ‘sum $ filter (> 10)’\n      In the expression: sum $ filter (> 10) $ map (* 2) [2 .. 10]\n    • Relevant bindings include it :: b (bound at <interactive>:1:1)"
     ]
    }
   ],
   "source": [
    "sum (filter (> 10) (map (*2) [2..10]))\n",
    "sum $ filter (> 10) $ map (*2) [2..10]\n",
    "-- right-associative, f (g (z x)) is equal to f $ g $ z x"
   ]
  },
  {
   "cell_type": "markdown",
   "metadata": {},
   "source": [
    "__Big Trick:__  [`$`](https://hackage.haskell.org/package/base/docs/Prelude.html#v:-36-) means that function\n",
    "application can be treated just like another function. That way, we can,\n",
    "for instance, map function application over a list of functions."
   ]
  },
  {
   "cell_type": "code",
   "execution_count": 65,
   "metadata": {
    "attributes": {
     "classes": [
      "haskell:ghci"
     ],
     "id": "",
     "name": "\"code\""
    }
   },
   "outputs": [
    {
     "data": {
      "text/plain": [
       "[7.0,30.0,9.0,1.7320508075688772]"
      ]
     },
     "metadata": {},
     "output_type": "display_data"
    }
   ],
   "source": [
    "map ($ 3) [(4+), (10*), (^2), sqrt]"
   ]
  },
  {
   "cell_type": "markdown",
   "metadata": {},
   "source": [
    "<a name=\"composition\"></a>\n",
    "\n",
    "## Function composition\n",
    "\n",
    "\n",
    "* In mathematics, function composition is defined like this:\n",
    "$(f \\circ g)(x) = f(g(x))$, meaning that\n",
    "composing two functions produces a new function that, when called with a\n",
    "parameter, say, $x$ is the equivalent of calling $g$ with the parameter\n",
    "$x$ and then calling the $f$ with that result.\n",
    "\n",
    "* In Haskell, function composition is pretty much the same thing. We do\n",
    "function composition with the [`.`](https://hackage.haskell.org/package/base/docs/Prelude.html#v:.) function, which is defined like so:"
   ]
  },
  {
   "cell_type": "code",
   "execution_count": 66,
   "metadata": {
    "attributes": {
     "classes": [
      "haskell:hs"
     ],
     "id": "",
     "name": "\"code\""
    }
   },
   "outputs": [],
   "source": [
    "(.) :: (b -> c) -> (a -> b) -> a -> c\n",
    "f . g = \\x -> f (g x)"
   ]
  },
  {
   "cell_type": "markdown",
   "metadata": {},
   "source": [
    "<img src=\"img/notes.png\" title=\"notes\" style=\"float:right;margin-right:2em;\" />\n",
    "\n",
    "* Type declaration: `f` must take as its parameter a value that has\n",
    "the same type as `g`'s return value. \n",
    "\n",
    "* One of the uses for function composition is making functions on the fly\n",
    "to pass to other functions.\n",
    "* Similar to Lambdas."
   ]
  },
  {
   "cell_type": "markdown",
   "metadata": {},
   "source": [
    "### Example of function composition"
   ]
  },
  {
   "cell_type": "code",
   "execution_count": 67,
   "metadata": {
    "attributes": {
     "classes": [
      "haskell:hs"
     ],
     "id": "",
     "name": "\"code\""
    }
   },
   "outputs": [
    {
     "data": {
      "text/plain": [
       "[-5,-3,-6,-7,-3,-2,-19,-24]"
      ]
     },
     "metadata": {},
     "output_type": "display_data"
    }
   ],
   "source": [
    "map (\\x -> negate (abs x)) [5,-3,-6,7,-3,2,-19,24]"
   ]
  },
  {
   "cell_type": "markdown",
   "metadata": {},
   "source": [
    "Notice the lambda and how it looks like the result function composition.\n",
    "Using function composition, we can rewrite that as:"
   ]
  },
  {
   "cell_type": "code",
   "execution_count": 68,
   "metadata": {
    "attributes": {
     "classes": [
      "haskell:hs"
     ],
     "id": "",
     "name": "\"code\""
    }
   },
   "outputs": [
    {
     "data": {
      "text/plain": [
       "[-5,-3,-6,-7,-3,-2,-19,-24]"
      ]
     },
     "metadata": {},
     "output_type": "display_data"
    }
   ],
   "source": [
    "map (negate . abs) [5,-3,-6,7,-3,2,-19,24]"
   ]
  },
  {
   "cell_type": "markdown",
   "metadata": {},
   "source": [
    "* Function composition is right-associative, so we can compose\n",
    "many functions at a time. \n",
    "* The expression `f (g (z x))` is equivalent to\n",
    "`(f . g . z) x`. With that in mind, we can turn"
   ]
  },
  {
   "cell_type": "code",
   "execution_count": 69,
   "metadata": {
    "attributes": {
     "classes": [
      "haskell:ghci"
     ],
     "id": "",
     "name": "\"code\""
    }
   },
   "outputs": [
    {
     "data": {
      "text/plain": [
       "[-14,-15,-27]"
      ]
     },
     "metadata": {},
     "output_type": "display_data"
    }
   ],
   "source": [
    "map (\\xs -> negate (sum (tail xs))) [[1..5],[3..6],[1..7]]"
   ]
  },
  {
   "cell_type": "code",
   "execution_count": 70,
   "metadata": {
    "attributes": {
     "classes": [
      "haskell:ghci"
     ],
     "id": "",
     "name": "\"code\""
    }
   },
   "outputs": [
    {
     "data": {
      "text/plain": [
       "[-14,-15,-27]"
      ]
     },
     "metadata": {},
     "output_type": "display_data"
    }
   ],
   "source": [
    "map (negate . sum . tail) [[1..5],[3..6],[1..7]]"
   ]
  },
  {
   "cell_type": "markdown",
   "metadata": {},
   "source": [
    "What about functions that take several parameters? Well, if we want\n",
    "to use them in function composition, we usually have to partially apply\n",
    "them just so much that each function takes just one parameter."
   ]
  },
  {
   "cell_type": "code",
   "execution_count": 71,
   "metadata": {},
   "outputs": [
    {
     "data": {
      "text/plain": [
       "80"
      ]
     },
     "metadata": {},
     "output_type": "display_data"
    },
    {
     "ename": "",
     "evalue": "",
     "output_type": "error",
     "traceback": [
      "<interactive>:1:7: error:\n    • Couldn't match type ‘[Integer]’ with ‘[Integer] -> b’\n      Expected type: [Integer] -> [Integer] -> b\n        Actual type: [Integer] -> [Integer]\n    • Possible cause: ‘filter’ is applied to too many arguments\n      In the second argument of ‘($)’, namely ‘filter (> 10)’\n      In the first argument of ‘($)’, namely ‘sum $ filter (> 10)’\n      In the expression: sum $ filter (> 10) $ map (* 2) [2 .. 10]\n    • Relevant bindings include it :: b (bound at <interactive>:1:1)"
     ]
    }
   ],
   "source": [
    "sum (filter (> 10) (map (*2) [2..10]))\n",
    "sum $ filter (> 10) $ map (*2) [2..10]\n",
    "(sum . filter (> 10) . map (*2)) [2..10]"
   ]
  },
  {
   "cell_type": "markdown",
   "metadata": {},
   "source": [
    "### Point*less* style\n",
    "Another common use of function composition is defining functions in the\n",
    "so-called point free style (also called the point*less* style). Take for\n",
    "example:"
   ]
  },
  {
   "cell_type": "code",
   "execution_count": 72,
   "metadata": {
    "attributes": {
     "classes": [
      "haskell:hs"
     ],
     "id": "",
     "name": "\"code\""
    }
   },
   "outputs": [],
   "source": [
    "sum' :: (Num a) => [a] -> a\n",
    "sum' xs = foldl (+) 0 xs"
   ]
  },
  {
   "cell_type": "markdown",
   "metadata": {},
   "source": [
    "* Because of currying, we can omit\n",
    "the `xs` on both sides, because calling `foldl (+) 0` creates a function\n",
    "that takes a list. \n",
    "* Writing the function as `sum' = foldl (+) 0` is called\n",
    "writing it in point free style. "
   ]
  },
  {
   "cell_type": "code",
   "execution_count": 73,
   "metadata": {
    "attributes": {
     "classes": [
      "haskell:hs"
     ],
     "id": "",
     "name": "\"code\""
    }
   },
   "outputs": [],
   "source": [
    "fn x = ceiling (negate (tan (cos (max 50 x))))"
   ]
  },
  {
   "cell_type": "markdown",
   "metadata": {},
   "source": [
    "* We can't just get rid of the `x` on both right right sides. The `x` in the\n",
    "function body has parentheses after it. \n",
    "* `cos (max 50)` wouldn't make\n",
    "sense. You can't get the cosine of a function. "
   ]
  },
  {
   "cell_type": "code",
   "execution_count": 74,
   "metadata": {
    "attributes": {
     "classes": [
      "haskell:hs"
     ],
     "id": "",
     "name": "\"code\""
    }
   },
   "outputs": [],
   "source": [
    "fn = ceiling . negate . tan . cos . max 50"
   ]
  },
  {
   "cell_type": "markdown",
   "metadata": {},
   "source": [
    "Excellent! "
   ]
  },
  {
   "cell_type": "code",
   "execution_count": 75,
   "metadata": {},
   "outputs": [
    {
     "data": {
      "text/plain": [
       "18"
      ]
     },
     "metadata": {},
     "output_type": "display_data"
    }
   ],
   "source": [
    "((3 *) . (2 * ) ) 3 "
   ]
  }
 ],
 "metadata": {
  "kernelspec": {
   "display_name": "Haskell",
   "language": "haskell",
   "name": "haskell"
  },
  "language_info": {
   "codemirror_mode": "ihaskell",
   "file_extension": ".hs",
   "name": "haskell",
   "pygments_lexer": "Haskell",
   "version": "8.6.5"
  },
  "toc": {
   "base_numbering": 1,
   "nav_menu": {},
   "number_sections": true,
   "sideBar": true,
   "skip_h1_title": true,
   "title_cell": "Table of Contents",
   "title_sidebar": "Topics",
   "toc_cell": true,
   "toc_position": {
    "height": "calc(100% - 180px)",
    "left": "10px",
    "top": "150px",
    "width": "256.9125061035156px"
   },
   "toc_section_display": true,
   "toc_window_display": true
  }
 },
 "nbformat": 4,
 "nbformat_minor": 4
}
