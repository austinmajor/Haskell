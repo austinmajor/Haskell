{
 "cells": [
  {
   "cell_type": "markdown",
   "metadata": {
    "toc": true
   },
   "source": [
    "<h1>Table of Contents<span class=\"tocSkip\"></span></h1>\n",
    "<div class=\"toc\"><ul class=\"toc-item\"><li><span><a href=\"#Hello,-world!\" data-toc-modified-id=\"Hello,-world!-1\"><span class=\"toc-item-num\">1&nbsp;&nbsp;</span>Hello, world!</a></span><ul class=\"toc-item\"><li><span><a href=\"#Main-entry\" data-toc-modified-id=\"Main-entry-1.1\"><span class=\"toc-item-num\">1.1&nbsp;&nbsp;</span>Main entry</a></span></li><li><span><a href=\"#GetLine\" data-toc-modified-id=\"GetLine-1.2\"><span class=\"toc-item-num\">1.2&nbsp;&nbsp;</span>GetLine</a></span></li><li><span><a href=\"#IO-monad\" data-toc-modified-id=\"IO-monad-1.3\"><span class=\"toc-item-num\">1.3&nbsp;&nbsp;</span>IO monad</a></span></li><li><span><a href=\"#Example-of-IO\" data-toc-modified-id=\"Example-of-IO-1.4\"><span class=\"toc-item-num\">1.4&nbsp;&nbsp;</span>Example of IO</a></span></li><li><span><a href=\"#Return\" data-toc-modified-id=\"Return-1.5\"><span class=\"toc-item-num\">1.5&nbsp;&nbsp;</span>Return</a></span></li><li><span><a href=\"#Useful-I/O-functions\" data-toc-modified-id=\"Useful-I/O-functions-1.6\"><span class=\"toc-item-num\">1.6&nbsp;&nbsp;</span>Useful I/O functions</a></span><ul class=\"toc-item\"><li><span><a href=\"#putStr\" data-toc-modified-id=\"putStr-1.6.1\"><span class=\"toc-item-num\">1.6.1&nbsp;&nbsp;</span>putStr</a></span></li><li><span><a href=\"#putChar\" data-toc-modified-id=\"putChar-1.6.2\"><span class=\"toc-item-num\">1.6.2&nbsp;&nbsp;</span>putChar</a></span></li><li><span><a href=\"#print\" data-toc-modified-id=\"print-1.6.3\"><span class=\"toc-item-num\">1.6.3&nbsp;&nbsp;</span>print</a></span></li><li><span><a href=\"#putStrLn-vs-print\" data-toc-modified-id=\"putStrLn-vs-print-1.6.4\"><span class=\"toc-item-num\">1.6.4&nbsp;&nbsp;</span>putStrLn vs print</a></span></li><li><span><a href=\"#getChar\" data-toc-modified-id=\"getChar-1.6.5\"><span class=\"toc-item-num\">1.6.5&nbsp;&nbsp;</span>getChar</a></span></li><li><span><a href=\"#When\" data-toc-modified-id=\"When-1.6.6\"><span class=\"toc-item-num\">1.6.6&nbsp;&nbsp;</span>When</a></span></li><li><span><a href=\"#sequence\" data-toc-modified-id=\"sequence-1.6.7\"><span class=\"toc-item-num\">1.6.7&nbsp;&nbsp;</span>sequence</a></span></li><li><span><a href=\"#sequence-with\" data-toc-modified-id=\"sequence-with-1.6.8\"><span class=\"toc-item-num\">1.6.8&nbsp;&nbsp;</span>sequence with</a></span></li><li><span><a href=\"#What's-with-the-[(),(),(),(),()]-at-the-end?\" data-toc-modified-id=\"What's-with-the-[(),(),(),(),()]-at-the-end?-1.6.9\"><span class=\"toc-item-num\">1.6.9&nbsp;&nbsp;</span>What's with the <code>[(),(),(),(),()]</code> at the end?</a></span></li><li><span><a href=\"#mapM\" data-toc-modified-id=\"mapM-1.6.10\"><span class=\"toc-item-num\">1.6.10&nbsp;&nbsp;</span>mapM</a></span></li><li><span><a href=\"#forever\" data-toc-modified-id=\"forever-1.6.11\"><span class=\"toc-item-num\">1.6.11&nbsp;&nbsp;</span>forever</a></span></li><li><span><a href=\"#Summary\" data-toc-modified-id=\"Summary-1.6.12\"><span class=\"toc-item-num\">1.6.12&nbsp;&nbsp;</span>Summary</a></span></li></ul></li><li><span><a href=\"#Do-is-not-as-simple-as-you-thought!\" data-toc-modified-id=\"Do-is-not-as-simple-as-you-thought!-1.7\"><span class=\"toc-item-num\">1.7&nbsp;&nbsp;</span>Do is not as simple as you thought!</a></span></li></ul></li><li><span><a href=\"#Other-I/O-functions\" data-toc-modified-id=\"Other-I/O-functions-2\"><span class=\"toc-item-num\">2&nbsp;&nbsp;</span>Other I/O functions</a></span></li></ul></div>"
   ]
  },
  {
   "cell_type": "markdown",
   "metadata": {},
   "source": [
    "Input and Output\n",
    "================\n",
    "\n",
    "<img src=\"img/dognap.png\" title=\"poor dog\" style=\"float:right;margin-left:2em;\" />\n",
    "\n",
    "* Haskell is a purely functional language. \n",
    "* In imperative languages you usually get things done by giving the computer\n",
    "a series of steps to execute, functional programming is more of defining\n",
    "what stuff is. \n",
    "* In Haskell, a function can't change some state, like\n",
    "changing the contents of a variable (when a function changes state, we\n",
    "say that the function has *side-effects*). \n",
    "* The only thing a function can\n",
    "do in Haskell is give us back some result based on the parameters we\n",
    "gave it. \n",
    "* If a function is called two times with the same parameters, it\n",
    "has to return the same result. \n",
    "\n",
    "* If a function can't change anything in the world, how is it supposed to tell us what\n",
    "it calculated? \n",
    "\n",
    "* Haskell has\n",
    "a really clever (weird) system for dealing with functions that have side-effects\n",
    "that neatly separates the part of our program that is pure and the part\n",
    "of our program that is impure, which does all the dirty work like\n",
    "talking to the keyboard and the screen. \n",
    "* With those two parts separated,\n",
    "we can still reason about our pure program and take advantage of all the\n",
    "things that purity offers, like laziness, robustness and modularity\n",
    "while efficiently communicating with the outside world."
   ]
  },
  {
   "cell_type": "markdown",
   "metadata": {},
   "source": [
    "> __Jupyter Note:__ We'll turn off the [automatic linting for IHaskell](https://github.com/gibiansky/IHaskell/wiki#opt-no-lint) first."
   ]
  },
  {
   "cell_type": "code",
   "execution_count": 1,
   "metadata": {
    "attributes": {
     "classes": [
      "haskell:hs"
     ],
     "id": "",
     "name": "\"code\""
    }
   },
   "outputs": [],
   "source": [
    ":opt no-lint"
   ]
  },
  {
   "cell_type": "markdown",
   "metadata": {
    "attributes": {
     "classes": [
      "haskell:hs"
     ],
     "id": "",
     "name": "\"code\""
    }
   },
   "source": [
    "> __Jupyter Note:__ About the following functions.\n",
    ">\n",
    "> \n",
    "\n",
    "* `withStdin` takes a string and runs an [`IO`](https://hackage.haskell.org/package/base/docs/Prelude.html#t:IO) action with that string as the standard input.\n",
    "This is for simulating an interactive command line environment for programs. \n",
    "\n",
    "* `catchPrint` catches an exception and prints it to standard output. We use this because Jupyter won't show us the output of a program if the program throws an exception. We want to see both the output and the exception."
   ]
  },
  {
   "cell_type": "code",
   "execution_count": 2,
   "metadata": {
    "attributes": {
     "classes": [
      "haskell:hs"
     ],
     "id": "",
     "name": "\"code\""
    }
   },
   "outputs": [],
   "source": [
    "import System.IO\n",
    "import GHC.IO.Handle\n",
    "import Control.Exception\n",
    "import System.Directory\n",
    "\n",
    "withStdin :: String -> IO a -> IO a\n",
    "withStdin s action = do\n",
    "    writeFile \"stdin.txt\" s\n",
    "    finally\n",
    "        (bracket \n",
    "            (openFile \"stdin.txt\" ReadWriteMode)\n",
    "            hClose\n",
    "            (\\h -> do\n",
    "                  stdin' <- hDuplicate stdin\n",
    "                  hDuplicateTo h stdin\n",
    "                  finally action (hDuplicateTo stdin' stdin)            \n",
    "            )\n",
    "        )\n",
    "        (removeFile \"stdin.txt\")\n",
    "\n",
    "catchPrint = flip catch p where\n",
    "    p :: SomeException -> IO ()\n",
    "    p = print"
   ]
  },
  {
   "cell_type": "markdown",
   "metadata": {},
   "source": [
    "## Hello, world!\n",
    "\n",
    "\n",
    "<img src=\"img/helloworld.png\" title=\"HELLO!\" style=\"float:left;margin-right:2em;\" />\n",
    "\n",
    "* We've always loaded our functions into GHCI to test them\n",
    "out and play with them. \n",
    "* We've also explored the standard library\n",
    "functions that way. \n",
    "* We're finally going to write our first *real* Haskell program! "
   ]
  },
  {
   "cell_type": "code",
   "execution_count": 3,
   "metadata": {
    "attributes": {
     "classes": [
      "haskell:hs"
     ],
     "id": "",
     "name": "\"code\""
    }
   },
   "outputs": [],
   "source": [
    "main = putStrLn \"hello, world\""
   ]
  },
  {
   "cell_type": "code",
   "execution_count": 4,
   "metadata": {
    "attributes": {
     "classes": [
      "haskell:hs"
     ],
     "id": "",
     "name": "\"code\""
    }
   },
   "outputs": [
    {
     "data": {
      "text/plain": [
       "hello, world"
      ]
     },
     "metadata": {},
     "output_type": "display_data"
    }
   ],
   "source": [
    "main"
   ]
  },
  {
   "cell_type": "markdown",
   "metadata": {},
   "source": [
    "We just defined a name called `main` and in it we call a function called\n",
    "[`putStrLn`](https://hackage.haskell.org/package/base/docs/Prelude.html#v:putStrLn) with the parameter `\"hello, world\"`. "
   ]
  },
  {
   "cell_type": "markdown",
   "metadata": {},
   "source": [
    "Let's examine what we wrote. First, let's look at the type of the\n",
    "function [`putStrLn`](https://hackage.haskell.org/package/base/docs/Prelude.html#v:putStrLn)."
   ]
  },
  {
   "cell_type": "code",
   "execution_count": 5,
   "metadata": {
    "attributes": {
     "classes": [
      "haskell:hs"
     ],
     "id": "",
     "name": "\"code\""
    }
   },
   "outputs": [
    {
     "data": {
      "text/html": [
       "<style>/* Styles used for the Hoogle display in the pager */\n",
       ".hoogle-doc {\n",
       "display: block;\n",
       "padding-bottom: 1.3em;\n",
       "padding-left: 0.4em;\n",
       "}\n",
       ".hoogle-code {\n",
       "display: block;\n",
       "font-family: monospace;\n",
       "white-space: pre;\n",
       "}\n",
       ".hoogle-text {\n",
       "display: block;\n",
       "}\n",
       ".hoogle-name {\n",
       "color: green;\n",
       "font-weight: bold;\n",
       "}\n",
       ".hoogle-head {\n",
       "font-weight: bold;\n",
       "}\n",
       ".hoogle-sub {\n",
       "display: block;\n",
       "margin-left: 0.4em;\n",
       "}\n",
       ".hoogle-package {\n",
       "font-weight: bold;\n",
       "font-style: italic;\n",
       "}\n",
       ".hoogle-module {\n",
       "font-weight: bold;\n",
       "}\n",
       ".hoogle-class {\n",
       "font-weight: bold;\n",
       "}\n",
       ".get-type {\n",
       "color: green;\n",
       "font-weight: bold;\n",
       "font-family: monospace;\n",
       "display: block;\n",
       "white-space: pre-wrap;\n",
       "}\n",
       ".show-type {\n",
       "color: green;\n",
       "font-weight: bold;\n",
       "font-family: monospace;\n",
       "margin-left: 1em;\n",
       "}\n",
       ".mono {\n",
       "font-family: monospace;\n",
       "display: block;\n",
       "}\n",
       ".err-msg {\n",
       "color: red;\n",
       "font-style: italic;\n",
       "font-family: monospace;\n",
       "white-space: pre;\n",
       "display: block;\n",
       "}\n",
       "#unshowable {\n",
       "color: red;\n",
       "font-weight: bold;\n",
       "}\n",
       ".err-msg.in.collapse {\n",
       "padding-top: 0.7em;\n",
       "}\n",
       ".highlight-code {\n",
       "white-space: pre;\n",
       "font-family: monospace;\n",
       "}\n",
       ".suggestion-warning { \n",
       "font-weight: bold;\n",
       "color: rgb(200, 130, 0);\n",
       "}\n",
       ".suggestion-error { \n",
       "font-weight: bold;\n",
       "color: red;\n",
       "}\n",
       ".suggestion-name {\n",
       "font-weight: bold;\n",
       "}\n",
       "</style><span class='get-type'>putStrLn :: String -> IO ()</span>"
      ],
      "text/plain": [
       "putStrLn :: String -> IO ()"
      ]
     },
     "metadata": {},
     "output_type": "display_data"
    }
   ],
   "source": [
    ":t putStrLn"
   ]
  },
  {
   "cell_type": "code",
   "execution_count": 6,
   "metadata": {
    "attributes": {
     "classes": [
      "haskell:hs"
     ],
     "id": "",
     "name": "\"code\""
    }
   },
   "outputs": [
    {
     "data": {
      "text/html": [
       "<style>/* Styles used for the Hoogle display in the pager */\n",
       ".hoogle-doc {\n",
       "display: block;\n",
       "padding-bottom: 1.3em;\n",
       "padding-left: 0.4em;\n",
       "}\n",
       ".hoogle-code {\n",
       "display: block;\n",
       "font-family: monospace;\n",
       "white-space: pre;\n",
       "}\n",
       ".hoogle-text {\n",
       "display: block;\n",
       "}\n",
       ".hoogle-name {\n",
       "color: green;\n",
       "font-weight: bold;\n",
       "}\n",
       ".hoogle-head {\n",
       "font-weight: bold;\n",
       "}\n",
       ".hoogle-sub {\n",
       "display: block;\n",
       "margin-left: 0.4em;\n",
       "}\n",
       ".hoogle-package {\n",
       "font-weight: bold;\n",
       "font-style: italic;\n",
       "}\n",
       ".hoogle-module {\n",
       "font-weight: bold;\n",
       "}\n",
       ".hoogle-class {\n",
       "font-weight: bold;\n",
       "}\n",
       ".get-type {\n",
       "color: green;\n",
       "font-weight: bold;\n",
       "font-family: monospace;\n",
       "display: block;\n",
       "white-space: pre-wrap;\n",
       "}\n",
       ".show-type {\n",
       "color: green;\n",
       "font-weight: bold;\n",
       "font-family: monospace;\n",
       "margin-left: 1em;\n",
       "}\n",
       ".mono {\n",
       "font-family: monospace;\n",
       "display: block;\n",
       "}\n",
       ".err-msg {\n",
       "color: red;\n",
       "font-style: italic;\n",
       "font-family: monospace;\n",
       "white-space: pre;\n",
       "display: block;\n",
       "}\n",
       "#unshowable {\n",
       "color: red;\n",
       "font-weight: bold;\n",
       "}\n",
       ".err-msg.in.collapse {\n",
       "padding-top: 0.7em;\n",
       "}\n",
       ".highlight-code {\n",
       "white-space: pre;\n",
       "font-family: monospace;\n",
       "}\n",
       ".suggestion-warning { \n",
       "font-weight: bold;\n",
       "color: rgb(200, 130, 0);\n",
       "}\n",
       ".suggestion-error { \n",
       "font-weight: bold;\n",
       "color: red;\n",
       "}\n",
       ".suggestion-name {\n",
       "font-weight: bold;\n",
       "}\n",
       "</style><span class='get-type'>putStrLn \"hello, world\" :: IO ()</span>"
      ],
      "text/plain": [
       "putStrLn \"hello, world\" :: IO ()"
      ]
     },
     "metadata": {},
     "output_type": "display_data"
    }
   ],
   "source": [
    ":t putStrLn \"hello, world\""
   ]
  },
  {
   "cell_type": "markdown",
   "metadata": {},
   "source": [
    "* We can read the type of [`putStrLn`](https://hackage.haskell.org/package/base/docs/Prelude.html#v:putStrLn) like this: [`putStrLn`](https://hackage.haskell.org/package/base/docs/Prelude.html#v:putStrLn) takes a string and\n",
    "returns an *I/O action* that has a result type of `()` (i.e. the empty\n",
    "tuple, also know as unit). \n",
    "\n",
    "* An I/O action is something that, when\n",
    "performed, will carry out an action with a side-effect (that's usually\n",
    "either reading from the input or printing stuff to the screen) and will\n",
    "also contain some kind of return value inside it. \n",
    "\n",
    "* Printing a string to\n",
    "the terminal doesn't really have any kind of meaningful return value, so\n",
    "a dummy value of `()` is used.\n",
    "\n",
    "> The empty tuple is a value of `()` and it also has a type of `()`."
   ]
  },
  {
   "cell_type": "markdown",
   "metadata": {},
   "source": [
    "### Main entry\n",
    "\n",
    "* An I/O action will be performed when we give it a name of `main` and\n",
    "then run our program.\n",
    "\n",
    "* We can use *do* syntax to glue together several I/O actions\n",
    "into one. "
   ]
  },
  {
   "cell_type": "code",
   "execution_count": 7,
   "metadata": {
    "attributes": {
     "classes": [
      "haskell:hs"
     ],
     "id": "",
     "name": "\"code\""
    }
   },
   "outputs": [],
   "source": [
    "main = do\n",
    "    putStrLn \"Hello, what's your name?\"\n",
    "    name <- getLine\n",
    "    putStrLn (\"Hey \" ++ name ++ \", you rock!\")"
   ]
  },
  {
   "cell_type": "markdown",
   "metadata": {},
   "source": [
    "* This part is  an imperative program. \n",
    "* Notice that we said *do* and then we\n",
    "laid out a series of steps, like we would in an imperative program. Each\n",
    "of these steps is an I/O action. By putting them together with *do*\n",
    "syntax, we glued them into one I/O action. \n",
    "\n",
    "* The action that we got has a\n",
    "type of `IO ()`, because that's the type of the last I/O action inside.\n",
    "\n",
    "* By convention, we\n",
    "don't usually specify a type declaration for `main`.\n"
   ]
  },
  {
   "cell_type": "code",
   "execution_count": 8,
   "metadata": {
    "attributes": {
     "classes": [
      "haskell:hs"
     ],
     "id": "",
     "name": "\"code\""
    }
   },
   "outputs": [
    {
     "data": {
      "text/html": [
       "<style>/* Styles used for the Hoogle display in the pager */\n",
       ".hoogle-doc {\n",
       "display: block;\n",
       "padding-bottom: 1.3em;\n",
       "padding-left: 0.4em;\n",
       "}\n",
       ".hoogle-code {\n",
       "display: block;\n",
       "font-family: monospace;\n",
       "white-space: pre;\n",
       "}\n",
       ".hoogle-text {\n",
       "display: block;\n",
       "}\n",
       ".hoogle-name {\n",
       "color: green;\n",
       "font-weight: bold;\n",
       "}\n",
       ".hoogle-head {\n",
       "font-weight: bold;\n",
       "}\n",
       ".hoogle-sub {\n",
       "display: block;\n",
       "margin-left: 0.4em;\n",
       "}\n",
       ".hoogle-package {\n",
       "font-weight: bold;\n",
       "font-style: italic;\n",
       "}\n",
       ".hoogle-module {\n",
       "font-weight: bold;\n",
       "}\n",
       ".hoogle-class {\n",
       "font-weight: bold;\n",
       "}\n",
       ".get-type {\n",
       "color: green;\n",
       "font-weight: bold;\n",
       "font-family: monospace;\n",
       "display: block;\n",
       "white-space: pre-wrap;\n",
       "}\n",
       ".show-type {\n",
       "color: green;\n",
       "font-weight: bold;\n",
       "font-family: monospace;\n",
       "margin-left: 1em;\n",
       "}\n",
       ".mono {\n",
       "font-family: monospace;\n",
       "display: block;\n",
       "}\n",
       ".err-msg {\n",
       "color: red;\n",
       "font-style: italic;\n",
       "font-family: monospace;\n",
       "white-space: pre;\n",
       "display: block;\n",
       "}\n",
       "#unshowable {\n",
       "color: red;\n",
       "font-weight: bold;\n",
       "}\n",
       ".err-msg.in.collapse {\n",
       "padding-top: 0.7em;\n",
       "}\n",
       ".highlight-code {\n",
       "white-space: pre;\n",
       "font-family: monospace;\n",
       "}\n",
       ".suggestion-warning { \n",
       "font-weight: bold;\n",
       "color: rgb(200, 130, 0);\n",
       "}\n",
       ".suggestion-error { \n",
       "font-weight: bold;\n",
       "color: red;\n",
       "}\n",
       ".suggestion-name {\n",
       "font-weight: bold;\n",
       "}\n",
       "</style><span class='get-type'>getLine :: IO String</span>"
      ],
      "text/plain": [
       "getLine :: IO String"
      ]
     },
     "metadata": {},
     "output_type": "display_data"
    }
   ],
   "source": [
    ":t getLine"
   ]
  },
  {
   "cell_type": "markdown",
   "metadata": {},
   "source": [
    "### GetLine\n",
    "\n",
    "<img src=\"img/luggage.png\" title=\"luggage\" style=\"float:right;margin-right:2em;\" />\n",
    "\n",
    "*  __[`getLine`](https://hackage.haskell.org/package/base/docs/Prelude.html#v:getLine)__ is an I/O action that contains a result type of\n",
    "[`String`](https://hackage.haskell.org/package/base/docs/Prelude.html#t:String). It will wait for the user to input\n",
    "something at the terminal and then that something will be represented as\n",
    "a string. \n",
    "\n",
    "* `name <- getLine`: *perform the I/O action [`getLine`](https://hackage.haskell.org/package/base/docs/Prelude.html#v:getLine) and then bind\n",
    "its result value to `name`*. \n",
    "\n",
    "* [`getLine`](https://hackage.haskell.org/package/base/docs/Prelude.html#v:getLine) has a type of `IO String`, so `name` will\n",
    "have a type of [`String`](https://hackage.haskell.org/package/base/docs/Prelude.html#t:String). \n",
    "\n"
   ]
  },
  {
   "cell_type": "markdown",
   "metadata": {},
   "source": [
    "### IO monad\n",
    "\n",
    "* You can think of an I/O action as a box with\n",
    "little feet that will go out into the real world and do something there\n",
    "and maybe bring back some data.\n",
    "\n",
    "* Once it's fetched that data for you, the only way to open the box and\n",
    "get the data inside it is to use the `<-` construct. \n",
    "\n",
    "* If we're taking\n",
    "data out of an I/O action, we can only take it out when we're inside\n",
    "another I/O action. \n",
    "\n",
    "* This is how Haskell manages to neatly separate the\n",
    "pure and impure parts of our code. Weird!\n",
    "\n",
    "\n",
    "* [`getLine`](https://hackage.haskell.org/package/base/docs/Prelude.html#v:getLine) is in a sense impure because its result value is not guaranteed to be the same when performed twice.\n",
    "\n",
    "* That's why it's sort of *tainted* with the [`IO`](https://hackage.haskell.org/package/base/docs/Prelude.html#t:IO) type constructor and we\n",
    "can only get that data out in I/O code. \n",
    "\n",
    "* When we do `name <- getLine`, `name` is just a normal string,\n",
    "because it represents what's inside the box. We can have a really\n",
    "complicated function that, say, takes your name (a normal string) as a\n",
    "parameter and tells you your fortune and your whole life's future based\n",
    "on your name. We can do this:"
   ]
  },
  {
   "cell_type": "code",
   "execution_count": 9,
   "metadata": {
    "attributes": {
     "classes": [
      "haskell:hs"
     ],
     "id": "",
     "name": "\"code\""
    }
   },
   "outputs": [
    {
     "ename": "",
     "evalue": "",
     "output_type": "error",
     "traceback": [
      "<interactive>:4:72: error: Variable not in scope: tellFortune :: String -> String"
     ]
    }
   ],
   "source": [
    "main = do\n",
    "    putStrLn \"Hello, what's your name?\"\n",
    "    name <- getLine\n",
    "    putStrLn $ \"Read this carefully, because this is your future: \" ++ tellFortune name"
   ]
  },
  {
   "cell_type": "markdown",
   "metadata": {},
   "source": [
    "Take a look at this piece of code. Is it valid?"
   ]
  },
  {
   "cell_type": "code",
   "execution_count": 10,
   "metadata": {
    "attributes": {
     "classes": [
      "haskell:hs"
     ],
     "id": "",
     "name": "\"code\""
    }
   },
   "outputs": [
    {
     "ename": "",
     "evalue": "",
     "output_type": "error",
     "traceback": [
      "<interactive>:1:35: error:\n    • Couldn't match expected type ‘String’ with actual type ‘IO String’\n    • In the second argument of ‘(++)’, namely ‘getLine’\n      In the expression: \"Hello, my name is \" ++ getLine\n      In an equation for ‘nameTag’: nameTag = \"Hello, my name is \" ++ getLine"
     ]
    }
   ],
   "source": [
    "nameTag = \"Hello, my name is \" ++ getLine"
   ]
  },
  {
   "cell_type": "markdown",
   "metadata": {},
   "source": [
    "* We first have to get the result out of the I/O action to get a\n",
    "value of type [`String`](https://hackage.haskell.org/package/base/docs/Prelude.html#t:String) and the only way to do that is to say something\n",
    "like `name <- getLine` inside some other I/O action. \n",
    "\n",
    "* If we want to deal\n",
    "with impure data, we have to do it in an impure environment. So the\n",
    "taint of impurity spreads around much like the undead scourge and it's\n",
    "in our best interest to keep the I/O parts of our code as small as\n",
    "possible.\n",
    "\n",
    "Every I/O action that gets performed has a result encapsulated within\n",
    "it. That's why our previous example program could also have been written\n",
    "like this:"
   ]
  },
  {
   "cell_type": "code",
   "execution_count": 11,
   "metadata": {
    "attributes": {
     "classes": [
      "haskell:hs"
     ],
     "id": "",
     "name": "\"code\""
    }
   },
   "outputs": [],
   "source": [
    "main = do\n",
    "    foo <- putStrLn \"Hello, what's your name?\"\n",
    "    name <- getLine\n",
    "    putStrLn (\"Hey \" ++ name ++ \", you rock!\")"
   ]
  },
  {
   "cell_type": "markdown",
   "metadata": {},
   "source": [
    "* `foo` would just have a value of `()`. \n",
    "\n",
    "* Notice that we didn't bind the last [`putStrLn`](https://hackage.haskell.org/package/base/docs/Prelude.html#v:putStrLn) to anything.\n",
    "That's because in a *do* block, *the last action cannot be bound to a\n",
    "name* like the first two were. \n",
    "* the *do* block automatically extracts the\n",
    "value from the last action and binds it to its own result.\n",
    "* Except for the last line, every line in a *do* block that doesn't bind\n",
    "can also be written with a bind. "
   ]
  },
  {
   "cell_type": "markdown",
   "metadata": {},
   "source": [
    "How about this one?"
   ]
  },
  {
   "cell_type": "code",
   "execution_count": 12,
   "metadata": {
    "attributes": {
     "classes": [
      "haskell:hs"
     ],
     "id": "",
     "name": "\"code\""
    }
   },
   "outputs": [],
   "source": [
    "name = getLine"
   ]
  },
  {
   "cell_type": "markdown",
   "metadata": {},
   "source": [
    "\n",
    "* I/O actions will only be performed when they are given a name of `main` or\n",
    "when they're inside a bigger I/O action that we composed with a *do*\n",
    "block. \n",
    "* We can also use a *do* block to glue together a few I/O actions\n",
    "and then we can use that I/O action in another *do* block and so on.\n",
    "Either way, they'll be performed only if they eventually fall into `main`.\n"
   ]
  },
  {
   "cell_type": "code",
   "execution_count": 13,
   "metadata": {
    "attributes": {
     "classes": [
      "haskell:hs"
     ],
     "id": "",
     "name": "\"code\""
    }
   },
   "outputs": [
    {
     "data": {
      "text/plain": [
       "HEEY"
      ]
     },
     "metadata": {},
     "output_type": "display_data"
    }
   ],
   "source": [
    "putStrLn \"HEEY\""
   ]
  },
  {
   "cell_type": "code",
   "execution_count": 14,
   "metadata": {
    "attributes": {
     "classes": [
      "haskell:hs"
     ],
     "id": "",
     "name": "\"code\""
    }
   },
   "outputs": [],
   "source": [
    "import Data.Char\n",
    "\n",
    "main = do\n",
    "    putStrLn \"What's your first name?\"\n",
    "    firstName <- getLine\n",
    "    putStrLn \"What's your last name?\"\n",
    "    lastName <- getLine\n",
    "    let bigFirstName = map toUpper firstName\n",
    "        bigLastName = map toUpper lastName\n",
    "    putStrLn $ \"hey \" ++ bigFirstName ++ \" \" ++ bigLastName ++ \", how are you?\""
   ]
  },
  {
   "cell_type": "code",
   "execution_count": 15,
   "metadata": {
    "attributes": {
     "classes": [
      "haskell:hs"
     ],
     "id": "",
     "name": "\"code\""
    }
   },
   "outputs": [
    {
     "data": {
      "text/plain": [
       "What's your first name?\n",
       "What's your last name?\n",
       "hey JOHN BROWN, how are you?"
      ]
     },
     "metadata": {},
     "output_type": "display_data"
    }
   ],
   "source": [
    "withStdin (unlines [\"John\", \"Brown\"]) main"
   ]
  },
  {
   "cell_type": "markdown",
   "metadata": {},
   "source": [
    " Had we done something like\n",
    "`let firstName = getLine`, we would have just called the [`getLine`](https://hackage.haskell.org/package/base/docs/Prelude.html#v:getLine) I/O action a different\n",
    "name and we'd still have to run it through a `<-` to perform it.\n",
    "\n",
    "### Example of IO\n",
    "Now we're going to make a program that continuously reads a line and\n",
    "prints out the same line with the words reversed. The program's\n",
    "execution will stop when we input a blank line. This is the program:"
   ]
  },
  {
   "cell_type": "code",
   "execution_count": 16,
   "metadata": {
    "attributes": {
     "classes": [
      "haskell:hs"
     ],
     "id": "",
     "name": "\"code\""
    }
   },
   "outputs": [],
   "source": [
    "main = do\n",
    "    line <- getLine\n",
    "    if null line\n",
    "        then return ()\n",
    "        else do\n",
    "            putStrLn $ reverseWords line\n",
    "            main\n",
    "\n",
    "reverseWords :: String -> String\n",
    "reverseWords = unwords . map reverse . words\n",
    "-- `reverseWords` function is just a\n",
    "-- normal function that takes a string like \"hey there man\" and then calls\n",
    "-- [`words`](https://hackage.haskell.org/package/base/docs/Prelude.html#v:words) with it to produce a list of words like `[\"hey\",\"there\",\"man\"]`.\n",
    "-- Then we map [`reverse`](https://hackage.haskell.org/package/base/docs/Prelude.html#v:reverse) on the list, getting `[\"yeh\",\"ereht\",\"nam\"]` and then\n",
    "-- we put that back into one string by using [`unwords`](https://hackage.haskell.org/package/base/docs/Prelude.html#v:unwords) and the final result\n",
    "-- is `\"yeh ereht nam\"`. See how we used function composition here. Without\n",
    "-- function composition, we'd have to write something like\n",
    "-- `reverseWords st = unwords (map reverse (words st))`."
   ]
  },
  {
   "cell_type": "markdown",
   "metadata": {},
   "source": [
    "To get a feel of what it does, you can run it before we go over the\n",
    "code."
   ]
  },
  {
   "cell_type": "code",
   "execution_count": 17,
   "metadata": {},
   "outputs": [
    {
     "data": {
      "text/plain": [
       "yeh ereht nam\n",
       "<stdin>: hGetLine: end of file"
      ]
     },
     "metadata": {},
     "output_type": "display_data"
    }
   ],
   "source": [
    "withStdin \"hey there man\" $ catchPrint main"
   ]
  },
  {
   "cell_type": "markdown",
   "metadata": {},
   "source": [
    "### Return\n",
    "\n",
    "*  The [`return`](https://hackage.haskell.org/package/base/docs/Prelude.html#v:return) in Haskell is really nothing like the [`return`](https://hackage.haskell.org/package/base/docs/Prelude.html#v:return) in most\n",
    "other languages! \n",
    "* In imperative languages, [`return`](https://hackage.haskell.org/package/base/docs/Prelude.html#v:return)\n",
    "usually ends the execution of a method or subroutine and makes it report\n",
    "some sort of value to whoever called it. \n",
    "* In Haskell (in I/O actions\n",
    "specifically), it makes an I/O action out of a pure value. \n",
    "* If you think\n",
    "about the box analogy from before, it takes a value and wraps it up in a\n",
    "box. The resulting I/O action doesn't actually do anything, it just has\n",
    "that value encapsulated as its result. \n",
    "* So in an I/O context,\n",
    "`return \"haha\"` will have a type of `IO String`. \n",
    "* Using [`return`](https://hackage.haskell.org/package/base/docs/Prelude.html#v:return) doesn't cause the I/O *do* block to end in execution or\n",
    "anything like that. "
   ]
  },
  {
   "cell_type": "code",
   "execution_count": 18,
   "metadata": {
    "attributes": {
     "classes": [
      "haskell:hs"
     ],
     "id": "",
     "name": "\"code\""
    }
   },
   "outputs": [],
   "source": [
    "main = do\n",
    "    return ()\n",
    "    return \"HAHAHA\"\n",
    "    line <- getLine\n",
    "    return \"BLAH BLAH BLAH\"\n",
    "    return 4\n",
    "    putStrLn line"
   ]
  },
  {
   "cell_type": "markdown",
   "metadata": {},
   "source": [
    "* We can use [`return`](https://hackage.haskell.org/package/base/docs/Prelude.html#v:return) in combination\n",
    "with `<-` to bind stuff to names."
   ]
  },
  {
   "cell_type": "code",
   "execution_count": 19,
   "metadata": {
    "attributes": {
     "classes": [
      "haskell:hs"
     ],
     "id": "",
     "name": "\"code\""
    }
   },
   "outputs": [],
   "source": [
    "main = do\n",
    "    a <- return \"hell\"\n",
    "    b <- return \"yeah!\"\n",
    "    putStrLn $ a ++ \" \" ++ b"
   ]
  },
  {
   "cell_type": "markdown",
   "metadata": {},
   "source": [
    "* So you see, [`return`](https://hackage.haskell.org/package/base/docs/Prelude.html#v:return) is sort of the opposite to `<-`. \n",
    "* While [`return`](https://hackage.haskell.org/package/base/docs/Prelude.html#v:return) takes a\n",
    "value and wraps it up in a box, `<-` takes a box (and performs it) and\n",
    "takes the value out of it, binding it to a name. \n",
    "* But doing this is kind\n",
    "of redundant, especially since you can use *let* bindings in *do* blocks\n",
    "to bind to names, like so:"
   ]
  },
  {
   "cell_type": "code",
   "execution_count": 20,
   "metadata": {
    "attributes": {
     "classes": [
      "haskell:hs"
     ],
     "id": "",
     "name": "\"code\""
    }
   },
   "outputs": [],
   "source": [
    "main = do\n",
    "    let a = \"hell\"\n",
    "        b = \"yeah\"\n",
    "    putStrLn $ a ++ \" \" ++ b"
   ]
  },
  {
   "cell_type": "markdown",
   "metadata": {},
   "source": [
    "> A *do* block can also have just one I/O action. In that case, it's the\n",
    "> same as just writing the I/O action. Some people would prefer writing\n",
    "> `then do return ()` in this case because the *else* also has a *do*.\n",
    "\n",
    "### Useful I/O functions\n",
    "\n",
    "#### putStr\n",
    "\n",
    "__[`putStr`](https://hackage.haskell.org/package/base/docs/Prelude.html#v:putStr)__ is much like [`putStrLn`](https://hackage.haskell.org/package/base/docs/Prelude.html#v:putStrLn) in that it takes a string as a parameter\n",
    "and returns an I/O action that will print that string to the terminal,\n",
    "only [`putStr`](https://hackage.haskell.org/package/base/docs/Prelude.html#v:putStr) doesn't jump into a new line after printing out the string\n",
    "while [`putStrLn`](https://hackage.haskell.org/package/base/docs/Prelude.html#v:putStrLn) does."
   ]
  },
  {
   "cell_type": "code",
   "execution_count": 21,
   "metadata": {
    "attributes": {
     "classes": [
      "haskell:hs"
     ],
     "id": "",
     "name": "\"code\""
    }
   },
   "outputs": [],
   "source": [
    "main = do   putStr \"Hey, \"\n",
    "            putStr \"I'm \"\n",
    "            putStrLn \"Andy!\""
   ]
  },
  {
   "cell_type": "code",
   "execution_count": 22,
   "metadata": {
    "attributes": {
     "classes": [
      "plain"
     ],
     "id": "",
     "name": "\"code\""
    }
   },
   "outputs": [
    {
     "data": {
      "text/plain": [
       "Hey, I'm Andy!"
      ]
     },
     "metadata": {},
     "output_type": "display_data"
    }
   ],
   "source": [
    "main"
   ]
  },
  {
   "cell_type": "markdown",
   "metadata": {},
   "source": [
    "Its type signature is `putStr :: String -> IO ()`, so the result\n",
    "encapsulated within the resulting I/O action is the unit. A dud value,\n",
    "so it doesn't make sense to bind it.\n",
    "\n",
    "#### putChar\n",
    "__[`putChar`](https://hackage.haskell.org/package/base/docs/Prelude.html#v:putChar)__ takes a character and returns an I/O action that will print it\n",
    "out to the terminal."
   ]
  },
  {
   "cell_type": "code",
   "execution_count": 23,
   "metadata": {
    "attributes": {
     "classes": [
      "haskell:hs"
     ],
     "id": "",
     "name": "\"code\""
    }
   },
   "outputs": [],
   "source": [
    "main = do   putChar 't'\n",
    "            putChar 'e'\n",
    "            putChar 'h'"
   ]
  },
  {
   "cell_type": "code",
   "execution_count": 24,
   "metadata": {
    "attributes": {
     "classes": [
      "plain"
     ],
     "id": "",
     "name": "\"code\""
    }
   },
   "outputs": [
    {
     "data": {
      "text/plain": [
       "teh"
      ]
     },
     "metadata": {},
     "output_type": "display_data"
    }
   ],
   "source": [
    "main"
   ]
  },
  {
   "cell_type": "markdown",
   "metadata": {},
   "source": [
    "* [`putStr`](https://hackage.haskell.org/package/base/docs/Prelude.html#v:putStr) is actually defined recursively with the help of [`putChar`](https://hackage.haskell.org/package/base/docs/Prelude.html#v:putChar). \n",
    "\n",
    "* The\n",
    "edge condition of [`putStr`](https://hackage.haskell.org/package/base/docs/Prelude.html#v:putStr) is the empty string, so if we're printing an\n",
    "empty string, just return an I/O action that does nothing by using\n",
    "`return ()`. If it's not empty, then print the first character of the\n",
    "string by doing [`putChar`](https://hackage.haskell.org/package/base/docs/Prelude.html#v:putChar) and then print of them using [`putStr`](https://hackage.haskell.org/package/base/docs/Prelude.html#v:putStr)."
   ]
  },
  {
   "cell_type": "code",
   "execution_count": 25,
   "metadata": {
    "attributes": {
     "classes": [
      "haskell:hs"
     ],
     "id": "",
     "name": "\"code\""
    }
   },
   "outputs": [],
   "source": [
    "putStr :: String -> IO ()\n",
    "putStr [] = return ()\n",
    "putStr (x:xs) = do\n",
    "    putChar x\n",
    "    putStr xs"
   ]
  },
  {
   "cell_type": "markdown",
   "metadata": {},
   "source": [
    "#### print\n",
    "\n",
    "__[`print`](https://hackage.haskell.org/package/base/docs/Prelude.html#v:print)__ takes a value of any type that's an instance of [`Show`](https://hackage.haskell.org/package/base/docs/Prelude.html#t:Show) (meaning that\n",
    "we know how to represent it as a string), calls [`show`](https://hackage.haskell.org/package/base/docs/Prelude.html#v:show) with that value to\n",
    "stringify it and then outputs that string to the terminal. Basically,\n",
    "it's just `putStrLn . show`. It first runs [`show`](https://hackage.haskell.org/package/base/docs/Prelude.html#v:show) on a value and then feeds\n",
    "that to [`putStrLn`](https://hackage.haskell.org/package/base/docs/Prelude.html#v:putStrLn), which returns an I/O action that will print out our\n",
    "value."
   ]
  },
  {
   "cell_type": "code",
   "execution_count": 26,
   "metadata": {
    "attributes": {
     "classes": [
      "haskell:hs"
     ],
     "id": "",
     "name": "\"code\""
    }
   },
   "outputs": [],
   "source": [
    "main = do   print True\n",
    "            print 2\n",
    "            print \"haha\"\n",
    "            print 3.2\n",
    "            print [3,4,3]"
   ]
  },
  {
   "cell_type": "code",
   "execution_count": 27,
   "metadata": {
    "attributes": {
     "classes": [
      "haskell:hs"
     ],
     "id": "",
     "name": "\"code\""
    }
   },
   "outputs": [
    {
     "data": {
      "text/plain": [
       "True\n",
       "2\n",
       "\"haha\"\n",
       "3.2\n",
       "[3,4,3]"
      ]
     },
     "metadata": {},
     "output_type": "display_data"
    }
   ],
   "source": [
    "main"
   ]
  },
  {
   "cell_type": "markdown",
   "metadata": {},
   "source": [
    "GHCI actually uses [`print`](https://hackage.haskell.org/package/base/docs/Prelude.html#v:print) on that\n",
    "value to display it on our terminal!"
   ]
  },
  {
   "cell_type": "code",
   "execution_count": 28,
   "metadata": {
    "attributes": {
     "classes": [
      "haskell:hs"
     ],
     "id": "",
     "name": "\"code\""
    }
   },
   "outputs": [
    {
     "data": {
      "text/plain": [
       "3"
      ]
     },
     "metadata": {},
     "output_type": "display_data"
    }
   ],
   "source": [
    "3"
   ]
  },
  {
   "cell_type": "code",
   "execution_count": 29,
   "metadata": {
    "attributes": {
     "classes": [
      "haskell:hs"
     ],
     "id": "",
     "name": "\"code\""
    }
   },
   "outputs": [
    {
     "data": {
      "text/plain": [
       "3"
      ]
     },
     "metadata": {},
     "output_type": "display_data"
    }
   ],
   "source": [
    "print 3"
   ]
  },
  {
   "cell_type": "code",
   "execution_count": 30,
   "metadata": {
    "attributes": {
     "classes": [
      "haskell:hs"
     ],
     "id": "",
     "name": "\"code\""
    }
   },
   "outputs": [
    {
     "data": {
      "text/plain": [
       "[\"hey!\",\"ho!\",\"woo!\"]"
      ]
     },
     "metadata": {},
     "output_type": "display_data"
    }
   ],
   "source": [
    "map (++\"!\") [\"hey\",\"ho\",\"woo\"]"
   ]
  },
  {
   "cell_type": "code",
   "execution_count": 31,
   "metadata": {
    "attributes": {
     "classes": [
      "haskell:hs"
     ],
     "id": "",
     "name": "\"code\""
    }
   },
   "outputs": [
    {
     "data": {
      "text/plain": [
       "[\"hey!\",\"ho!\",\"woo!\"]"
      ]
     },
     "metadata": {},
     "output_type": "display_data"
    }
   ],
   "source": [
    "print (map (++\"!\") [\"hey\",\"ho\",\"woo\"])"
   ]
  },
  {
   "cell_type": "markdown",
   "metadata": {},
   "source": [
    "#### putStrLn vs print\n",
    "When we want to print out strings, we usually use [`putStrLn`](https://hackage.haskell.org/package/base/docs/Prelude.html#v:putStrLn) because we\n",
    "don't want the quotes around them, but for printing out values of other\n",
    "types to the terminal, [`print`](https://hackage.haskell.org/package/base/docs/Prelude.html#v:print) is used the most.\n",
    "\n",
    "#### getChar\n",
    "\n",
    "__[`getChar`](https://hackage.haskell.org/package/base/docs/Prelude.html#v:getChar)__ is an I/O action that reads a character from the input. Thus,\n",
    "its type signature is `getChar :: IO Char`, because the result contained\n",
    "within the I/O action is a [`Char`](https://hackage.haskell.org/package/base/docs/Prelude.html#t:Char). Note that due to buffering, reading of\n",
    "the characters won't actually happen until the user mashes the return\n",
    "key."
   ]
  },
  {
   "cell_type": "code",
   "execution_count": 32,
   "metadata": {
    "attributes": {
     "classes": [
      "haskell:hs"
     ],
     "id": "",
     "name": "\"code\""
    }
   },
   "outputs": [],
   "source": [
    "main = do\n",
    "    c <- getChar\n",
    "    if c /= ' '\n",
    "        then do\n",
    "            putChar c\n",
    "            main\n",
    "        else return ()"
   ]
  },
  {
   "cell_type": "markdown",
   "metadata": {},
   "source": [
    "This program looks like it should read a character and then check if\n",
    "it's a space. If it is, halt execution and if it isn't, print it to the\n",
    "terminal and then do the same thing all over again. Well, it kind of\n",
    "does, only not in the way you might expect. Check this out:"
   ]
  },
  {
   "cell_type": "code",
   "execution_count": 33,
   "metadata": {
    "attributes": {
     "classes": [
      "plain"
     ],
     "id": "",
     "name": "\"code\""
    }
   },
   "outputs": [
    {
     "data": {
      "text/plain": [
       "hello"
      ]
     },
     "metadata": {},
     "output_type": "display_data"
    }
   ],
   "source": [
    "withStdin \"hello sir\" main"
   ]
  },
  {
   "cell_type": "markdown",
   "metadata": {},
   "source": [
    "#### When\n",
    "\n",
    "* The __[`when`](https://hackage.haskell.org/package/base/docs/Control-Monad.html#v:when)__ function is found in `Control.Monad` (to get access to it, do\n",
    "`import Control.Monad`). \n",
    "* It's interesting because in a *do* block it looks\n",
    "like a control flow statement, but it's actually a normal function. \n",
    "* It takes a boolean value and an I/O action if that boolean value is [`True`](https://hackage.haskell.org/package/base/docs/Prelude.html#v:True),\n",
    "it returns the same I/O action that we supplied to it. \n",
    "* However, if it's\n",
    "[`False`](https://hackage.haskell.org/package/base/docs/Prelude.html#v:False), it returns the `return ()`, action, so an I/O action that doesn't\n",
    "do anything. \n",
    "\n",
    "By using [`when`](https://hackage.haskell.org/package/base/docs/Control-Monad.html#v:when):"
   ]
  },
  {
   "cell_type": "code",
   "execution_count": 34,
   "metadata": {
    "attributes": {
     "classes": [
      "haskell:hs"
     ],
     "id": "",
     "name": "\"code\""
    }
   },
   "outputs": [],
   "source": [
    "import Control.Monad\n",
    "\n",
    "main = do\n",
    "    c <- getChar\n",
    "    when (c /= ' ') $ do\n",
    "        putChar c\n",
    "        main"
   ]
  },
  {
   "cell_type": "code",
   "execution_count": 35,
   "metadata": {
    "attributes": {
     "classes": [
      "haskell:hs"
     ],
     "id": "",
     "name": "\"code\""
    }
   },
   "outputs": [
    {
     "data": {
      "text/plain": [
       "hello"
      ]
     },
     "metadata": {},
     "output_type": "display_data"
    }
   ],
   "source": [
    "withStdin \"hello sir\" main"
   ]
  },
  {
   "cell_type": "markdown",
   "metadata": {},
   "source": [
    "#### sequence\n",
    "\n",
    "* __[`sequence`](https://hackage.haskell.org/package/base/docs/Prelude.html#v:sequence)__ takes a list of I/O actions and returns an I/O action that\n",
    "will perform those actions one after the other. \n",
    "* The result contained in\n",
    "that I/O action will be a list of the results of all the I/O actions\n",
    "that were performed. \n",
    "* Its type signature is\n",
    "`sequence :: [IO a] -> IO [a]`. Doing this:"
   ]
  },
  {
   "cell_type": "code",
   "execution_count": 36,
   "metadata": {
    "attributes": {
     "classes": [
      "haskell:hs"
     ],
     "id": "",
     "name": "\"code\""
    }
   },
   "outputs": [],
   "source": [
    "main = do\n",
    "    a <- getLine\n",
    "    b <- getLine\n",
    "    c <- getLine\n",
    "    print [a,b,c]"
   ]
  },
  {
   "cell_type": "markdown",
   "metadata": {},
   "source": [
    "Is exactly the same as doing this:."
   ]
  },
  {
   "cell_type": "code",
   "execution_count": 37,
   "metadata": {
    "attributes": {
     "classes": [
      "haskell:hs"
     ],
     "id": "",
     "name": "\"code\""
    }
   },
   "outputs": [],
   "source": [
    "main = do\n",
    "    rs <- sequence [getLine, getLine, getLine]\n",
    "    print rs"
   ]
  },
  {
   "cell_type": "markdown",
   "metadata": {},
   "source": [
    "So `sequence [getLine, getLine, getLine]` makes an I/O action that will\n",
    "perform [`getLine`](https://hackage.haskell.org/package/base/docs/Prelude.html#v:getLine) three times. If we bind that action to a name, the\n",
    "result is a list of all the results, so in our case, a list of three\n",
    "things that the user entered at the prompt.\n",
    "\n",
    "#### sequence with \n",
    "A common pattern with [`sequence`](https://hackage.haskell.org/package/base/docs/Prelude.html#v:sequence) is when we map functions like [`print`](https://hackage.haskell.org/package/base/docs/Prelude.html#v:print) or\n",
    "[`putStrLn`](https://hackage.haskell.org/package/base/docs/Prelude.html#v:putStrLn) over lists. Doing `map print [1,2,3,4]` won't create an I/O\n",
    "action. It will create a list of I/O actions, because that's like\n",
    "writing `[print 1, print 2, print 3, print 4]`. If we want to transform\n",
    "that list of I/O actions into an I/O action, we have to sequence it."
   ]
  },
  {
   "cell_type": "code",
   "execution_count": 38,
   "metadata": {
    "attributes": {
     "classes": [
      "haskell:hs"
     ],
     "id": "",
     "name": "\"code\""
    }
   },
   "outputs": [
    {
     "data": {
      "text/plain": [
       "1\n",
       "2\n",
       "3\n",
       "4\n",
       "5\n",
       "[(),(),(),(),()]"
      ]
     },
     "metadata": {},
     "output_type": "display_data"
    }
   ],
   "source": [
    "sequence (map print [1,2,3,4,5])"
   ]
  },
  {
   "cell_type": "markdown",
   "metadata": {},
   "source": [
    "#### What's with the `[(),(),(),(),()]` at the end? \n",
    "\n",
    "#When we evaluate an\n",
    "I/O action in GHCI, it's performed and then its result is printed out,\n",
    "unless that result is `()`, in which case it's not printed out. \n",
    "* That's why\n",
    "evaluating `putStrLn \"hehe\"` in GHCI just prints out `hehe` (because the\n",
    "contained result in `putStrLn \"hehe\"` is `()`). \n",
    "* But when we do [`getLine`](https://hackage.haskell.org/package/base/docs/Prelude.html#v:getLine) in\n",
    "GHCI, the result of that I/O action is printed out, because [`getLine`](https://hackage.haskell.org/package/base/docs/Prelude.html#v:getLine) has\n",
    "a type of `IO String`.\n",
    "\n",
    "#### mapM\n",
    "\n",
    "* Because mapping a function that returns an I/O action over a list and\n",
    "then sequencing it is so common, the utility functions __[`mapM`](https://hackage.haskell.org/package/base/docs/Prelude.html#v:mapM)__ and __`mapM_`__\n",
    "were introduced. \n",
    "* [`mapM`](https://hackage.haskell.org/package/base/docs/Prelude.html#v:mapM) takes a function and a list, maps the function\n",
    "over the list and then sequences it. \n",
    "* `mapM_` does the same, only it\n",
    "throws away the result later. We usually use `mapM_` when we don't care\n",
    "what result our sequenced I/O actions have."
   ]
  },
  {
   "cell_type": "code",
   "execution_count": 39,
   "metadata": {
    "attributes": {
     "classes": [
      "haskell:hs"
     ],
     "id": "",
     "name": "\"code\""
    }
   },
   "outputs": [
    {
     "data": {
      "text/plain": [
       "1\n",
       "2\n",
       "3\n",
       "[(),(),()]"
      ]
     },
     "metadata": {},
     "output_type": "display_data"
    }
   ],
   "source": [
    "mapM print [1,2,3]"
   ]
  },
  {
   "cell_type": "code",
   "execution_count": 40,
   "metadata": {
    "attributes": {
     "classes": [
      "haskell:hs"
     ],
     "id": "",
     "name": "\"code\""
    }
   },
   "outputs": [
    {
     "data": {
      "text/plain": [
       "1\n",
       "2\n",
       "3"
      ]
     },
     "metadata": {},
     "output_type": "display_data"
    }
   ],
   "source": [
    "mapM_ print [1,2,3]"
   ]
  },
  {
   "cell_type": "markdown",
   "metadata": {},
   "source": [
    "#### forever\n",
    "\n",
    "__[`forever`](https://hackage.haskell.org/package/base/docs/Control-Monad.html#v:forever)__ takes an I/O action and returns an I/O action that just repeats\n",
    "the I/O action it got forever. It's located in `Control.Monad`. \n",
    "\n",
    "\n",
    "This\n",
    "little program will indefinitely ask the user for some input and spit it\n",
    "back to him, CAPSLOCKED:"
   ]
  },
  {
   "cell_type": "code",
   "execution_count": 41,
   "metadata": {
    "attributes": {
     "classes": [
      "haskell:hs"
     ],
     "id": "",
     "name": "\"code\""
    }
   },
   "outputs": [],
   "source": [
    "import Control.Monad\n",
    "import Data.Char\n",
    "\n",
    "main = forever $ do\n",
    "    putStr \"Give me some input: \"\n",
    "    l <- getLine\n",
    "    putStrLn $ map toUpper l"
   ]
  },
  {
   "cell_type": "code",
   "execution_count": 42,
   "metadata": {
    "attributes": {
     "classes": [
      "haskell:hs"
     ],
     "id": "",
     "name": "\"code\""
    }
   },
   "outputs": [
    {
     "data": {
      "text/plain": [
       "Give me some input: CAPSLOCK\n",
       "Give me some input: <stdin>: hGetLine: end of file"
      ]
     },
     "metadata": {},
     "output_type": "display_data"
    }
   ],
   "source": [
    "withStdin \"capslock\" $ catchPrint main"
   ]
  },
  {
   "cell_type": "markdown",
   "metadata": {},
   "source": [
    "#### Summary\n",
    "\n",
    "* We learned the basics of input and output. We also\n",
    "found out what I/O actions are, how they enable us to do input and\n",
    "output and when they are actually performed. \n",
    "* I/O actions\n",
    "are values much like any other value in Haskell. We can pass them as\n",
    "parameters to functions and functions can return I/O actions as results.\n",
    "* What's special about them is that if they fall into the `main` function\n",
    "(or are the result in a GHCI line), they are performed. \n",
    "\n",
    "* Don't think of a function like [`putStrLn`](https://hackage.haskell.org/package/base/docs/Prelude.html#v:putStrLn) as a function that takes a\n",
    "string and prints it to the screen. Think of it as a function that takes\n",
    "a string and returns an I/O action (same story). That I/O action will, when\n",
    "performed, print beautiful poetry to your terminal.\n",
    "\n",
    "### Do is not as simple as you thought!\n",
    "\n",
    "* In Haskell, both >>= and >> are functions from the Monad class. This means they're overloaded differently for every monad: (>>=)::m a->(a->m b)->m b\n",
    "* You start with an m a, apply the a -> m b function to it to get a m (m b) (this is the\n",
    "map part) and then you flatten the m (m b) into an m b (this is the flat part).\n",
    "* List monad"
   ]
  },
  {
   "cell_type": "code",
   "execution_count": 43,
   "metadata": {},
   "outputs": [
    {
     "data": {
      "text/plain": [
       "[0,2,1,3,2,4,3,5]"
      ]
     },
     "metadata": {},
     "output_type": "display_data"
    }
   ],
   "source": [
    "[1,2,3,4] >>= \\x->[x-1,x+1]  -- WHAT?!"
   ]
  },
  {
   "cell_type": "code",
   "execution_count": 44,
   "metadata": {},
   "outputs": [
    {
     "data": {
      "text/plain": [
       "[1,2,3]"
      ]
     },
     "metadata": {},
     "output_type": "display_data"
    }
   ],
   "source": [
    "do {\n",
    "    a <- [1,2,3];\n",
    "    return a;\n",
    "    }"
   ]
  },
  {
   "cell_type": "code",
   "execution_count": 45,
   "metadata": {},
   "outputs": [
    {
     "data": {
      "text/plain": [
       "[1,2,3]"
      ]
     },
     "metadata": {},
     "output_type": "display_data"
    }
   ],
   "source": [
    "[1,2,3] >>= \\x -> [x]"
   ]
  },
  {
   "cell_type": "markdown",
   "metadata": {},
   "source": [
    "## Other I/O functions\n",
    "\n",
    "* Files and streams\n",
    "* Command line arguments\n",
    "* Randomness\n",
    "* Bytestrings\n",
    "* Exceptions"
   ]
  }
 ],
 "metadata": {
  "kernelspec": {
   "display_name": "Haskell",
   "language": "haskell",
   "name": "haskell"
  },
  "language_info": {
   "codemirror_mode": "ihaskell",
   "file_extension": ".hs",
   "name": "haskell",
   "pygments_lexer": "Haskell",
   "version": "8.6.5"
  },
  "toc": {
   "base_numbering": 1,
   "nav_menu": {},
   "number_sections": true,
   "sideBar": true,
   "skip_h1_title": true,
   "title_cell": "Table of Contents",
   "title_sidebar": "Topics",
   "toc_cell": true,
   "toc_position": {
    "height": "calc(100% - 180px)",
    "left": "10px",
    "top": "150px",
    "width": "364.1875px"
   },
   "toc_section_display": true,
   "toc_window_display": true
  }
 },
 "nbformat": 4,
 "nbformat_minor": 4
}
