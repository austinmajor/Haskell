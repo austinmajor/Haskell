{
 "cells": [
  {
   "cell_type": "markdown",
   "metadata": {
    "toc": true
   },
   "source": [
    "<h1>Table of Contents<span class=\"tocSkip\"></span></h1>\n",
    "<div class=\"toc\"><ul class=\"toc-item\"><li><span><a href=\"#Hello-recursion!\" data-toc-modified-id=\"Hello-recursion!-1\"><span class=\"toc-item-num\">1&nbsp;&nbsp;</span>Hello recursion!</a></span><ul class=\"toc-item\"><li><span><a href=\"#Fibonacci-example\" data-toc-modified-id=\"Fibonacci-example-1.1\"><span class=\"toc-item-num\">1.1&nbsp;&nbsp;</span>Fibonacci example</a></span></li><li><span><a href=\"#Components-of-recursion\" data-toc-modified-id=\"Components-of-recursion-1.2\"><span class=\"toc-item-num\">1.2&nbsp;&nbsp;</span>Components of recursion</a></span></li></ul></li><li><span><a href=\"#Maximum-awesome\" data-toc-modified-id=\"Maximum-awesome-2\"><span class=\"toc-item-num\">2&nbsp;&nbsp;</span>Maximum awesome</a></span></li><li><span><a href=\"#A-few-more-recursive-functions\" data-toc-modified-id=\"A-few-more-recursive-functions-3\"><span class=\"toc-item-num\">3&nbsp;&nbsp;</span>A few more recursive functions</a></span><ul class=\"toc-item\"><li><span><a href=\"#Implementation-of-take\" data-toc-modified-id=\"Implementation-of-take-3.1\"><span class=\"toc-item-num\">3.1&nbsp;&nbsp;</span>Implementation of <code>take</code></a></span></li><li><span><a href=\"#Implementation-of-reverse\" data-toc-modified-id=\"Implementation-of-reverse-3.2\"><span class=\"toc-item-num\">3.2&nbsp;&nbsp;</span>Implementation of <code>reverse</code></a></span></li><li><span><a href=\"#Implementation-of-repeat\" data-toc-modified-id=\"Implementation-of-repeat-3.3\"><span class=\"toc-item-num\">3.3&nbsp;&nbsp;</span>Implementation of <code>repeat</code></a></span></li><li><span><a href=\"#Implementation-of-zip\" data-toc-modified-id=\"Implementation-of-zip-3.4\"><span class=\"toc-item-num\">3.4&nbsp;&nbsp;</span>Implementation of <code>zip</code></a></span></li><li><span><a href=\"#Implementation-of-elem\" data-toc-modified-id=\"Implementation-of-elem-3.5\"><span class=\"toc-item-num\">3.5&nbsp;&nbsp;</span>Implementation of <code>elem</code></a></span></li></ul></li><li><span><a href=\"#Quick,-sort!\" data-toc-modified-id=\"Quick,-sort!-4\"><span class=\"toc-item-num\">4&nbsp;&nbsp;</span>Quick, sort!</a></span></li><li><span><a href=\"#Thinking-recursively\" data-toc-modified-id=\"Thinking-recursively-5\"><span class=\"toc-item-num\">5&nbsp;&nbsp;</span>Thinking recursively</a></span></li></ul></div>"
   ]
  },
  {
   "cell_type": "markdown",
   "metadata": {},
   "source": [
    "Recursion\n",
    "=========\n",
    "\n",
    "<a name=\"recursion\"></a>\n",
    "\n",
    "## Hello recursion!\n",
    "\n",
    "\n",
    "<img src=\"img/recursion.png\" title=\"SOVIET RUSSIA\" style=\"float:right;margin-right:2em;\" />\n",
    "\n",
    "* Recursion is an important technique in algorithm design. \n",
    "* For functional programing, recursion generates very concise and elegant solutions to problems\n",
    "* In haskell, thinking recursively (of functions)\n",
    "* Recursion is actually a way of defining functions in which\n",
    "the function is applied inside its own definition. \n",
    "* Definitions in\n",
    "mathematics are often given recursively. "
   ]
  },
  {
   "cell_type": "markdown",
   "metadata": {},
   "source": [
    "### Fibonacci example\n",
    "The Fibonacci sequence is defined recursively. \n",
    "\n",
    "* First, we define the first two\n",
    "Fibonacci numbers non-recursively:  $F(0) = 0$ and\n",
    "$F(1) = 1$, meaning that the 0th and 1st Fibonacci numbers are 0 and 1,\n",
    "respectively. \n",
    "* Any other natural number, that\n",
    "Fibonacci number is the sum of the previous two Fibonacci numbers: \n",
    "$F(n) = F(n-1) + F(n-2)$. \n",
    "    * $F(3)$ is $F(2) + F(1)$, i.e., $(F(1) + F(0)) + F(1)$. \n",
    "\n",
    "\n",
    "### Components of recursion\n",
    "\n",
    "Recursion is important to Haskell because unlike imperative languages,\n",
    "you do computations in Haskell by declaring what something *is* instead\n",
    "of declaring *how* you get it. That's why there are no while loops or\n",
    "for loops in Haskell and instead we many times have to use recursion to\n",
    "declare what something is.\n",
    "\n",
    "* Edge conditions: an element or two in a recursion definition defined\n",
    "non-recursively (like $F(0)$ and $F(1)$ here). They terminate the recursion.\n",
    "* Recursion: functions defined used the functions themselves."
   ]
  },
  {
   "cell_type": "markdown",
   "metadata": {},
   "source": [
    "Maximum awesome\n",
    "---------------\n",
    "\n",
    "The [`maximum`](https://hackage.haskell.org/package/base/docs/Prelude.html#v:maximum) function takes a list of things that can be ordered (e.g.\n",
    "instances of the [`Ord`](https://hackage.haskell.org/package/base/docs/Prelude.html#t:Ord) typeclass) and returns the biggest of them.\n",
    "\n",
    "* what do you do in an imperative programing language?\n",
    "* How we'd define it recursively in Haskell:"
   ]
  },
  {
   "cell_type": "code",
   "execution_count": 1,
   "metadata": {
    "attributes": {
     "classes": [
      "haskell:hs"
     ],
     "id": "",
     "name": "\"code\""
    }
   },
   "outputs": [],
   "source": [
    "maximum' :: (Ord a) => [a] -> a\n",
    "maximum' [] = error \"maximum of empty list\"\n",
    "maximum' [x] = x\n",
    "maximum' (x:xs)\n",
    "    | x > maxTail = x\n",
    "    | otherwise = maxTail\n",
    "    where maxTail = maximum' xs\n",
    "{-|\n",
    "We could first set up an\n",
    "edge condition and say that the maximum of a singleton list is equal to\n",
    "the only element in it. Then we can say that the maximum of a longer\n",
    "list is the head if the head is bigger than the maximum of the tail. If\n",
    "the maximum of the tail is bigger, well, then it's the maximum of the\n",
    "}"
   ]
  },
  {
   "cell_type": "markdown",
   "metadata": {},
   "source": [
    "* Pattern matching goes great with recursion! \n",
    "* the first edge condition says that if the\n",
    "list is empty, crash! \n",
    "* the second pattern also lays out an edge condition. It says that if it's the singleton list, just give back the only\n",
    "element.\n",
    "* the third pattern is where the action happens. We use pattern\n",
    "matching to split a list into a head and a tail. This is a very __common\n",
    "idiom__ when doing recursion with lists."
   ]
  },
  {
   "cell_type": "code",
   "execution_count": 2,
   "metadata": {},
   "outputs": [
    {
     "data": {
      "text/plain": [
       "5"
      ]
     },
     "metadata": {},
     "output_type": "display_data"
    }
   ],
   "source": [
    "maximum' [2,5,1] -- what happened?\n",
    "{-|\n",
    "If we call `maximum'` on that, the first two patterns\n",
    "won't match. The third one will and the list is split into `2` and `[5,1]`.\n",
    "The *where* clause wants to know the maximum of `[5,1]`, so we follow that\n",
    "route. It matches the third pattern again and `[5,1]` is split into `5` and\n",
    "`[1]`. Again, the `where` clause wants to know the maximum of `[1]`. Because\n",
    "that's the edge condition, it returns `1`. Finally! So going up one step,\n",
    "comparing `5` to the maximum of `[1]` (which is `1`), we obviously get back `5`.\n",
    "So now we know that the maximum of `[5,1]` is `5`. We go up one step again\n",
    "where we had `2` and `[5,1]`. Comparing `2` with the maximum of `[5,1]`, which\n",
    "is `5`, we choose `5`.}"
   ]
  },
  {
   "cell_type": "markdown",
   "metadata": {},
   "source": [
    "\n",
    "An even clearer way to write this function is to use [`max`](https://hackage.haskell.org/package/base/docs/Prelude.html#v:max). If you\n",
    "remember, [`max`](https://hackage.haskell.org/package/base/docs/Prelude.html#v:max) is a function that takes two numbers and returns the\n",
    "bigger of them. Here's how we could rewrite `maximum'` by using [`max`](https://hackage.haskell.org/package/base/docs/Prelude.html#v:max):"
   ]
  },
  {
   "cell_type": "code",
   "execution_count": 3,
   "metadata": {
    "attributes": {
     "classes": [
      "haskell:hs"
     ],
     "id": "",
     "name": "\"code\""
    }
   },
   "outputs": [],
   "source": [
    "maximum' :: (Ord a) => [a] -> a\n",
    "maximum' [] = error \"maximum of empty list\"\n",
    "maximum' [x] = x\n",
    "maximum' (x:xs) = max x (maximum' xs)"
   ]
  },
  {
   "cell_type": "markdown",
   "metadata": {},
   "source": [
    "How's that for elegant! In essence, the maximum of a list is the max of\n",
    "the first element and the maximum of the tail.\n",
    "\n",
    "<img src=\"img/maxs.png\" title=\"max\" style=\"\" />\n",
    "\n",
    "<span style=\"color:red\">Why not</span>: the maximum of a list is the max of\n",
    "the __LAST__ element and the maximum of the init?\n",
    "\n",
    "A few more recursive functions\n",
    "------------------------------\n",
    "\n",
    "We'll implement [`replicate`](https://hackage.haskell.org/package/base/docs/Prelude.html#v:replicate): it takes an [`Int`](https://hackage.haskell.org/package/base/docs/Prelude.html#t:Int) and some element and returns a list that has\n",
    "several repetitions of the same element. For instance, `replicate 3 5`\n",
    "returns `[5,5,5]`. \n",
    "\n",
    "* The edge condition: 0 or less. If we try to replicate something zero\n",
    "times, it should return an empty list. Also for negative numbers,\n",
    "because it doesn't really make sense."
   ]
  },
  {
   "cell_type": "code",
   "execution_count": 4,
   "metadata": {
    "attributes": {
     "classes": [
      "haskell:hs"
     ],
     "id": "",
     "name": "\"code\""
    }
   },
   "outputs": [],
   "source": [
    "replicate' :: (Num i, Ord i) => i -> a -> [a]\n",
    "replicate' n x\n",
    "    | n <= 0    = []\n",
    "    | otherwise = x:replicate' (n-1) x\n",
    "{-|\n",
    "If `n` is less than or equal to 0, return an empty\n",
    "list. Otherwise return a list that has `x` as the first element and then `x`\n",
    "replicated n-1 times as the tail. Eventually, the `(n-1)` part will cause\n",
    "our function to reach the edge condition.}"
   ]
  },
  {
   "cell_type": "markdown",
   "metadata": {},
   "source": [
    "> __Note:__ [`Num`](https://hackage.haskell.org/package/base/docs/Prelude.html#t:Num) is not a subclass of [`Ord`](https://hackage.haskell.org/package/base/docs/Prelude.html#t:Ord). That means that what constitutes\n",
    "> for a number doesn't really have to adhere to an ordering. So that's why\n",
    "> we have to specify both the [`Num`](https://hackage.haskell.org/package/base/docs/Prelude.html#t:Num) and [`Ord`](https://hackage.haskell.org/package/base/docs/Prelude.html#t:Ord) class constraints when doing\n",
    "> addition or subtraction and also comparison."
   ]
  },
  {
   "cell_type": "markdown",
   "metadata": {},
   "source": [
    "### Implementation of `take`\n",
    "\n",
    "[`take`](https://hackage.haskell.org/package/base/docs/Prelude.html#v:take) takes a certain number of elements\n",
    "from a list. For instance, `take 3 [5,4,3,2,1]` will return `[5,4,3]`. If we\n",
    "try to take 0 or less elements from a list, we get an empty list. Also\n",
    "if we try to take anything from an empty list, we get an empty list."
   ]
  },
  {
   "cell_type": "code",
   "execution_count": 5,
   "metadata": {
    "attributes": {
     "classes": [
      "haskell:hs"
     ],
     "id": "",
     "name": "\"code\""
    }
   },
   "outputs": [],
   "source": [
    "take' :: (Num i, Ord i) => i -> [a] -> [a]\n",
    "take' n _\n",
    "    | n <= 0   = []\n",
    "take' _ []     = []\n",
    "take' n (x:xs) = x : take' (n-1) xs"
   ]
  },
  {
   "cell_type": "markdown",
   "metadata": {},
   "source": [
    "<img src=\"img/painter.png\" title=\"painter\" style=\"float:right;margin-left:2em;\" />\n",
    "\n",
    "* The first pattern specifies that if we try to take a 0 or negative\n",
    "number of elements, we get an empty list. Notice that we use a guard, but without an [`otherwise`](https://hackage.haskell.org/package/base/docs/Prelude.html#v:otherwise) part. That\n",
    "means that if `n` turns out to be more than 0, the matching will fall\n",
    "through to the next pattern. \n",
    "* The second pattern indicates that if we try\n",
    "to take anything from an empty list, we get an empty list. \n",
    "* The third\n",
    "pattern breaks the list into a head and a tail. And then we state that\n",
    "taking `n` elements from a list equals a list that has `x` as the head and\n",
    "then a list that takes `n-1` elements from the tail as a tail. "
   ]
  },
  {
   "cell_type": "markdown",
   "metadata": {},
   "source": [
    "### Implementation of `reverse`\n",
    "\n",
    "[`reverse`](https://hackage.haskell.org/package/base/docs/Prelude.html#v:reverse) simply reverses a list. \n",
    "\n",
    "* Edge condition: An empty list reversed equals the\n",
    "empty list itself.\n",
    "* What about the rest of it? If we split a list to a head and a tail, the reversed list is equal\n",
    "to the reversed tail and then the head at the end."
   ]
  },
  {
   "cell_type": "code",
   "execution_count": 6,
   "metadata": {
    "attributes": {
     "classes": [
      "haskell:hs"
     ],
     "id": "",
     "name": "\"code\""
    }
   },
   "outputs": [],
   "source": [
    "reverse' :: [a] -> [a]\n",
    "reverse' [] = []\n",
    "reverse' (x:xs) = reverse' xs ++ [x]"
   ]
  },
  {
   "cell_type": "markdown",
   "metadata": {},
   "source": [
    "### Implementation of `repeat`\n",
    "\n",
    "[`repeat`](https://hackage.haskell.org/package/base/docs/Prelude.html#v:repeat) takes an element\n",
    "and returns an infinite list that just has that element. "
   ]
  },
  {
   "cell_type": "code",
   "execution_count": 7,
   "metadata": {
    "attributes": {
     "classes": [
      "haskell:hs"
     ],
     "id": "",
     "name": "\"code\""
    }
   },
   "outputs": [],
   "source": [
    "repeat' :: a -> [a]\n",
    "repeat' x = x:repeat' x"
   ]
  },
  {
   "cell_type": "markdown",
   "metadata": {},
   "source": [
    "Calling `repeat 3` will give us a list that starts with `3` and then has an\n",
    "infinite amount of 3's as a tail. So calling `repeat 3` would evaluate\n",
    "like `3:repeat 3`, which is `3:(3:repeat 3)`, which is `3:(3:(3:repeat 3))`,\n",
    "etc. `repeat 3` will never finish evaluating, whereas `take 5 (repeat 3)`\n",
    "will give us a list of five 3's. So essentially it's like doing\n",
    "`replicate 5 3`."
   ]
  },
  {
   "cell_type": "markdown",
   "metadata": {},
   "source": [
    "### Implementation of `zip`\n",
    "\n",
    "[`zip`](https://hackage.haskell.org/package/base/docs/Prelude.html#v:zip) takes two lists and zips them together. `zip [1,2,3] [2,3]` returns\n",
    "`[(1,2),(2,3)]`, because it truncates the longer list to match the length\n",
    "of the shorter one. \n",
    "\n",
    "* How about if we zip something with an empty list? We get an empty list back then. So there's our edge condition.\n",
    "* [`zip`](https://hackage.haskell.org/package/base/docs/Prelude.html#v:zip) takes two lists as parameters, so there are actually two\n",
    "edge conditions."
   ]
  },
  {
   "cell_type": "code",
   "execution_count": 8,
   "metadata": {
    "attributes": {
     "classes": [
      "haskell:hs"
     ],
     "id": "",
     "name": "\"code\""
    }
   },
   "outputs": [],
   "source": [
    "zip' :: [a] -> [b] -> [(a,b)]\n",
    "zip' _ [] = []\n",
    "zip' [] _ = []\n",
    "zip' (x:xs) (y:ys) = (x,y):zip' xs ys"
   ]
  },
  {
   "cell_type": "markdown",
   "metadata": {},
   "source": [
    "### Implementation of `elem`\n",
    "\n",
    "[`elem`](https://hackage.haskell.org/package/base/docs/Prelude.html#v:elem). It takes an\n",
    "element and a list and sees if that element is in the list.\n",
    "\n",
    "* The edge\n",
    "condition, as is most of the times with lists, is the empty list."
   ]
  },
  {
   "cell_type": "code",
   "execution_count": 9,
   "metadata": {
    "attributes": {
     "classes": [
      "haskell:hs"
     ],
     "id": "",
     "name": "\"code\""
    }
   },
   "outputs": [],
   "source": [
    "elem' :: (Eq a) => a -> [a] -> Bool\n",
    "elem' a [] = False\n",
    "elem' a (x:xs)\n",
    "    | a == x    = True\n",
    "    | otherwise = a `elem'` xs"
   ]
  },
  {
   "cell_type": "markdown",
   "metadata": {},
   "source": [
    "Quick, sort!\n",
    "------------\n",
    "\n",
    "We want to sort a list!\n",
    "* We have a list of items that can be sorted. \n",
    "* Their type is an instance of\n",
    "the [`Ord`](https://hackage.haskell.org/package/base/docs/Prelude.html#t:Ord) typeclass. \n",
    "\n",
    "__Quicksort algorithm__: While it takes upwards of 10 lines to implement quicksort in\n",
    "imperative languages, the implementation is much shorter and elegant in\n",
    "Haskell. \n",
    "\n",
    "<img src=\"img/quickman.png\" title=\"quickman\" style=\"float:right;margin-right:2em;\" />\n",
    "\n",
    "* The edge condition? Empty list.\n",
    "* The main algorithm:\n",
    "a sorted list is a list that has all the values smaller than (or equal\n",
    "to) the head of the list in front (and those values are sorted), then\n",
    "comes the head of the list in the middle and then come all the values\n",
    "that are bigger than the head (they're also sorted).\n",
    "\n",
    "__Notice__ that we\n",
    "said *sorted* twice in this definition, so we'll probably have to\n",
    "make the recursive call twice! \n",
    "\n",
    "Also notice that we defined it using the\n",
    "verb *is* to define the algorithm instead of saying *do this, do that,\n",
    "then do that ...*. That's the beauty of functional programming! "
   ]
  },
  {
   "cell_type": "code",
   "execution_count": 10,
   "metadata": {
    "attributes": {
     "classes": [
      "haskell:hs"
     ],
     "id": "",
     "name": "\"code\""
    }
   },
   "outputs": [],
   "source": [
    "quicksort :: (Ord a) => [a] -> [a]\n",
    "quicksort [] = []\n",
    "quicksort (x:xs) =\n",
    "    let smallerSorted = quicksort [a | a <- xs, a <= x]\n",
    "        biggerSorted = quicksort [a | a <- xs, a > x]\n",
    "    in  smallerSorted ++ [x] ++ biggerSorted"
   ]
  },
  {
   "cell_type": "markdown",
   "metadata": {},
   "source": [
    "Let's give it a small test run to see if it appears to behave correctly."
   ]
  },
  {
   "cell_type": "code",
   "execution_count": 11,
   "metadata": {
    "attributes": {
     "classes": [
      "haskell:ghci"
     ],
     "id": "",
     "name": "\"code\""
    }
   },
   "outputs": [
    {
     "data": {
      "text/plain": [
       "[1,2,2,3,3,4,4,5,6,7,8,9,10]"
      ]
     },
     "metadata": {},
     "output_type": "display_data"
    }
   ],
   "source": [
    "quicksort [10,2,5,3,1,6,7,4,2,3,4,8,9]"
   ]
  },
  {
   "cell_type": "code",
   "execution_count": 12,
   "metadata": {
    "attributes": {
     "classes": [
      "haskell:ghci"
     ],
     "id": "",
     "name": "\"code\""
    }
   },
   "outputs": [
    {
     "data": {
      "text/plain": [
       "\"        abcdeeefghhijklmnoooopqrrsttuuvwxyz\""
      ]
     },
     "metadata": {},
     "output_type": "display_data"
    }
   ],
   "source": [
    "quicksort \"the quick brown fox jumps over the lazy dog\""
   ]
  },
  {
   "cell_type": "markdown",
   "metadata": {},
   "source": [
    "If we have, say\n",
    "`[5,1,9,4,6,7,3]` and we want to sort it, this algorithm will first take\n",
    "the head, which is `5` and then put it in the middle of two lists that are\n",
    "smaller and bigger than it. So at one point, you'll have\n",
    "`[1,4,3] ++ [5] ++ [9,6,7]`. We know that once the list is sorted completely,\n",
    "the number `5` will stay in the fourth place since there are 3 numbers lower\n",
    "than it and 3 numbers higher than it. Now, if we sort `[1,4,3]` and `[9,6,7]`, we\n",
    "have a sorted list! We sort the two lists using the same function.\n",
    "Eventually, we'll break it up so much that we reach empty lists and an\n",
    "empty list is already sorted in a way, by virtue of being empty. Here's\n",
    "an illustration:\n",
    "\n",
    "<img src=\"img/quicksort.png\" title=\"quicksort\" style=\"\" />\n",
    "\n",
    "An element that is in place and won't move anymore is represented in\n",
    "<span style=\"color:darkorange;font-weight:bold\">orange</span>. If you read them from left to right, you'll see the sorted list.\n",
    "Although we chose to compare all the elements to the heads, we could\n",
    "have used any element to compare against. In quicksort, an element that\n",
    "you compare against is called a pivot. They're in <span style=\"color:green;font-weight:bold;\">green</span> here. We chose\n",
    "the head because it's easy to get by pattern matching. The elements that\n",
    "are smaller than the pivot are <span style=\"color:lightgreen;font-weight:bold;\">light green</span> and elements larger than the\n",
    "pivot are dark green. The yellowish gradient thing represents an\n",
    "application of quicksort."
   ]
  },
  {
   "cell_type": "markdown",
   "metadata": {},
   "source": [
    "Thinking recursively\n",
    "--------------------\n",
    "\n",
    "* Usually you define an edge case and then you\n",
    "define a function that does something between some element and the\n",
    "function applied to the rest. \n",
    "\n",
    "* It doesn't matter if it's a list, a tree\n",
    "or any other data structure. \n",
    "\n",
    "    * A sum is the first element of a list plus\n",
    "the sum of the rest of the list. \n",
    "    * A product of a list is the first\n",
    "element of the list times the product of the rest of the list. \n",
    "    * The\n",
    "length of a list is one plus the length of the tail of the list."
   ]
  },
  {
   "cell_type": "markdown",
   "metadata": {},
   "source": [
    "<img src=\"img/brain.png\" title=\"brain\" style=\"float:right;margin-right:2em;\" />\n",
    "\n",
    "* Edge cases: \n",
    "    \n",
    "    * Usually the edge case is some\n",
    "scenario where a recursive application doesn't make sense (or not necessary)\n",
    "    * When dealing\n",
    "with lists, the edge case is most often the empty list. \n",
    "    * If you're dealing with trees, the edge case is usually a node that doesn't have\n",
    "any children.\n",
    "\n",
    "* Recursive functions\n",
    "\n",
    "So when trying to think of a recursive way to solve a problem, try to\n",
    "think of when a recursive solution doesn't apply and see if you can use\n",
    "that as an edge case, think about identities and think about whether\n",
    "you'll break apart the parameters of the function (for instance, lists\n",
    "are usually broken into a head and a tail via pattern matching) and on\n",
    "which part you'll use the recursive call."
   ]
  }
 ],
 "metadata": {
  "kernelspec": {
   "display_name": "Haskell",
   "language": "haskell",
   "name": "haskell"
  },
  "language_info": {
   "codemirror_mode": "ihaskell",
   "file_extension": ".hs",
   "name": "haskell",
   "pygments_lexer": "Haskell",
   "version": "8.6.5"
  },
  "toc": {
   "base_numbering": 1,
   "nav_menu": {},
   "number_sections": true,
   "sideBar": true,
   "skip_h1_title": true,
   "title_cell": "Table of Contents",
   "title_sidebar": "Topics",
   "toc_cell": true,
   "toc_position": {
    "height": "calc(100% - 180px)",
    "left": "10px",
    "top": "150px",
    "width": "351px"
   },
   "toc_section_display": true,
   "toc_window_display": true
  }
 },
 "nbformat": 4,
 "nbformat_minor": 4
}
