{
 "cells": [
  {
   "cell_type": "markdown",
   "metadata": {},
   "source": [
    "# Syntax in Functions\n",
    "\n",
    "\n",
    "Pattern matching\n",
    "----------------\n",
    "\n",
    "<img src=\"img/pattern.png\" title=\"four!\" style=\"float:right;margin-left:2em;\" />\n",
    "\n",
    "* Haskell's  syntactic constructs: pattern matching. \n",
    "\n",
    "* Pattern matching consists of\n",
    "specifying patterns to which some data should conform and then checking\n",
    "to see if it does and deconstructing the data according to those\n",
    "patterns.\n",
    "\n",
    "* When defining functions, we can define *separate function bodies* for\n",
    "different *patterns*. \n",
    "* You can pattern match on any data type — numbers, characters,\n",
    "lists, tuples, etc. "
   ]
  },
  {
   "cell_type": "markdown",
   "metadata": {},
   "source": [
    "### Pattern example\n",
    "Let's make a function that checks if\n",
    "the number we supplied to it is a seven or not."
   ]
  },
  {
   "cell_type": "code",
   "execution_count": null,
   "metadata": {
    "attributes": {
     "classes": [
      "haskell:",
      "hs"
     ],
     "id": "",
     "name": "\"code\""
    }
   },
   "outputs": [],
   "source": [
    "lucky :: (Integral a) => a -> String\n",
    "lucky 7 = \"LUCKY NUMBER SEVEN!\"\n",
    "lucky x = \"Sorry, you're out of luck, pal!\"\n",
    "\n"
   ]
  },
  {
   "cell_type": "markdown",
   "metadata": {},
   "source": [
    "When you call `lucky`, the patterns will be checked from top to bottom and\n",
    "when it conforms to a pattern, the corresponding function body will be\n",
    "used. \n",
    "\n",
    "* The only way a number can conform to the first pattern here is if\n",
    "it is 7. If it's not, it falls through to the second pattern, which\n",
    "matches anything and binds it to `x`. \n",
    "* This function could have also been\n",
    "implemented by using an if statement. \n",
    "* __value__ vs __pattern__ vs __conditions__\n",
    "\n",
    "### Case example"
   ]
  },
  {
   "cell_type": "code",
   "execution_count": null,
   "metadata": {
    "attributes": {
     "classes": [
      "haskell:",
      "hs"
     ],
     "id": "",
     "name": "\"code\""
    }
   },
   "outputs": [],
   "source": [
    "sayMe :: (Integral a) => a -> String\n",
    "sayMe 1 = \"One!\"\n",
    "sayMe 2 = \"Two!\"\n",
    "sayMe 3 = \"Three!\"\n",
    "sayMe 4 = \"Four!\"\n",
    "sayMe 5 = \"Five!\"\n",
    "sayMe x = \"Not between 1 and 5\"\n"
   ]
  },
  {
   "cell_type": "markdown",
   "metadata": {},
   "source": [
    "Note that if we moved the last pattern (the catch-all one) to the top,\n",
    "it would always say `\"Not between 1 and 5\"`, why?"
   ]
  },
  {
   "cell_type": "code",
   "execution_count": null,
   "metadata": {},
   "outputs": [],
   "source": [
    "sayMe :: (Integral a) => a -> String\n",
    "sayMe x = \"Not between 1 and 5\"\n",
    "sayMe 1 = \"One!\"\n",
    "sayMe 2 = \"Two!\"\n",
    "sayMe 3 = \"Three!\"\n",
    "sayMe 4 = \"Four!\"\n",
    "sayMe 5 = \"Five!\""
   ]
  },
  {
   "cell_type": "markdown",
   "metadata": {},
   "source": [
    "### Recursive example\n",
    "\n",
    "* Remember the factorial function we implemented previously? "
   ]
  },
  {
   "cell_type": "code",
   "execution_count": null,
   "metadata": {
    "scrolled": true
   },
   "outputs": [],
   "source": [
    "factorial:: Int -> Int\n",
    "factorial n = product [1..n]"
   ]
  },
  {
   "cell_type": "markdown",
   "metadata": {},
   "source": [
    "* We can also define a\n",
    "factorial function *recursively*, the way it is usually defined in\n",
    "mathematics. "
   ]
  },
  {
   "cell_type": "code",
   "execution_count": null,
   "metadata": {
    "attributes": {
     "classes": [
      "haskell:",
      "hs"
     ],
     "id": "",
     "name": "\"code\""
    }
   },
   "outputs": [],
   "source": [
    "factorial :: (Integral a) => a -> a\n",
    "factorial 0 = 1\n",
    "factorial n = n * factorial (n - 1)\n",
    "-- We start by saying that the factorial of 0 is 1. Then we\n",
    "-- state that the factorial of any positive integer is that integer\n",
    "-- multiplied by the factorial of its predecessor. "
   ]
  },
  {
   "cell_type": "markdown",
   "metadata": {},
   "source": [
    "#### Recursive example explaination\n",
    "* Recursion\n",
    "is important in Haskell. \n",
    "* But in\n",
    "a nutshell, this is what happens if we try to get the factorial of, say, 3. \n",
    "    * It tries to compute `3 * factorial 2`. \n",
    "    * The factorial of 2 is\n",
    "`2 * factorial 1`, so for now we have `3 * (2 * factorial 1)`.\n",
    "    * `factorial 1` is `1 * factorial 0`, so we have\n",
    "`3 * (2 * (1 * factorial 0))`. \n",
    "    * Now here comes the trick — we've defined\n",
    "the factorial of 0 to be just 1. So the final result is equivalent to `3 * (2 * (1 * 1))`.\n",
    "\n",
    "* Had we written the second pattern on top of the first one, it would\n",
    "catch all numbers, including 0 and our calculation would never\n",
    "terminate. \n",
    "* That's why order is important when specifying patterns and\n",
    "it's always best to specify the most specific ones first and then the\n",
    "more general ones later.\n",
    "\n",
    "### Missed pattern\n",
    "Pattern matching can also fail. If we define a function like this:"
   ]
  },
  {
   "cell_type": "code",
   "execution_count": null,
   "metadata": {
    "attributes": {
     "classes": [
      "haskell:",
      "hs"
     ],
     "id": "",
     "name": "\"code\""
    }
   },
   "outputs": [],
   "source": [
    "charName :: Char -> String\n",
    "charName 'a' = \"Albert\"\n",
    "charName 'b' = \"Broseph\"\n",
    "charName 'c' = \"Cecil\""
   ]
  },
  {
   "cell_type": "markdown",
   "metadata": {},
   "source": [
    "and then try to call it with an input that we didn't expect, this is\n",
    "what happens:"
   ]
  },
  {
   "cell_type": "code",
   "execution_count": null,
   "metadata": {
    "attributes": {
     "classes": [
      "haskell:",
      "ghci"
     ],
     "id": "",
     "name": "\"code\""
    }
   },
   "outputs": [],
   "source": [
    "charName 'a'"
   ]
  },
  {
   "cell_type": "code",
   "execution_count": null,
   "metadata": {
    "attributes": {
     "classes": [
      "haskell:",
      "ghci"
     ],
     "id": "",
     "name": "\"code\""
    }
   },
   "outputs": [],
   "source": [
    "charName 'b'"
   ]
  },
  {
   "cell_type": "code",
   "execution_count": null,
   "metadata": {
    "attributes": {
     "classes": [
      "haskell:",
      "ghci"
     ],
     "id": "",
     "name": "\"code\""
    }
   },
   "outputs": [],
   "source": [
    "charName 'h'"
   ]
  },
  {
   "cell_type": "markdown",
   "metadata": {},
   "source": [
    "### Practical trick on recrusive function\n",
    "\n",
    "* When making patterns, we should always include a catch-all pattern so\n",
    "that our program doesn't crash if we get some unexpected input.\n",
    "\n",
    "### Pattern matching on tuples\n",
    "\n",
    "Pattern matching can also be used on tuples.\n",
    "\n",
    "* What if we wanted to make a\n",
    "function that takes two vectors in a 2D space (that are in the form of\n",
    "pairs) and adds them together? \n"
   ]
  },
  {
   "cell_type": "code",
   "execution_count": null,
   "metadata": {
    "attributes": {
     "classes": [
      "haskell:",
      "hs"
     ],
     "id": "",
     "name": "\"code\""
    }
   },
   "outputs": [],
   "source": [
    "addVectors :: (Num a) => (a, a) -> (a, a) -> (a, a)\n",
    "addVectors a b = (fst a + fst b, snd a + snd b)"
   ]
  },
  {
   "cell_type": "markdown",
   "metadata": {},
   "source": [
    "Is there a better way to do it?"
   ]
  },
  {
   "cell_type": "code",
   "execution_count": null,
   "metadata": {
    "attributes": {
     "classes": [
      "haskell:",
      "hs"
     ],
     "id": "",
     "name": "\"code\""
    }
   },
   "outputs": [],
   "source": [
    "addVectors :: (Num a) => (a, a) -> (a, a) -> (a, a)\n",
    "addVectors (x1, y1) (x2, y2) = (x1 + x2, y1 + y2) "
   ]
  },
  {
   "cell_type": "markdown",
   "metadata": {},
   "source": [
    "* Note that this is already a catch-all pattern.\n",
    "* The type of `addVectors` (in both cases) is\n",
    "`addVectors :: (Num a) => (a, a) -> (a, a) -> (a, a)`,\n",
    "so we are guaranteed to get two pairs as\n",
    "parameters.\n",
    "\n",
    "### Triples\n",
    "[`fst`](https://hackage.haskell.org/package/base/docs/Prelude.html#v:fst) and [`snd`](https://hackage.haskell.org/package/base/docs/Prelude.html#v:snd) extract the components of pairs. But what about triples?\n"
   ]
  },
  {
   "cell_type": "code",
   "execution_count": null,
   "metadata": {
    "attributes": {
     "classes": [
      "haskell:",
      "hs"
     ],
     "id": "",
     "name": "\"code\""
    }
   },
   "outputs": [],
   "source": [
    "first :: (a, b, c) -> a\n",
    "first (x, _, _) = x\n",
    "\n",
    "second :: (a, b, c) -> b\n",
    "second (_, y, _) = y\n",
    "\n",
    "third :: (a, b, c) -> c\n",
    "third (_, _, z) = z"
   ]
  },
  {
   "cell_type": "markdown",
   "metadata": {},
   "source": [
    "* The `_` means the same thing as it does in list comprehensions. \n",
    "* It means\n",
    "that we really don't care what that part is, so we just write a `_`.\n",
    "\n",
    "### Pattern match in list comprehensions"
   ]
  },
  {
   "cell_type": "code",
   "execution_count": null,
   "metadata": {
    "attributes": {
     "classes": [
      "haskell:",
      "ghci"
     ],
     "id": "",
     "name": "\"code\""
    }
   },
   "outputs": [],
   "source": [
    "let xs = [(1,3), (4,3), (2,4), (5,3), (5,6), (3,1)]\n",
    "[a+b | (a,b) <- xs]"
   ]
  },
  {
   "cell_type": "markdown",
   "metadata": {},
   "source": [
    "* Should a pattern match fail, it will just move on to the next element.\n",
    "\n",
    "### Pattern matching against lists\n",
    "* Lists themselves can also be used in pattern matching. You can match\n",
    "with the empty list `[]` or any pattern that involves `:` and the empty\n",
    "list. \n",
    "* But since `[1,2,3]` is just syntactic sugar for `1:2:3:[]`, you can\n",
    "also use the former pattern. \n",
    "* A pattern like `x:xs` will bind the head of\n",
    "the list to `x` and the rest of it to `xs`, even if there's only one element\n",
    "so `xs` ends up being an empty list."
   ]
  },
  {
   "cell_type": "code",
   "execution_count": null,
   "metadata": {},
   "outputs": [],
   "source": [
    "x:xs=\"123456789\"\n",
    "x"
   ]
  },
  {
   "cell_type": "code",
   "execution_count": null,
   "metadata": {},
   "outputs": [],
   "source": [
    "x:xs=\"\"\n",
    "x"
   ]
  },
  {
   "cell_type": "markdown",
   "metadata": {},
   "source": [
    "> __Note:__ The `x:xs`:  patterns that have `:` in them only match against lists of\n",
    "> length 1 or more.\n",
    "\n",
    "### Pattern matching against lists for more elements\n",
    "If you want to bind the first three elements to variables and the\n",
    "rest of the list to another variable, you can use something like\n",
    "`x:y:z:zs`. "
   ]
  },
  {
   "cell_type": "code",
   "execution_count": null,
   "metadata": {},
   "outputs": [],
   "source": [
    "(x1:x2:x3:xs)=\"123456789\"\n",
    "x1\n",
    "x2"
   ]
  },
  {
   "cell_type": "markdown",
   "metadata": {},
   "source": [
    "### Implementation of \"head\"\n",
    "Let's make our own\n",
    "implementation of the [`head`](https://hackage.haskell.org/package/base/docs/Prelude.html#v:head) function."
   ]
  },
  {
   "cell_type": "code",
   "execution_count": null,
   "metadata": {
    "attributes": {
     "classes": [
      "haskell:",
      "hs"
     ],
     "id": "",
     "name": "\"code\""
    }
   },
   "outputs": [],
   "source": [
    "head' :: [a] -> a\n",
    "head' [] = error \"Can't call head on an empty list\"\n",
    "head' (x:_) = x -- surrounded in parentheses."
   ]
  },
  {
   "cell_type": "markdown",
   "metadata": {},
   "source": [
    "Checking if it works:"
   ]
  },
  {
   "cell_type": "code",
   "execution_count": null,
   "metadata": {
    "attributes": {
     "classes": [
      "haskell:",
      "ghci"
     ],
     "id": "",
     "name": "\"code\""
    }
   },
   "outputs": [],
   "source": [
    "head' [4,5,6]"
   ]
  },
  {
   "cell_type": "code",
   "execution_count": null,
   "metadata": {
    "attributes": {
     "classes": [
      "haskell:",
      "ghci"
     ],
     "id": "",
     "name": "\"code\""
    }
   },
   "outputs": [],
   "source": [
    "head' \"Hello\""
   ]
  },
  {
   "cell_type": "markdown",
   "metadata": {},
   "source": [
    "* __Notice__ that if you want to bind to several variables (even if one\n",
    "of them is just `_` and doesn't actually bind at all), we have to\n",
    "surround them in parentheses. \n",
    "* Also notice the [`error`](https://hackage.haskell.org/package/base/docs/Prelude.html#v:error) function that we\n",
    "used. It takes a string and generates a runtime error, using that string\n",
    "as information about what kind of error occurred. It causes the program\n",
    "to crash, so it's not good to use it too much. "
   ]
  },
  {
   "cell_type": "markdown",
   "metadata": {},
   "source": [
    "### Implementation of \"fst\"\n",
    "Let's make a trivial function that tells us some of the first elements\n",
    "of the list in (in)convenient English form."
   ]
  },
  {
   "cell_type": "code",
   "execution_count": null,
   "metadata": {
    "attributes": {
     "classes": [
      "haskell:",
      "hs"
     ],
     "id": "",
     "name": "\"code\""
    }
   },
   "outputs": [],
   "source": [
    "tell :: (Show a) => [a] -> String\n",
    "tell [] = \"The list is empty\"\n",
    "tell (x:[]) = \"The list has one element: \" ++ show x\n",
    "tell (x:y:[]) = \"The list has two elements: \" ++ show x ++ \" and \" ++ show y\n",
    "tell (x:y:_) = \"This list is long. The first two elements are: \" ++ show x ++ \" and \" ++ show y"
   ]
  },
  {
   "cell_type": "markdown",
   "metadata": {},
   "source": [
    "* This function is safe because it takes care of the empty list, a\n",
    "singleton list, a list with two elements and a list with more than two\n",
    "elements. \n",
    "* Note that `(x:[])` and `(x:y:[])` could be rewritten as `[x]` and\n",
    "`[x,y]` (we don't need the parentheses). \n",
    "* We\n",
    "can't rewrite `(x:y:_)` with square brackets because it matches __any__ list\n",
    "of length 2 or more.\n",
    "\n",
    "### Implementation of \"length\"\n",
    "We already implemented our own [`length`](https://hackage.haskell.org/package/base/docs/Prelude.html#v:length) function using list comprehension.\n",
    "Now we'll do it by using pattern matching and a little recursion:"
   ]
  },
  {
   "cell_type": "code",
   "execution_count": null,
   "metadata": {
    "attributes": {
     "classes": [
      "haskell:",
      "hs"
     ],
     "id": "",
     "name": "\"code\""
    }
   },
   "outputs": [],
   "source": [
    "length' :: (Num b) => [a] -> b\n",
    "length' [] = 0\n",
    "length' (_:xs) = 1 + length' xs"
   ]
  },
  {
   "cell_type": "markdown",
   "metadata": {},
   "source": [
    "* First we\n",
    "defined the result of a known input — the empty list. This is also known\n",
    "as the edge condition. \n",
    "* Then in the second pattern we take the list apart\n",
    "by splitting it into a head and a tail. We say that the length is equal\n",
    "to 1 plus the length of the tail. \n",
    "* We use `_` to match the head because we\n",
    "don't actually care what it is. \n",
    "* Also note that we've taken care of all\n",
    "possible patterns of a list. The first pattern matches an empty list and\n",
    "the second one matches anything that isn't an empty list."
   ]
  },
  {
   "cell_type": "markdown",
   "metadata": {},
   "source": [
    "### Length example\n",
    "Let's see what happens if we call `length'` on `\"ham\"`. \n",
    "\n",
    "* First, it will check\n",
    "if it's an empty list. Because it isn't, it falls through to the second\n",
    "pattern. \n",
    "* It matches on the second pattern and there it says that the\n",
    "length is `1 + length' \"am\"`, because we broke it into a head and a tail\n",
    "and discarded the head. \n",
    "* The `length'` of `\"am\"` is, similarly,\n",
    "`1 + length' \"m\"`. So right now we have `1 + (1 + length' \"m\")`. `length' \"m\"` is\n",
    "`1 + length' \"\"` (could also be written as `1 + length' []`). \n",
    "* And we've\n",
    "defined `length' []` to be `0`. So in the end we have `1 + (1 + (1 + 0))`.\n",
    "\n",
    "### Implementation of \"sum\"\n",
    "Let's implement [`sum`](https://hackage.haskell.org/package/base/docs/Prelude.html#v:sum). \n",
    "\n",
    "* the sum of an empty list is 0. We\n",
    "write that down as a pattern. \n",
    "* And we also know that the sum of a list is\n",
    "the head plus the sum of the rest of the list. "
   ]
  },
  {
   "cell_type": "code",
   "execution_count": null,
   "metadata": {
    "attributes": {
     "classes": [
      "haskell:nogutter:nocontrols:hs"
     ],
     "id": "",
     "name": "\"code\""
    }
   },
   "outputs": [],
   "source": [
    "sum' :: (Num a) => [a] -> a\n",
    "sum' [] = 0\n",
    "sum' (x:xs) = x + sum' xs\n",
    "\n",
    "-- product?"
   ]
  },
  {
   "cell_type": "markdown",
   "metadata": {},
   "source": [
    "### As patterns\n",
    "\n",
    "* *as patterns* =  a reference @  a pattern \n",
    "* You do that by\n",
    "putting a name and an `@` in front of a pattern. \n",
    "    * For instance, the pattern\n",
    "`xs@(x:y:ys)`. \n",
    "    * This pattern will match exactly the same thing as `x:y:ys`\n",
    "but you can easily get the whole list via `xs` instead of repeating\n",
    "yourself by typing out `x:y:ys` in the function body again. \n",
    "* We use as patterns to avoid repeating ourselves when matching against a bigger pattern when we have to use the whole thing again in the function body."
   ]
  },
  {
   "cell_type": "code",
   "execution_count": null,
   "metadata": {
    "attributes": {
     "classes": [
      "haskell:nogutter:nocontrols:hs"
     ],
     "id": "",
     "name": "\"code\""
    }
   },
   "outputs": [],
   "source": [
    "capital :: String -> String\n",
    "capital \"\" = \"Empty string, whoops!\"\n",
    "capital all@(x:xs) = \"The first letter of \" ++ all ++ \" is \" ++ [x]"
   ]
  },
  {
   "cell_type": "code",
   "execution_count": null,
   "metadata": {
    "attributes": {
     "classes": [
      "haskell:ghci"
     ],
     "id": "",
     "name": "\"code\""
    }
   },
   "outputs": [],
   "source": [
    "capital \"Dracula\""
   ]
  },
  {
   "cell_type": "markdown",
   "metadata": {},
   "source": [
    "### Notes on pattern matches\n",
    "* One more thing — you can't use [`++`](https://hackage.haskell.org/package/base/docs/Prelude.html#v:-43--43-) in pattern matches. \n",
    "* If you tried to\n",
    "pattern match against `(xs ++ ys)`, what would be in the first and what\n",
    "would be in the second list? It doesn't make much sense. \n",
    "* It would make\n",
    "sense to match stuff against `(xs ++ [x,y,z])` or just `(xs ++ [x])`, but\n",
    "because of the nature of lists, you can't do that.\n",
    "* How about (x + 2)?"
   ]
  },
  {
   "cell_type": "code",
   "execution_count": null,
   "metadata": {},
   "outputs": [],
   "source": [
    "capital :: (Num a, Eq a) => [a] -> String\n",
    "capital [] = \"Empty string, whoops!\"\n",
    "capital all@(xs ++ [x]) = \"Works?\""
   ]
  },
  {
   "cell_type": "code",
   "execution_count": null,
   "metadata": {},
   "outputs": [],
   "source": [
    "capital :: (Num a, Eq a) => [a] -> String\n",
    "capital [] = \"Empty string, whoops!\"\n",
    "capital all@(\"test\"++[x]) = \"Works?\""
   ]
  },
  {
   "cell_type": "markdown",
   "metadata": {},
   "source": [
    "<a name=\"guards-guards\"></a>\n",
    "\n",
    "Guards, guards!\n",
    "---------------\n",
    "\n",
    "<img src=\"img/guards.png\" title=\"guards\" style=\"float:right;margin-right:2em;\" />\n",
    "\n",
    "* Patterns make sure a value conforms to some form\n",
    "and deconstruct it.\n",
    "* Guards construct functions according to conditions.\n",
    "* The thing is that guards are\n",
    "a lot more readable when you have several conditions and they play\n",
    "really nicely with patterns."
   ]
  },
  {
   "cell_type": "markdown",
   "metadata": {},
   "source": [
    "### A guard example\n",
    "\n",
    "[BMI](http://en.wikipedia.org/wiki/Body_mass_index) (body mass index) example:\n",
    "\n",
    "* Your BMI equals your weight divided by your height squared. \n",
    "    * If your BMI\n",
    "is less than 18.5, you're considered underweight. \n",
    "    * If it's anywhere from\n",
    "18.5 to 25 then you're considered normal. \n",
    "    * 25 to 30 is overweight and\n",
    "    * more than 30 is obese. \n",
    "    \n"
   ]
  },
  {
   "cell_type": "code",
   "execution_count": null,
   "metadata": {
    "attributes": {
     "classes": [
      "haskell:hs"
     ],
     "id": "",
     "name": "\"code\""
    }
   },
   "outputs": [],
   "source": [
    "bmiTell :: (RealFloat a) => a -> String\n",
    "bmiTell bmi\n",
    "    | bmi <= 18.5 = \"You're underweight\"\n",
    "    | bmi <= 25.0 = \"You're supposedly normal\"\n",
    "    | bmi <= 30.0 = \"You're overweight\"\n",
    "    | otherwise   = \"You're probably obese\""
   ]
  },
  {
   "cell_type": "markdown",
   "metadata": {},
   "source": [
    "### More about a guard\n",
    "* Guards are indicated by pipes that follow a function's name and its\n",
    "parameters. Usually, they're indented a bit to the right and lined up. \n",
    "* A\n",
    "guard is basically a boolean expression. \n",
    "    * If it evaluates to [`True`](https://hackage.haskell.org/package/base/docs/Prelude.html#v:True), then\n",
    "the corresponding function body is used. \n",
    "    * If it evaluates to [`False`](https://hackage.haskell.org/package/base/docs/Prelude.html#v:False),\n",
    "checking drops through to the next guard and so on. \n",
    "* If we call this\n",
    "function with `24.3`, it will first check if that's smaller than or equal\n",
    "to `18.5`. \n",
    "* Because it isn't, it falls through to the next guard. The check\n",
    "is carried out with the second guard and because 24.3 is less than 25.0,\n",
    "the second string is returned.\n",
    "\n",
    "### About Guards\n",
    "\n",
    "* Many times, the last guard is [`otherwise`](https://hackage.haskell.org/package/base/docs/Prelude.html#v:otherwise). [`otherwise`](https://hackage.haskell.org/package/base/docs/Prelude.html#v:otherwise) is defined simply as\n",
    "`otherwise = True` and catches everything. \n",
    "* This is very similar to\n",
    "patterns, only they check if the input satisfies a pattern but guards\n",
    "check for boolean conditions. \n",
    "* __NOTE__: If all the guards of a function evaluate\n",
    "to [`False`](https://hackage.haskell.org/package/base/docs/Prelude.html#v:False) (and we haven't provided an [`otherwise`](https://hackage.haskell.org/package/base/docs/Prelude.html#v:otherwise) catch-all guard),\n",
    "evaluation falls through to the next *pattern*. That's how patterns and\n",
    "guards play nicely together. \n",
    "* If no suitable guards or patterns are\n",
    "found, an error is thrown."
   ]
  },
  {
   "cell_type": "markdown",
   "metadata": {},
   "source": [
    "### Guards + functions\n",
    "Guards conditions implemented with functions"
   ]
  },
  {
   "cell_type": "code",
   "execution_count": null,
   "metadata": {
    "attributes": {
     "classes": [
      "haskell:hs"
     ],
     "id": "",
     "name": "\"code\""
    }
   },
   "outputs": [],
   "source": [
    "bmiTell :: (RealFloat a) => a -> a -> String\n",
    "bmiTell weight height\n",
    "    | weight / height ^ 2 <= 18.5 = \"underweight\"\n",
    "    | weight / height ^ 2 <= 25.0 = \"normal\"\n",
    "    | weight / height ^ 2 <= 30.0 = \"overweight\"\n",
    "    | otherwise                 = \"obese\""
   ]
  },
  {
   "cell_type": "markdown",
   "metadata": {},
   "source": [
    "Let's test ..."
   ]
  },
  {
   "cell_type": "code",
   "execution_count": null,
   "metadata": {
    "attributes": {
     "classes": [
      "haskell:ghci"
     ],
     "id": "",
     "name": "\"code\""
    }
   },
   "outputs": [],
   "source": [
    "bmiTell 85 1.90"
   ]
  },
  {
   "cell_type": "markdown",
   "metadata": {},
   "source": [
    "__Note__: that there's no `=` right after the function name and its parameters,\n",
    "before the first guard, or else you may get syntax errors.\n",
    "\n",
    "### Max implementation\n",
    "Let's implement our own [`max`](https://hackage.haskell.org/package/base/docs/Prelude.html#v:max) function. "
   ]
  },
  {
   "cell_type": "code",
   "execution_count": null,
   "metadata": {
    "attributes": {
     "classes": [
      "haskell:hs"
     ],
     "id": "",
     "name": "\"code\""
    }
   },
   "outputs": [],
   "source": [
    "max' :: (Ord a) => a -> a -> a\n",
    "max' a b\n",
    "    | a > b     = a\n",
    "    | otherwise = b"
   ]
  },
  {
   "cell_type": "markdown",
   "metadata": {},
   "source": [
    "Guards can also be written inline:"
   ]
  },
  {
   "cell_type": "code",
   "execution_count": null,
   "metadata": {
    "attributes": {
     "classes": [
      "haskell:hs"
     ],
     "id": "",
     "name": "\"code\""
    }
   },
   "outputs": [],
   "source": [
    "max' :: (Ord a) => a -> a -> a\n",
    "max' a b | a > b = a | otherwise = b"
   ]
  },
  {
   "cell_type": "markdown",
   "metadata": {},
   "source": [
    "### Compare implementation\n",
    "Let's implement our own\n",
    "[`compare`](https://hackage.haskell.org/package/base/docs/Prelude.html#v:compare) by using guards."
   ]
  },
  {
   "cell_type": "code",
   "execution_count": null,
   "metadata": {
    "attributes": {
     "classes": [
      "haskell:hs"
     ],
     "id": "",
     "name": "\"code\""
    }
   },
   "outputs": [],
   "source": [
    "myCompare :: (Ord a) => a -> a -> Ordering\n",
    "a `myCompare` b   -- The way to define functions is the same as calling it\n",
    "    | a > b     = GT\n",
    "    | a == b    = EQ\n",
    "    | otherwise = LT"
   ]
  },
  {
   "cell_type": "code",
   "execution_count": null,
   "metadata": {
    "attributes": {
     "classes": [
      "haskell:hs"
     ],
     "id": "",
     "name": "\"code\""
    }
   },
   "outputs": [],
   "source": [
    "3 `myCompare` 2"
   ]
  },
  {
   "cell_type": "markdown",
   "metadata": {},
   "source": [
    "> __Note:__ Not only can we call functions as infix with backticks, we can\n",
    "> also define them using backticks. "
   ]
  },
  {
   "cell_type": "markdown",
   "metadata": {},
   "source": [
    "Where!?\n",
    "-------\n",
    "\n",
    "BMI calculator with functions"
   ]
  },
  {
   "cell_type": "code",
   "execution_count": null,
   "metadata": {
    "attributes": {
     "classes": [
      "haskell:hs"
     ],
     "id": "",
     "name": "\"code\""
    }
   },
   "outputs": [],
   "source": [
    "bmiTell :: (RealFloat a) => a -> a -> String\n",
    "bmiTell weight height\n",
    "    | weight / height ^ 2 <= 18.5 = \"underweight\"\n",
    "    | weight / height ^ 2 <= 25.0 = \"supposedly normal\"\n",
    "    | weight / height ^ 2 <= 30.0 = \"overweight\"\n",
    "    | otherwise                   = \"obese\""
   ]
  },
  {
   "cell_type": "markdown",
   "metadata": {},
   "source": [
    "Can we avoid the repeat of \"weight / height ^ 2\"?"
   ]
  },
  {
   "cell_type": "code",
   "execution_count": null,
   "metadata": {
    "attributes": {
     "classes": [
      "haskell:hs"
     ],
     "id": "",
     "name": "\"code\""
    }
   },
   "outputs": [],
   "source": [
    "bmiTell :: (RealFloat a) => a -> a -> String\n",
    "bmiTell weight height\n",
    "    | bmi <= 18.5 = \"underweight\"\n",
    "    | bmi <= 25.0 = \"supposedly normal\"\n",
    "    | bmi <= 30.0 = \"overweight\"\n",
    "    | otherwise   = \"obese\"\n",
    "    where bmi = weight / height ^ 2"
   ]
  },
  {
   "cell_type": "markdown",
   "metadata": {},
   "source": [
    "* We put the keyword `where` after the guards and then we define several names\n",
    "or functions. \n",
    "* These names are visible across the guards and give us the\n",
    "advantage of not having to repeat ourselves. \n",
    "* It\n",
    "also improves readability by giving names to things and can make our\n",
    "programs faster since stuff like our `bmi` variable here is calculated\n",
    "only once. \n",
    "\n",
    "### About `where`"
   ]
  },
  {
   "cell_type": "code",
   "execution_count": null,
   "metadata": {
    "attributes": {
     "classes": [
      "haskell:hs"
     ],
     "id": "",
     "name": "\"code\""
    }
   },
   "outputs": [],
   "source": [
    "bmiTell :: (RealFloat a) => a -> a -> String\n",
    "bmiTell weight height\n",
    "    | bmi <= skinny = \"You're underweight, you emo, you!\"\n",
    "    | bmi <= normal = \"You're supposedly normal. Pffft, I bet you're ugly!\"\n",
    "    | bmi <= fat    = \"You're fat! Lose some weight, fatty!\"\n",
    "    | otherwise     = \"You're a whale, congratulations!\"\n",
    "    where bmi = weight / height ^ 2\n",
    "          skinny = 18.5\n",
    "          normal = 25.0\n",
    "          fat = 30.0"
   ]
  },
  {
   "cell_type": "markdown",
   "metadata": {},
   "source": [
    "* __Scope__: The names we define in the where section of a function are only visible\n",
    "to that function, so we don't have to worry about them polluting the\n",
    "namespace of other functions. \n",
    "* __Indention of where__: Notice that all the names are aligned at a\n",
    "single column. If not, Haskell gets\n",
    "confused because then it doesn't know they're all part of the same\n",
    "block.\n",
    "* __Indentation problems__: where, let, do\n",
    "\n",
    "### Locality of *where*\n",
    "* *where* bindings aren't shared across function bodies of different\n",
    "patterns. \n",
    "* If you want several patterns of one function to access some\n",
    "shared name, you have to define it globally.\n",
    "\n",
    "### Where + pattern match\n",
    "We could have\n",
    "rewritten the where section of our previous function as:"
   ]
  },
  {
   "cell_type": "markdown",
   "metadata": {
    "attributes": {
     "classes": [
      "haskell:hs"
     ],
     "id": "",
     "name": "\"code\""
    }
   },
   "source": [
    "...\n",
    "    where bmi = weight / height $^ 2$\n",
    "          (skinny, normal, fat) = (18.5, 25.0, 30.0)"
   ]
  },
  {
   "cell_type": "markdown",
   "metadata": {},
   "source": [
    "### *Where* example\n",
    "Example: take a first and a last name and give someone back their initials."
   ]
  },
  {
   "cell_type": "code",
   "execution_count": null,
   "metadata": {
    "attributes": {
     "classes": [
      "haskell:hs"
     ],
     "id": "",
     "name": "\"code\""
    }
   },
   "outputs": [],
   "source": [
    "initials :: String -> String -> String\n",
    "initials firstname lastname \n",
    "    = [f] ++ \". \" ++ [l] ++ \".\"\n",
    "    where (f:_) = firstname -- pattern match could be anywhere\n",
    "          (l:_) = lastname"
   ]
  },
  {
   "cell_type": "markdown",
   "metadata": {},
   "source": [
    "* We could have done this pattern matching directly in the function's\n",
    "parameters.\n",
    "\n",
    "* Just like we've defined constants in where blocks, you can also define\n",
    "functions. \n",
    "\n",
    "### Embedded *where*\n",
    "Let's make a\n",
    "function that takes a list of weight-height pairs and returns a list of\n",
    "BMIs."
   ]
  },
  {
   "cell_type": "code",
   "execution_count": null,
   "metadata": {
    "attributes": {
     "classes": [
      "haskell:hs"
     ],
     "id": "",
     "name": "\"code\""
    }
   },
   "outputs": [],
   "source": [
    "calcBmis :: (RealFloat a) => [(a, a)] -> [a]\n",
    "calcBmis xs = [bmi w h | (w, h) <- xs]\n",
    "    where bmi weight height = weight / height ^ 2"
   ]
  },
  {
   "cell_type": "markdown",
   "metadata": {},
   "source": [
    "* The reason we had to introduce `bmi` as a\n",
    "function in this example is because we can't just calculate one BMI from\n",
    "the function's parameters. \n",
    "* We have to examine the list passed to the\n",
    "function and there's a different BMI for every pair in there.\n",
    "\n",
    "### Nested *where*\n",
    "* *where* bindings can also be nested. \n",
    "* It's a common idiom to make a\n",
    "function and define some <span style=\"color:red\"> **helper function** </span> in its *where* clause and then\n",
    "to give those functions helper functions as well, each with its own\n",
    "*where* clause."
   ]
  },
  {
   "cell_type": "code",
   "execution_count": null,
   "metadata": {},
   "outputs": [],
   "source": [
    "myaddnorm a b = norm a + norm b\n",
    "    where\n",
    "        norm input = myabs input\n",
    "            where\n",
    "                 myabs x \n",
    "                     | x > 0 = x\n",
    "                     | otherwise = x*(-1)"
   ]
  },
  {
   "cell_type": "code",
   "execution_count": null,
   "metadata": {},
   "outputs": [],
   "source": [
    "myaddnorm 1 (-2)"
   ]
  },
  {
   "cell_type": "markdown",
   "metadata": {},
   "source": [
    "<a name=\"let-it-be\"></a>\n",
    "\n",
    "Let it be\n",
    "---------\n",
    "\n",
    "* <span style=\"color:red\"> **Where** </span> bindings are a syntactic construct \n",
    "    * resides at the end of a\n",
    "function and \n",
    "    * whole function can see them, including all the guards.\n",
    "* <span style=\"color:red\"> **Let**</span> bindings let you bind to variables \n",
    "    * anywhere and are expressions themselves, \n",
    "    * are very local, so they don't span across guards. \n",
    "* <span style=\"color:red\"> **pattern matching**</span> is everywhere, so is in let\n",
    "bindings.\n",
    "\n",
    "\n",
    "### Let example\n",
    "A function that gives us a cylinder's\n",
    "surface area based on its height and radius:"
   ]
  },
  {
   "cell_type": "code",
   "execution_count": null,
   "metadata": {
    "attributes": {
     "classes": [
      "haskell:hs"
     ],
     "id": "",
     "name": "\"code\""
    }
   },
   "outputs": [],
   "source": [
    "cylinder :: (RealFloat a) => a -> a -> a\n",
    "cylinder r h =\n",
    "    let sideArea = 2 * pi * r * h\n",
    "        topArea = pi * r ^2\n",
    "    in  sideArea + 2 * topArea"
   ]
  },
  {
   "cell_type": "markdown",
   "metadata": {},
   "source": [
    "<img src=\"img/letitbe.png\" title=\"let it be\" style=\"float:right;margin-left:2em;\" />\n",
    "\n",
    "The form is `let <bindings> in <expression>`. The names that you\n",
    "define in the *let* part are accessible to the expression after the *in*\n",
    "part. \n",
    "\n",
    "* Equivalent to a *where*\n",
    "binding. \n",
    "* Indentation: aligned in a single column.\n",
    "\n",
    "* The difference is that *let* bindings are expressions themselves.\n",
    "* *where* bindings are just syntactic constructs. \n",
    "\n",
    "### Expressions (if else) could be anywhere"
   ]
  },
  {
   "cell_type": "code",
   "execution_count": null,
   "metadata": {
    "attributes": {
     "classes": [
      "haskell:ghci"
     ],
     "id": "",
     "name": "\"code\""
    }
   },
   "outputs": [],
   "source": [
    "[if 5 > 3 then \"Woo\" else \"Boo\", if 'a' > 'b' then \"Foo\" else \"Bar\"]"
   ]
  },
  {
   "cell_type": "code",
   "execution_count": null,
   "metadata": {
    "attributes": {
     "classes": [
      "haskell:ghci"
     ],
     "id": "",
     "name": "\"code\""
    }
   },
   "outputs": [],
   "source": [
    "4 * (if 10 > 5 then 10 else 0) + 2"
   ]
  },
  {
   "cell_type": "markdown",
   "metadata": {},
   "source": [
    "### Expressions (let) could be anywhere, too"
   ]
  },
  {
   "cell_type": "code",
   "execution_count": null,
   "metadata": {
    "attributes": {
     "classes": [
      "haskell:ghci"
     ],
     "id": "",
     "name": "\"code\""
    }
   },
   "outputs": [],
   "source": [
    "4 * (let a = 9 in a + 1) + 2"
   ]
  },
  {
   "cell_type": "markdown",
   "metadata": {},
   "source": [
    "They can also be used to introduce functions in a local scope:"
   ]
  },
  {
   "cell_type": "code",
   "execution_count": null,
   "metadata": {
    "attributes": {
     "classes": [
      "haskell:ghci"
     ],
     "id": "",
     "name": "\"code\""
    }
   },
   "outputs": [],
   "source": [
    "[let square x = x * x in (square 5, square 3, square 2)]"
   ]
  },
  {
   "cell_type": "markdown",
   "metadata": {},
   "source": [
    "If we want to bind to several variables inline, we can separate them with semicolons."
   ]
  },
  {
   "cell_type": "code",
   "execution_count": null,
   "metadata": {
    "attributes": {
     "classes": [
      "haskell:ghci"
     ],
     "id": "",
     "name": "\"code\""
    }
   },
   "outputs": [],
   "source": [
    "(let a = 100; b = 200; c = 300 in a*b*c, let foo=\"Hey \"; bar = \"there!\" in foo ++ bar)"
   ]
  },
  {
   "cell_type": "markdown",
   "metadata": {},
   "source": [
    "* You don't have to put a semicolon after the last binding but you can if\n",
    "you want. \n",
    "* you can pattern match with *let*\n",
    "bindings. They're very useful for quickly dismantling a tuple into\n",
    "components and binding them to names and such."
   ]
  },
  {
   "cell_type": "code",
   "execution_count": null,
   "metadata": {
    "attributes": {
     "classes": [
      "haskell:ghci"
     ],
     "id": "",
     "name": "\"code\""
    }
   },
   "outputs": [],
   "source": [
    "(let (a,b,c) = (1,2,3) in a+b+c) * 100"
   ]
  },
  {
   "cell_type": "markdown",
   "metadata": {},
   "source": [
    "### Let inside comprehensions\n",
    "* You can also put *let* bindings inside list comprehensions. "
   ]
  },
  {
   "cell_type": "code",
   "execution_count": null,
   "metadata": {
    "attributes": {
     "classes": [
      "haskell:hs"
     ],
     "id": "",
     "name": "\"code\""
    }
   },
   "outputs": [],
   "source": [
    "calcBmis :: (RealFloat a) => [(a, a)] -> [a]\n",
    "calcBmis xs = [bmi | (w, h) <- xs, let bmi = w / h ^ 2]"
   ]
  },
  {
   "cell_type": "code",
   "execution_count": null,
   "metadata": {},
   "outputs": [],
   "source": [
    "-- see if this one works?\n",
    "calcBmis :: (RealFloat a) => [(a, a)] -> [a]\n",
    "calcBmis xs = [bmi | (w, h) <- xs] where\n",
    "                            bmi =  w / h ^ 2"
   ]
  },
  {
   "cell_type": "markdown",
   "metadata": {},
   "source": [
    "### Locality of `let`\n",
    "* a *let* inside a list comprehension much like we would a\n",
    "predicate, only it doesn't filter the list, it only binds to names. \n",
    "* The\n",
    "names defined in a *let* inside a list comprehension are visible to the\n",
    "output function (the part before the |) and all predicates and sections\n",
    "that come __after__ of the binding. \n",
    "* Why does sequence matter? What is \"| bmi > 10\" actually?"
   ]
  },
  {
   "cell_type": "code",
   "execution_count": null,
   "metadata": {
    "attributes": {
     "classes": [
      "haskell:hs"
     ],
     "id": "",
     "name": "\"code\""
    }
   },
   "outputs": [],
   "source": [
    "calcBmis :: (RealFloat a) => [(a, a)] -> [a]\n",
    "calcBmis xs = [bmi | (w, h) <- xs, let bmi = w / h ^ 2, bmi >= 25.0]"
   ]
  },
  {
   "cell_type": "markdown",
   "metadata": {},
   "source": [
    "* We omitted the *in* part of the *let* binding when we used them in list\n",
    "comprehensions because the visibility of the names is already predefined\n",
    "there. \n",
    "* we could use a *let in* binding in a predicate and the names defined would only be visible to that predicate. \n",
    "* The *in* part can\n",
    "also be omitted when defining functions and constants directly in GHCi. If we do that, then the names will be visible throughout the entire\n",
    "interactive session."
   ]
  },
  {
   "cell_type": "code",
   "execution_count": null,
   "metadata": {
    "attributes": {
     "classes": [
      "haskell:ghci"
     ],
     "id": "",
     "name": "\"code\""
    }
   },
   "outputs": [],
   "source": [
    "let zoot x y z = x * y + z"
   ]
  },
  {
   "cell_type": "code",
   "execution_count": null,
   "metadata": {
    "attributes": {
     "classes": [
      "haskell:ghci"
     ],
     "id": "",
     "name": "\"code\""
    }
   },
   "outputs": [],
   "source": [
    "zoot 3 9 2"
   ]
  },
  {
   "cell_type": "code",
   "execution_count": null,
   "metadata": {
    "attributes": {
     "classes": [
      "haskell:ghci"
     ],
     "id": "",
     "name": "\"code\""
    }
   },
   "outputs": [],
   "source": [
    "let boot x y z = x * y + z in boot 3 4 2"
   ]
  },
  {
   "cell_type": "code",
   "execution_count": null,
   "metadata": {
    "attributes": {
     "classes": [
      "haskell:ghci"
     ],
     "id": "",
     "name": "\"code\""
    }
   },
   "outputs": [],
   "source": [
    "boot"
   ]
  },
  {
   "cell_type": "markdown",
   "metadata": {},
   "source": [
    "### let* vs. *where*\n",
    "* since *let* bindings are expressions\n",
    "and are fairly local in their scope, they can't be used across guards.\n",
    "* Some people prefer *where* bindings because the names come after the\n",
    "function they're being used in. \n",
    "\n",
    "Case expressions\n",
    "----------------\n",
    "\n",
    "<img src=\"img/case.png\" title=\"case\" style=\"float:right;margin-left:2em;\" />\n",
    "\n",
    "* Many imperative languages (C, C++, Java, etc.) have case syntax. \n",
    "* It's\n",
    "about taking a variable and then executing blocks of code for specific\n",
    "values of that variable and then maybe including a catch-all block of\n",
    "code in case the variable has some value for which we didn't set up a\n",
    "case.\n",
    "\n",
    "* Haskell takes that concept and one-ups it. \n",
    "* case\n",
    "expressions are, well, expressions, much like if else expressions and\n",
    "*let* bindings.\n",
    "* Not only can we evaluate expressions based on the\n",
    "possible cases of the value of a variable, we can also do pattern\n",
    "matching. \n",
    "* taking a variable, pattern matching it, evaluating\n",
    "pieces of code based on its value: It's the same as \n",
    "pattern matching on parameters in function definitions! \n",
    "\n",
    "### Function pattern match == case expressions\n",
    "pieces of code do the same thing and are interchangeable:"
   ]
  },
  {
   "cell_type": "code",
   "execution_count": null,
   "metadata": {
    "attributes": {
     "classes": [
      "haskell:hs"
     ],
     "id": "",
     "name": "\"code\""
    }
   },
   "outputs": [],
   "source": [
    "head' :: [a] -> a\n",
    "head' [] = error \"No head for empty lists!\"\n",
    "head' (x:_) = x"
   ]
  },
  {
   "cell_type": "code",
   "execution_count": null,
   "metadata": {
    "attributes": {
     "classes": [
      "haskell:hs"
     ],
     "id": "",
     "name": "\"code\""
    }
   },
   "outputs": [],
   "source": [
    "head' :: [a] -> a\n",
    "head' xs = case xs of [] -> error \"No head for empty lists!\"\n",
    "                      (x:_) -> x"
   ]
  },
  {
   "cell_type": "markdown",
   "metadata": {},
   "source": [
    "* the syntax for case expressions is pretty simple:"
   ]
  },
  {
   "cell_type": "raw",
   "metadata": {
    "attributes": {
     "classes": [
      "haskell:hs"
     ],
     "id": "",
     "name": "\"code\""
    }
   },
   "source": [
    "case expression of pattern -> result\n",
    "                   pattern -> result\n",
    "                   pattern -> result\n",
    "                   ..."
   ]
  },
  {
   "cell_type": "markdown",
   "metadata": {},
   "source": [
    "### Patterns -> values -> conditions\n",
    "`expression` is matched against the patterns. \n",
    "\n",
    "* The pattern matching action\n",
    "is the same as expected: the first pattern that matches the expression\n",
    "is used. \n",
    "* If it falls through the whole case expression and no suitable\n",
    "pattern is found, a runtime error occurs (how about guards?)\n",
    "* case expressions can be used pretty much anywhere."
   ]
  },
  {
   "cell_type": "code",
   "execution_count": null,
   "metadata": {
    "attributes": {
     "classes": [
      "haskell:hs"
     ],
     "id": "",
     "name": "\"code\""
    }
   },
   "outputs": [],
   "source": [
    "describeList :: [a] -> String\n",
    "describeList xs = \"The list is \" ++ case xs of [] -> \"empty.\"\n",
    "                                               [x] -> \"a singleton list.\"\n",
    "                                               xs -> \"a longer list.\""
   ]
  },
  {
   "cell_type": "markdown",
   "metadata": {},
   "source": [
    "* Case expressions are useful for pattern matching against something in the middle of\n",
    "an expression. \n",
    "\n",
    "### Case expressions  >= function definiti\n",
    "Because pattern matching in function definitions is\n",
    "syntactic sugar for case expressions, we could have also defined this\n",
    "like so:"
   ]
  },
  {
   "cell_type": "code",
   "execution_count": null,
   "metadata": {
    "attributes": {
     "classes": [
      "haskell:hs"
     ],
     "id": "",
     "name": "\"code\""
    }
   },
   "outputs": [],
   "source": [
    "describeList :: [a] -> String\n",
    "describeList xs = \"The list is \" ++ what xs\n",
    "    where what [] = \"empty.\"\n",
    "          what [x] = \"a singleton list.\"\n",
    "          what xs = \"a longer list.\""
   ]
  },
  {
   "cell_type": "markdown",
   "metadata": {},
   "source": [
    "### Case with Guards\n",
    "Guards can be used in function definitions, comprehentions, and case expressions."
   ]
  },
  {
   "cell_type": "code",
   "execution_count": null,
   "metadata": {},
   "outputs": [],
   "source": [
    "describeList :: (Integral a) => [a] -> String\n",
    "describeList xs = \"The list is \" ++ case xs of \n",
    "                        [] -> \"empty.\"\n",
    "                        [x] | x == 2 -> \"a singleton list, and it's '2'\"\n",
    "                            | otherwise -> \"a singleton list, and it's not '2'\"\n",
    "                        xs -> \"a longer list.\""
   ]
  },
  {
   "cell_type": "markdown",
   "metadata": {},
   "source": [
    "## Summary\n",
    "\n",
    "* Pattern matching\n",
    "    * Function name matching\n",
    "    * Tuple matching: addVectors (x1, y1)\n",
    "    * Pattern matching against lists: (x:xs)\n",
    "    * As patterns: var@(x:xs)\n",
    "* Guards\n",
    "\n",
    "    `bmiTell weight height\n",
    "    | weight / height ^ 2 <= 18.5 = \"underweight\"\n",
    "    | weight / height ^ 2 <= 25.0 = \"normal\"\n",
    "    | weight / height ^ 2 <= 30.0 = \"overweight\"\n",
    "    | otherwise                 = \"obese\"`\n",
    "    \n",
    "* Where\n",
    "\n",
    "    `calcBmis xs = [bmi w h | (w, h) <- xs]\n",
    "     where bmi weight height = weight / height ^ 2`\n",
    "     \n",
    "    * Locality of `where` \n",
    "    \n",
    "* Let (expression) could be anywhere (Haskell is friendly to experssions)\n",
    "    * Locality of `let`\n",
    "    \n",
    "* Case (expression) \n",
    "\n",
    "     `describeList xs = \"The list is \" ++ case xs of\n",
    "     [] -> \"empty.\"\n",
    "     [x] | x == 2 -> \"a singleton list, and it's '2'\"\n",
    "     xs -> \"a longer list.\"`\n",
    "                        \n",
    "    * Case expressions are most powerful so far.\n",
    "                        \n",
    "* Nested where? Nested if-then-else? Nested Guards? Nested case?"
   ]
  }
 ],
 "metadata": {
  "kernelspec": {
   "display_name": "Haskell",
   "language": "haskell",
   "name": "haskell"
  },
  "language_info": {
   "codemirror_mode": "ihaskell",
   "file_extension": ".hs",
   "name": "haskell",
   "pygments_lexer": "Haskell",
   "version": "8.6.5"
  },
  "toc": {
   "base_numbering": 1,
   "nav_menu": {},
   "number_sections": true,
   "sideBar": true,
   "skip_h1_title": true,
   "title_cell": "Table of Contents",
   "title_sidebar": "Contents",
   "toc_cell": false,
   "toc_position": {
    "height": "429.1354064941406px",
    "left": "32px",
    "top": "54px",
    "width": "387.8260803222656px"
   },
   "toc_section_display": true,
   "toc_window_display": true
  }
 },
 "nbformat": 4,
 "nbformat_minor": 4
}
