{
 "cells": [
  {
   "cell_type": "markdown",
   "metadata": {
    "toc": true
   },
   "source": [
    "<h1>Table of Contents<span class=\"tocSkip\"></span></h1>\n",
    "<div class=\"toc\"><ul class=\"toc-item\"><li><span><a href=\"#Loading-modules\" data-toc-modified-id=\"Loading-modules-1\"><span class=\"toc-item-num\">1&nbsp;&nbsp;</span>Loading modules</a></span><ul class=\"toc-item\"><li><span><a href=\"#Import-modules\" data-toc-modified-id=\"Import-modules-1.1\"><span class=\"toc-item-num\">1.1&nbsp;&nbsp;</span>Import modules</a></span></li><li><span><a href=\"#Load-some-functions-of-a-module\" data-toc-modified-id=\"Load-some-functions-of-a-module-1.2\"><span class=\"toc-item-num\">1.2&nbsp;&nbsp;</span>Load some functions of a module</a></span></li><li><span><a href=\"#Qualified-import-(full-name-reference)\" data-toc-modified-id=\"Qualified-import-(full-name-reference)-1.3\"><span class=\"toc-item-num\">1.3&nbsp;&nbsp;</span>Qualified import (full name reference)</a></span></li><li><span><a href=\"#Module-reference\" data-toc-modified-id=\"Module-reference-1.4\"><span class=\"toc-item-num\">1.4&nbsp;&nbsp;</span>Module reference</a></span></li></ul></li><li><span><a href=\"#Import-modules\" data-toc-modified-id=\"Import-modules-2\"><span class=\"toc-item-num\">2&nbsp;&nbsp;</span>Import modules</a></span></li><li><span><a href=\"#Making-our-own-modules\" data-toc-modified-id=\"Making-our-own-modules-3\"><span class=\"toc-item-num\">3&nbsp;&nbsp;</span>Making our own modules</a></span></li><li><span><a href=\"#Module-example\" data-toc-modified-id=\"Module-example-4\"><span class=\"toc-item-num\">4&nbsp;&nbsp;</span>Module example</a></span><ul class=\"toc-item\"><li><span><a href=\"#Geometry.hs\" data-toc-modified-id=\"Geometry.hs-4.1\"><span class=\"toc-item-num\">4.1&nbsp;&nbsp;</span><code>Geometry.hs</code></a></span></li><li><span><a href=\"#Sphere.hs\" data-toc-modified-id=\"Sphere.hs-4.2\"><span class=\"toc-item-num\">4.2&nbsp;&nbsp;</span><code>Sphere.hs</code></a></span></li><li><span><a href=\"#Cuboid.hs\" data-toc-modified-id=\"Cuboid.hs-4.3\"><span class=\"toc-item-num\">4.3&nbsp;&nbsp;</span><code>Cuboid.hs</code></a></span></li><li><span><a href=\"#Cube.hs\" data-toc-modified-id=\"Cube.hs-4.4\"><span class=\"toc-item-num\">4.4&nbsp;&nbsp;</span><code>Cube.hs</code></a></span></li></ul></li></ul></div>"
   ]
  },
  {
   "cell_type": "markdown",
   "metadata": {},
   "source": [
    "Modules\n",
    "=======\n",
    "\n",
    "Loading modules\n",
    "---------------\n",
    "\n",
    "<img src=\"img/modules.png\" title=\"modules\" style=\"float:right;margin-left:2em;\" />\n",
    "\n",
    "* A Haskell module is a collection of related functions, types and\n",
    "typeclasses. \n",
    "* A Haskell program is a collection of modules where the main\n",
    "module loads up the other modules and then uses the functions defined in\n",
    "them to do something. \n",
    "* Having code split up into several modules has\n",
    "quite a lot of advantages. If a module is generic enough, the functions\n",
    "it exports can be used in a multitude of different programs. \n",
    "\n",
    "* The Haskell standard library is split into modules, each of them\n",
    "contains functions and types that are somehow related and serve some\n",
    "common purpose. There's a module for manipulating lists, a module for\n",
    "concurrent programming, a module for dealing with complex numbers, etc.\n",
    "* All the functions, types and typeclasses that we've dealt with so far\n",
    "were part of the [`Prelude`](https://hackage.haskell.org/package/base/docs/Prelude.html) module, which is imported by default."
   ]
  },
  {
   "cell_type": "markdown",
   "metadata": {
    "attributes": {
     "classes": [
      "haskell:hs"
     ],
     "id": "",
     "name": "\"code\""
    }
   },
   "source": [
    "> __Jupyter Note:__ We'll turn off the [automatic linting for IHaskell](https://github.com/gibiansky/IHaskell/wiki#opt-no-lint) first."
   ]
  },
  {
   "cell_type": "code",
   "execution_count": 1,
   "metadata": {
    "attributes": {
     "classes": [
      "haskell:hs"
     ],
     "id": "",
     "name": "\"code\""
    }
   },
   "outputs": [],
   "source": [
    ":opt no-lint"
   ]
  },
  {
   "cell_type": "markdown",
   "metadata": {},
   "source": [
    "### Import modules\n",
    "\n",
    "* The syntax for importing modules in a Haskell script is\n",
    "`import <module name>`.\n",
    "* This must be done before defining any functions, so imports are\n",
    "usually done at the top of the file. \n",
    "* One script can, of course, import\n",
    "several modules. Just put each import statement into a separate line.\n"
   ]
  },
  {
   "cell_type": "code",
   "execution_count": 2,
   "metadata": {
    "attributes": {
     "classes": [
      "haskell:hs"
     ],
     "id": "",
     "name": "\"code\""
    }
   },
   "outputs": [],
   "source": [
    "import Data.List\n",
    "\n",
    "numUniques :: (Eq a) => [a] -> Int\n",
    "numUniques = length . nub"
   ]
  },
  {
   "cell_type": "markdown",
   "metadata": {},
   "source": [
    "* When you do `import Data.List`, all the functions that `Data.List` exports\n",
    "become available in the global namespace, meaning that you can call them\n",
    "from wherever in the script. \n",
    "\n",
    "* You can also put the functions of modules into the global namespace when\n",
    "using IHaskell or GHCI. If you're in IHaskell or GHCI and you want to be able to call the\n",
    "functions exported by `Data.List`, do this:"
   ]
  },
  {
   "cell_type": "code",
   "execution_count": 3,
   "metadata": {
    "attributes": {
     "classes": [
      "haskell:ghci"
     ],
     "id": "",
     "name": "\"code\""
    }
   },
   "outputs": [],
   "source": [
    ":m + Data.List"
   ]
  },
  {
   "cell_type": "markdown",
   "metadata": {},
   "source": [
    "* If we want to load up the names from several modules, we\n",
    "don't have to do `:m +` several times, we can just load up several modules\n",
    "at once."
   ]
  },
  {
   "cell_type": "raw",
   "metadata": {
    "attributes": {
     "classes": [
      "haskell:ghci"
     ],
     "id": "",
     "name": "\"code\""
    }
   },
   "source": [
    ":m + Data.List Data.Map Data.Set"
   ]
  },
  {
   "cell_type": "markdown",
   "metadata": {},
   "source": [
    "### Load some functions of a module\n",
    "\n",
    "If we wanted to import only the\n",
    "[`nub`](https://hackage.haskell.org/package/base/docs/Data-List.html#v:nub) and [`sort`](https://hackage.haskell.org/package/base/docs/Data-List.html#v:sort) functions from `Data.List`, we'd do this:"
   ]
  },
  {
   "cell_type": "code",
   "execution_count": 4,
   "metadata": {
    "attributes": {
     "classes": [
      "haskell:hs"
     ],
     "id": "",
     "name": "\"code\""
    }
   },
   "outputs": [],
   "source": [
    "import Data.List (nub, sort)"
   ]
  },
  {
   "cell_type": "markdown",
   "metadata": {},
   "source": [
    "### Load a module except some functions\n",
    "\n",
    "* You can also choose to import all of the functions of a module except a\n",
    "few select ones. \n",
    "* That's often useful when several modules export\n",
    "functions with the same name and you want to get rid of the offending\n",
    "ones. "
   ]
  },
  {
   "cell_type": "code",
   "execution_count": null,
   "metadata": {
    "attributes": {
     "classes": [
      "haskell:hs"
     ],
     "id": "",
     "name": "\"code\""
    }
   },
   "outputs": [],
   "source": [
    "import Data.List hiding (nub)"
   ]
  },
  {
   "cell_type": "markdown",
   "metadata": {},
   "source": [
    "### Qualified import (full name reference)\n",
    "\n",
    "* The\n",
    "`Data.Map` module, which offers a data structure for looking up values by\n",
    "key, exports a bunch of functions with the same name as [`Prelude`](https://hackage.haskell.org/package/base/docs/Prelude.html)\n",
    "functions, like [`filter`](https://hackage.haskell.org/package/base/docs/Prelude.html#v:filter) or [`null`](https://hackage.haskell.org/package/base/docs/Prelude.html#v:null). \n",
    "* So when we import `Data.Map` and then call\n",
    "[`filter`](https://hackage.haskell.org/package/base/docs/Prelude.html#v:filter), Haskell won't know which function to use. Here's how we solve\n",
    "this:"
   ]
  },
  {
   "cell_type": "code",
   "execution_count": 5,
   "metadata": {
    "attributes": {
     "classes": [
      "haskell:hs"
     ],
     "id": "",
     "name": "\"code\""
    }
   },
   "outputs": [],
   "source": [
    "import qualified Data.Map"
   ]
  },
  {
   "cell_type": "markdown",
   "metadata": {},
   "source": [
    "* If we want to reference `Data.Map`'s [`filter`](https://hackage.haskell.org/package/base/docs/Prelude.html#v:filter)\n",
    "function, we have to do `Data.Map.filter`, whereas just [`filter`](https://hackage.haskell.org/package/base/docs/Prelude.html#v:filter) still\n",
    "refers to the normal [`filter`](https://hackage.haskell.org/package/base/docs/Prelude.html#v:filter) we all know and love. \n",
    "\n",
    "### Import and rename as a alias\n"
   ]
  },
  {
   "cell_type": "code",
   "execution_count": 6,
   "metadata": {
    "attributes": {
     "classes": [
      "haskell:hs"
     ],
     "id": "",
     "name": "\"code\""
    }
   },
   "outputs": [],
   "source": [
    "import qualified Data.Map as M"
   ]
  },
  {
   "cell_type": "markdown",
   "metadata": {},
   "source": [
    "### Module reference\n",
    "\n",
    "* Use [this handy\n",
    "reference](http://www.haskell.org/ghc/docs/latest/html/libraries/) to\n",
    "see which modules are in the standard library. \n",
    "* A great way to pick up\n",
    "new Haskell knowledge is to just click through the standard library\n",
    "reference and explore the modules and their functions. \n",
    "* You can also view\n",
    "the Haskell source code for each module. \n",
    "* Reading the source code of some\n",
    "modules is a really good way to learn Haskell and get a solid feel for\n",
    "it.\n",
    "* To search for functions or to find out where they're located, use\n",
    "[Hoogle](http://haskell.org/hoogle). It's a really awesome Haskell\n",
    "search engine, you can search by name, module name or even type\n",
    "signature."
   ]
  },
  {
   "cell_type": "markdown",
   "metadata": {},
   "source": [
    "## Import modules\n",
    "\n",
    "* Data.List\n",
    "* Data.Char\n",
    "* Data.Map\n",
    "* Data.Set"
   ]
  },
  {
   "cell_type": "markdown",
   "metadata": {},
   "source": [
    "Making our own modules\n",
    "----------------------\n",
    "\n",
    "<img src=\"img/making_modules.png\" title=\"making modules\" style=\"float:right;margin-left:2em;\" />\n",
    "\n",
    "* Almost every programming language enables you to split your code\n",
    "up into several files and Haskell is no different. \n",
    "* When making programs,\n",
    "it's good practice to take functions and types that work towards a\n",
    "similar purpose and put them in a module. That way, you can easily reuse\n",
    "those functions in other programs by just importing your module.\n",
    "\n",
    "## Module example\n",
    "\n",
    "Let's see how we can make our own modules by making a little module that\n",
    "provides some functions for calculating the volume and area of a few\n",
    "geometrical objects. \n",
    "\n",
    "We'll start by creating a file called `Geometry.hs`.\n",
    "\n",
    "We say that a module *exports* functions. What that means is that when I\n",
    "import a module, I can use the functions that it exports. It can define\n",
    "functions that its functions call internally, but we can only see and\n",
    "use the ones that it exports.\n",
    "\n",
    "At the beginning of a module, we specify the module name. If we have a\n",
    "file called `Geometry.hs`, then we should name our module `Geometry`. Then,\n",
    "we specify the functions that it exports and after that, we can start\n",
    "writing the functions. So we'll start with this."
   ]
  },
  {
   "cell_type": "raw",
   "metadata": {},
   "source": [
    "module Geometry\n",
    "( sphereVolume\n",
    ", sphereArea\n",
    ", cubeVolume\n",
    ", cubeArea\n",
    ", cuboidArea\n",
    ", cuboidVolume\n",
    ") where"
   ]
  },
  {
   "cell_type": "markdown",
   "metadata": {},
   "source": [
    "As you can see, we'll be doing areas and volumes for spheres, cubes and\n",
    "cuboids. Let's go ahead and define our functions then:\n",
    "\n",
    "### `Geometry.hs`"
   ]
  },
  {
   "cell_type": "code",
   "execution_count": 2,
   "metadata": {
    "attributes": {
     "classes": [
      "haskell:ghci"
     ],
     "id": "",
     "name": "\"code\""
    }
   },
   "outputs": [],
   "source": [
    "module Geometry\n",
    "( sphereVolume\n",
    ", sphereArea\n",
    ", cubeVolume\n",
    ", cubeArea\n",
    ", cuboidArea\n",
    ", cuboidVolume\n",
    ") where\n",
    "\n",
    "sphereVolume :: Float -> Float\n",
    "sphereVolume radius = (4.0 / 3.0) * pi * (radius ^ 3)\n",
    "\n",
    "sphereArea :: Float -> Float\n",
    "sphereArea radius = 4 * pi * (radius ^ 2)\n",
    "\n",
    "cubeVolume :: Float -> Float\n",
    "cubeVolume side = cuboidVolume side side side\n",
    "\n",
    "cubeArea :: Float -> Float\n",
    "cubeArea side = cuboidArea side side side\n",
    "\n",
    "cuboidVolume :: Float -> Float -> Float -> Float\n",
    "cuboidVolume a b c = rectangleArea a b * c\n",
    "\n",
    "cuboidArea :: Float -> Float -> Float -> Float\n",
    "cuboidArea a b c = rectangleArea a b * 2 + rectangleArea a c * 2 + rectangleArea c b * 2\n",
    "\n",
    "rectangleArea :: Float -> Float -> Float\n",
    "rectangleArea a b = a * b"
   ]
  },
  {
   "cell_type": "markdown",
   "metadata": {},
   "source": [
    "When making a module, we usually export only those functions that act as\n",
    "a sort of interface to our module so that the implementation is hidden.\n",
    "If someone is using our `Geometry` module, they don't have to concern\n",
    "themselves with functions that we don't export. \n",
    "\n"
   ]
  },
  {
   "cell_type": "code",
   "execution_count": 3,
   "metadata": {
    "attributes": {
     "classes": [
      "haskell:ghci"
     ],
     "id": "",
     "name": "\"code\""
    }
   },
   "outputs": [],
   "source": [
    "import Geometry -- To use our module, we just do:"
   ]
  },
  {
   "cell_type": "markdown",
   "metadata": {},
   "source": [
    "* `Geometry.hs` has to be in the same folder that the program that's\n",
    "importing it is in, though.\n",
    "\n",
    "* Modules can also be given a hierarchical structures. Each module can\n",
    "have a number of sub-modules and they can have sub-modules of their own.\n",
    "\n",
    "\n",
    "Let's section these functions off so that `Geometry` is a module that has\n",
    "three sub-modules, one for each type of object.\n",
    "\n",
    "First, we'll make a folder called `Geometry`. Mind the capital G. In it,\n",
    "we'll place three files: `Sphere.hs`, `Cuboid.hs`, and `Cube.hs`. Here's what\n",
    "the files will contain:\n",
    "\n",
    "### `Sphere.hs`"
   ]
  },
  {
   "cell_type": "code",
   "execution_count": 186,
   "metadata": {
    "attributes": {
     "classes": [
      "haskell:ghci"
     ],
     "id": "",
     "name": "\"code\""
    }
   },
   "outputs": [],
   "source": [
    "module Geometry.Sphere\n",
    "( volume\n",
    ", area\n",
    ") where\n",
    "\n",
    "volume :: Float -> Float\n",
    "volume radius = (4.0 / 3.0) * pi * (radius ^ 3)\n",
    "\n",
    "area :: Float -> Float\n",
    "area radius = 4 * pi * (radius ^ 2)"
   ]
  },
  {
   "cell_type": "markdown",
   "metadata": {},
   "source": [
    "### `Cuboid.hs`"
   ]
  },
  {
   "cell_type": "code",
   "execution_count": 187,
   "metadata": {
    "attributes": {
     "classes": [
      "haskell:ghci"
     ],
     "id": "",
     "name": "\"code\""
    }
   },
   "outputs": [],
   "source": [
    "module Geometry.Cuboid\n",
    "( volume\n",
    ", area\n",
    ") where\n",
    "\n",
    "volume :: Float -> Float -> Float -> Float\n",
    "volume a b c = rectangleArea a b * c\n",
    "\n",
    "area :: Float -> Float -> Float -> Float\n",
    "area a b c = rectangleArea a b * 2 + rectangleArea a c * 2 + rectangleArea c b * 2\n",
    "\n",
    "rectangleArea :: Float -> Float -> Float\n",
    "rectangleArea a b = a * b"
   ]
  },
  {
   "cell_type": "markdown",
   "metadata": {},
   "source": [
    "### `Cube.hs`"
   ]
  },
  {
   "cell_type": "code",
   "execution_count": 188,
   "metadata": {
    "attributes": {
     "classes": [
      "haskell:ghci"
     ],
     "id": "",
     "name": "\"code\""
    }
   },
   "outputs": [],
   "source": [
    "module Geometry.Cube\n",
    "( volume\n",
    ", area\n",
    ") where\n",
    "\n",
    "import qualified Geometry.Cuboid as Cuboid\n",
    "\n",
    "volume :: Float -> Float\n",
    "volume side = Cuboid.volume side side side\n",
    "\n",
    "area :: Float -> Float\n",
    "area side = Cuboid.area side side side"
   ]
  },
  {
   "cell_type": "markdown",
   "metadata": {},
   "source": [
    "* So first is `Geometry.Sphere`. Notice how we placed it in a\n",
    "folder called `Geometry` and then defined the module name as\n",
    "`Geometry.Sphere`. We did the same for the cuboid. \n",
    "* Also notice how in all\n",
    "three sub-modules, we defined functions with the same names. We can do\n",
    "this because they're separate modules. We want to use functions from\n",
    "`Geometry.Cuboid` in `Geometry.Cube` but we can't just straight up do\n",
    "`import Geometry.Cuboid` because it exports functions with the same names as\n",
    "`Geometry.Cube`. That's why we do a qualified import and all is well.\n",
    "\n",
    "If we're in a file that's on the same level as the `Geometry`\n",
    "folder, we can do, say:"
   ]
  },
  {
   "cell_type": "code",
   "execution_count": 189,
   "metadata": {
    "attributes": {
     "classes": [
      "haskell:ghci"
     ],
     "id": "",
     "name": "\"code\""
    }
   },
   "outputs": [],
   "source": [
    "import Geometry.Sphere"
   ]
  },
  {
   "cell_type": "markdown",
   "metadata": {},
   "source": [
    "And then we can call `area` and `volume` and they'll give us the area and\n",
    "volume for a sphere. And if we want to juggle two or more of these\n",
    "modules, we have to do qualified imports because they export functions\n",
    "with the same names. So we just do something like:"
   ]
  },
  {
   "cell_type": "code",
   "execution_count": 190,
   "metadata": {
    "attributes": {
     "classes": [
      "haskell:ghci"
     ],
     "id": "",
     "name": "\"code\""
    }
   },
   "outputs": [],
   "source": [
    "import qualified Geometry.Sphere as Sphere\n",
    "import qualified Geometry.Cuboid as Cuboid\n",
    "import qualified Geometry.Cube as Cube"
   ]
  },
  {
   "cell_type": "markdown",
   "metadata": {},
   "source": [
    "And then we can call `Sphere.area`, `Sphere.volume`, `Cuboid.area`, etc. and\n",
    "each will calculate the area or volume for their corresponding object.\n",
    "\n",
    "* The next time you find yourself writing a file that's really big and has\n",
    "a lot of functions, try to see which functions serve some common purpose\n",
    "and then see if you can put them in their own module. \n",
    "* You'll be able to\n",
    "just import your module the next time you're writing a program that\n",
    "requires some of the same functionality."
   ]
  }
 ],
 "metadata": {
  "kernelspec": {
   "display_name": "Haskell",
   "language": "haskell",
   "name": "haskell"
  },
  "language_info": {
   "codemirror_mode": "ihaskell",
   "file_extension": ".hs",
   "name": "haskell",
   "pygments_lexer": "Haskell",
   "version": "8.6.5"
  },
  "toc": {
   "base_numbering": 1,
   "nav_menu": {},
   "number_sections": true,
   "sideBar": true,
   "skip_h1_title": true,
   "title_cell": "Table of Contents",
   "title_sidebar": "Topics",
   "toc_cell": true,
   "toc_position": {},
   "toc_section_display": true,
   "toc_window_display": true
  }
 },
 "nbformat": 4,
 "nbformat_minor": 4
}
