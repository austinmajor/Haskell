{
 "cells": [
  {
   "cell_type": "markdown",
   "metadata": {
    "toc": true
   },
   "source": [
    "<h1>Table of Contents<span class=\"tocSkip\"></span></h1>\n",
    "<div class=\"toc\"><ul class=\"toc-item\"><li><span><a href=\"#Introduction\" data-toc-modified-id=\"Introduction-1\"><span class=\"toc-item-num\">1&nbsp;&nbsp;</span>Introduction</a></span><ul class=\"toc-item\"><li><span><a href=\"#What's-Haskell?\" data-toc-modified-id=\"What's-Haskell?-1.1\"><span class=\"toc-item-num\">1.1&nbsp;&nbsp;</span>What's Haskell?</a></span></li><li><span><a href=\"#Programing-in-functional-lanuages\" data-toc-modified-id=\"Programing-in-functional-lanuages-1.2\"><span class=\"toc-item-num\">1.2&nbsp;&nbsp;</span>Programing in <strong>functional lanuages</strong></a></span></li><li><span><a href=\"#Programming-languages\" data-toc-modified-id=\"Programming-languages-1.3\"><span class=\"toc-item-num\">1.3&nbsp;&nbsp;</span>Programming languages</a></span></li><li><span><a href=\"#Haskell-is-lazy.\" data-toc-modified-id=\"Haskell-is-lazy.-1.4\"><span class=\"toc-item-num\">1.4&nbsp;&nbsp;</span>Haskell is <strong>lazy</strong>.</a></span><ul class=\"toc-item\"><li><span><a href=\"#Lazyness\" data-toc-modified-id=\"Lazyness-1.4.1\"><span class=\"toc-item-num\">1.4.1&nbsp;&nbsp;</span>Lazyness</a></span></li></ul></li><li><span><a href=\"#Haskell-is-statically-typed.\" data-toc-modified-id=\"Haskell-is-statically-typed.-1.5\"><span class=\"toc-item-num\">1.5&nbsp;&nbsp;</span>Haskell is <strong>statically typed</strong>.</a></span></li><li><span><a href=\"#Haskell-is-elegant-and--concise.\" data-toc-modified-id=\"Haskell-is-elegant-and--concise.-1.6\"><span class=\"toc-item-num\">1.6&nbsp;&nbsp;</span>Haskell is <strong>elegant and  concise</strong>.</a></span></li><li><span><a href=\"#Haskell-in-industry.\" data-toc-modified-id=\"Haskell-in-industry.-1.7\"><span class=\"toc-item-num\">1.7&nbsp;&nbsp;</span>Haskell in industry.</a></span></li></ul></li></ul></div>"
   ]
  },
  {
   "cell_type": "markdown",
   "metadata": {},
   "source": [
    "Introduction\n",
    "============\n",
    "\n",
    "What's Haskell?\n",
    "------------------\n",
    "<img src=\"img/fx.png\" title=\"fx\" style=\"float:right;margin-left:2em;\" /> \n",
    "* Haskell is a __purely\n",
    "functional programming language__. \n",
    "\n",
    "* In __imperative languages__ you give the computer a sequence of tasks and then it executes them.   \n",
    "    * it can change state: `a=5`\n",
    "    * it has control flow structures\n",
    "\n",
    "* In purely __functional programming__ not what to do but rather what stuff *is*. \n",
    "    * The factorial of a number is the product of all the numbers from 1 to that number, \n",
    "    * the sum of a list of numbers is the first number plus the sum of all the othernumbers, and so on. "
   ]
  },
  {
   "cell_type": "markdown",
   "metadata": {},
   "source": [
    "## Programing in __functional lanuages__\n",
    "* You express that in the form of functions. \n",
    "* You also  can't set a variable to something and then set it to something else later. \n",
    "    * If you say that a is 5, you can't say it's something else later because you just said it was 5. \n",
    "* In purely functional languages, a function has no side-effects.\n",
    "* The only thing a function can do is calculate something and return it as a result. \n",
    "    * Referential transparency: if a function is called twice with the same parameters, it's guaranteed to return the same result. \n",
    "    * Easily deduce (and even prove) that a function is correct and then build more complex functions by gluing simple functions together.\n",
    "\n",
    "## Programming languages\n",
    "* Imperative programming languages: \n",
    "    * C, C++, Java, Python …\n",
    "    \n",
    "* functional languages: \n",
    "    * Haskell, ML, OCaml … \n",
    "\n",
    "<img src=\"img/lazy.png\" title=\"lazy\" style=\"float:right;margin-left:2em;\" /> \n",
    "\n",
    "## Haskell is __lazy__. \n",
    "\n",
    "* Haskell won't execute\n",
    "functions and calculate things until it's really forced. \n",
    "\n",
    "* Referential transparency allows you\n",
    "to think of programs as a series of __transformations on data__. \n",
    "\n",
    "* It allows infinite data structures. \n",
    "\n",
    "### Lazyness\n",
    "Say you have an immutable list of numbers `xs = [1,2,3,4,5,6,7,8]` and a function `doubleMe`\n",
    "which multiplies every element by 2 and then returns a new list. "
   ]
  },
  {
   "cell_type": "code",
   "execution_count": 1,
   "metadata": {},
   "outputs": [
    {
     "data": {
      "text/plain": [
       "[2,4,6,8,10,12,14,16]"
      ]
     },
     "metadata": {},
     "output_type": "display_data"
    }
   ],
   "source": [
    "xs = [1,2,3,4,5,6,7,8]\n",
    "doubleMe xs = [x*2|x<-xs]\n",
    "doubleMe xs"
   ]
  },
  {
   "cell_type": "code",
   "execution_count": null,
   "metadata": {},
   "outputs": [],
   "source": [
    "doubleMe(doubleMe(doubleMe(xs)))"
   ]
  },
  {
   "cell_type": "markdown",
   "metadata": {},
   "source": [
    "* If we wanted to multiply our list by 8 in an imperative language and did\n",
    "`doubleMe(doubleMe(doubleMe(xs)))`, what happens? \n",
    "\n",
    "* In a lazy language,\n",
    "calling `doubleMe` on a list without forcing it just defines it. When you want the result of `doubleMe(doubleMe(doubleMe(xs)))`, what happens?\n",
    "\n",
    "<img src=\"img/boat.png\" title=\"boat\" style=\"float:right;margin-left:2em;\" /> \n",
    "\n",
    "## Haskell is __statically typed__. \n",
    "\n",
    "* The compiler knows which piece of\n",
    "code is a number, which is a string and so on. \n",
    "    * You cannot add together a\n",
    "number and a string. \n",
    "\n",
    "* Haskell has __type inference__. So you don't\n",
    "have to explicitly label every piece of code with a type!\n",
    "* Type inference also allows codes to be more general: num operations, string operations, etc"
   ]
  },
  {
   "cell_type": "code",
   "execution_count": 2,
   "metadata": {},
   "outputs": [
    {
     "data": {
      "text/html": [
       "<style>/* Styles used for the Hoogle display in the pager */\n",
       ".hoogle-doc {\n",
       "display: block;\n",
       "padding-bottom: 1.3em;\n",
       "padding-left: 0.4em;\n",
       "}\n",
       ".hoogle-code {\n",
       "display: block;\n",
       "font-family: monospace;\n",
       "white-space: pre;\n",
       "}\n",
       ".hoogle-text {\n",
       "display: block;\n",
       "}\n",
       ".hoogle-name {\n",
       "color: green;\n",
       "font-weight: bold;\n",
       "}\n",
       ".hoogle-head {\n",
       "font-weight: bold;\n",
       "}\n",
       ".hoogle-sub {\n",
       "display: block;\n",
       "margin-left: 0.4em;\n",
       "}\n",
       ".hoogle-package {\n",
       "font-weight: bold;\n",
       "font-style: italic;\n",
       "}\n",
       ".hoogle-module {\n",
       "font-weight: bold;\n",
       "}\n",
       ".hoogle-class {\n",
       "font-weight: bold;\n",
       "}\n",
       ".get-type {\n",
       "color: green;\n",
       "font-weight: bold;\n",
       "font-family: monospace;\n",
       "display: block;\n",
       "white-space: pre-wrap;\n",
       "}\n",
       ".show-type {\n",
       "color: green;\n",
       "font-weight: bold;\n",
       "font-family: monospace;\n",
       "margin-left: 1em;\n",
       "}\n",
       ".mono {\n",
       "font-family: monospace;\n",
       "display: block;\n",
       "}\n",
       ".err-msg {\n",
       "color: red;\n",
       "font-style: italic;\n",
       "font-family: monospace;\n",
       "white-space: pre;\n",
       "display: block;\n",
       "}\n",
       "#unshowable {\n",
       "color: red;\n",
       "font-weight: bold;\n",
       "}\n",
       ".err-msg.in.collapse {\n",
       "padding-top: 0.7em;\n",
       "}\n",
       ".highlight-code {\n",
       "white-space: pre;\n",
       "font-family: monospace;\n",
       "}\n",
       ".suggestion-warning { \n",
       "font-weight: bold;\n",
       "color: rgb(200, 130, 0);\n",
       "}\n",
       ".suggestion-error { \n",
       "font-weight: bold;\n",
       "color: red;\n",
       "}\n",
       ".suggestion-name {\n",
       "font-weight: bold;\n",
       "}\n",
       "</style><span class='get-type'>a :: forall a. Num a => a</span>"
      ],
      "text/plain": [
       "a :: forall a. Num a => a"
      ]
     },
     "metadata": {},
     "output_type": "display_data"
    }
   ],
   "source": [
    "a=5+4\n",
    ":t a"
   ]
  },
  {
   "cell_type": "markdown",
   "metadata": {},
   "source": [
    "## Haskell is __elegant and  concise__. \n",
    "\n",
    "* Because high level\n",
    "concepts, Haskell programs are usually shorter than their imperative\n",
    "equivalents. \n",
    "\n",
    "* Work on\n",
    "Haskell began in 1987 when a committee of researchers got together to\n",
    "design a kick-ass language. \n",
    "\n",
    "* In 2003 the Haskell Report was published,\n",
    "which defines a stable version of the language."
   ]
  },
  {
   "cell_type": "markdown",
   "metadata": {},
   "source": [
    "## Haskell in industry. \n",
    "* AT&T: Network security\n",
    "* Bank of America: Merril Lynch\n",
    "* Barclays Capital: Quantitative Analytics Group\n",
    "* Facebook: __Internally for tools__\n",
    "* Google: __Internal projects__\n",
    "* Intel: Multicore parallelism at scale\n",
    "* Microsoft: Production serialization system -- Bond\n",
    "* The New York Times: Image proceesing\n",
    "* NVIDIA: __Inhouse tools__\n",
    "* Qualcomm, Inc: BREW platform\n",
    "* Siemens: Convergence Creators GmbH Austria\n",
    "* Aetion Technologies LLC, Columbus, Ohio: AI\n",
    "* Allston Trading: Finance\n",
    "* Bdellium: Finance\n",
    "* Capital IQ: Finance\n",
    "* Detexify: Handwriting recognition\n",
    "\n",
    "\n",
    "\n"
   ]
  }
 ],
 "metadata": {
  "kernelspec": {
   "display_name": "Haskell",
   "language": "haskell",
   "name": "haskell"
  },
  "language_info": {
   "codemirror_mode": "ihaskell",
   "file_extension": ".hs",
   "name": "haskell",
   "pygments_lexer": "Haskell",
   "version": "8.6.5"
  },
  "toc": {
   "base_numbering": 1,
   "nav_menu": {},
   "number_sections": true,
   "sideBar": true,
   "skip_h1_title": false,
   "title_cell": "Table of Contents",
   "title_sidebar": "Contents",
   "toc_cell": true,
   "toc_position": {
    "height": "calc(100% - 180px)",
    "left": "10px",
    "top": "150px",
    "width": "248.3125px"
   },
   "toc_section_display": true,
   "toc_window_display": true
  }
 },
 "nbformat": 4,
 "nbformat_minor": 2
}
