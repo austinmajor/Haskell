{
 "cells": [
  {
   "cell_type": "markdown",
   "metadata": {
    "toc": true
   },
   "source": [
    "<h1>Table of Contents<span class=\"tocSkip\"></span></h1>\n",
    "<div class=\"toc\"><ul class=\"toc-item\"><li><span><a href=\"#Naming\" data-toc-modified-id=\"Naming-1\"><span class=\"toc-item-num\">1&nbsp;&nbsp;</span>Naming</a></span></li><li><span><a href=\"#If-then-else\" data-toc-modified-id=\"If-then-else-2\"><span class=\"toc-item-num\">2&nbsp;&nbsp;</span>If-then-else</a></span></li><li><span><a href=\"#List\" data-toc-modified-id=\"List-3\"><span class=\"toc-item-num\">3&nbsp;&nbsp;</span>List</a></span></li><li><span><a href=\"#Range\" data-toc-modified-id=\"Range-4\"><span class=\"toc-item-num\">4&nbsp;&nbsp;</span>Range</a></span></li><li><span><a href=\"#List-comprehension\" data-toc-modified-id=\"List-comprehension-5\"><span class=\"toc-item-num\">5&nbsp;&nbsp;</span>List comprehension</a></span></li><li><span><a href=\"#Tuples\" data-toc-modified-id=\"Tuples-6\"><span class=\"toc-item-num\">6&nbsp;&nbsp;</span>Tuples</a></span></li><li><span><a href=\"#Type-and-typeclass\" data-toc-modified-id=\"Type-and-typeclass-7\"><span class=\"toc-item-num\">7&nbsp;&nbsp;</span>Type and typeclass</a></span></li><li><span><a href=\"#Pattern-matching\" data-toc-modified-id=\"Pattern-matching-8\"><span class=\"toc-item-num\">8&nbsp;&nbsp;</span>Pattern matching</a></span></li><li><span><a href=\"#Guards\" data-toc-modified-id=\"Guards-9\"><span class=\"toc-item-num\">9&nbsp;&nbsp;</span>Guards</a></span></li><li><span><a href=\"#Where\" data-toc-modified-id=\"Where-10\"><span class=\"toc-item-num\">10&nbsp;&nbsp;</span>Where</a></span></li><li><span><a href=\"#Let\" data-toc-modified-id=\"Let-11\"><span class=\"toc-item-num\">11&nbsp;&nbsp;</span>Let</a></span></li></ul></div>"
   ]
  },
  {
   "cell_type": "markdown",
   "metadata": {},
   "source": [
    "## Naming\n",
    "\n",
    "* Variable identifiers start with a lowercase letter\n",
    "* constructor identifiers with an uppercase letter\n",
    "* Variable identifiers and constructor identifiers can contain underscores, single quotes, letters and digits. They can only start with letters or underscores.\n",
    "* Operators are formed from one or more of '!#$%&*+./<=>?@\\^|-~'"
   ]
  },
  {
   "cell_type": "markdown",
   "metadata": {},
   "source": [
    "## If-then-else\n",
    "\n",
    "* if statement in Haskell is an *expression*. \n",
    "* The else part is mandatory in Haskell. \n",
    "* Precedence and ssociativity"
   ]
  },
  {
   "cell_type": "code",
   "execution_count": 1,
   "metadata": {},
   "outputs": [
    {
     "data": {
      "text/plain": [
       "200"
      ]
     },
     "metadata": {},
     "output_type": "display_data"
    }
   ],
   "source": [
    "doubleSmallNumber' x = if x > 100 then x else x*2 + 1\n",
    "doubleSmallNumber' 200"
   ]
  },
  {
   "cell_type": "markdown",
   "metadata": {},
   "source": [
    "## List\n",
    "\n",
    "* lists are a homogenous data structure.\n",
    "* strings are just lists of characters. \"hello\" is just syntactic sugar for ['h','e','l','l','o']\n",
    "* list operations"
   ]
  },
  {
   "cell_type": "code",
   "execution_count": 2,
   "metadata": {},
   "outputs": [
    {
     "data": {
      "text/plain": [
       "\"abcde\""
      ]
     },
     "metadata": {},
     "output_type": "display_data"
    },
    {
     "data": {
      "text/plain": [
       "\"abcde\""
      ]
     },
     "metadata": {},
     "output_type": "display_data"
    }
   ],
   "source": [
    "'a':\"bcde\" \n",
    "\"a\"++\"bcde\""
   ]
  },
  {
   "cell_type": "code",
   "execution_count": 3,
   "metadata": {},
   "outputs": [],
   "source": [
    "['1','2','3','4','5'] = \"12345\""
   ]
  },
  {
   "cell_type": "markdown",
   "metadata": {},
   "source": [
    "## Range\n",
    "\n",
    "* Ranges are a way of making lists that are arithmetic sequences of elements that can be enumerated.\n",
    "* Easier way to generate a list.\n",
    "* Numbers and characters can be enumerated."
   ]
  },
  {
   "cell_type": "code",
   "execution_count": 4,
   "metadata": {},
   "outputs": [
    {
     "data": {
      "text/plain": [
       "[1,2,3,4,5,6,7,8,9,10,11,12,13,14,15,16,17,18,19,20]"
      ]
     },
     "metadata": {},
     "output_type": "display_data"
    },
    {
     "data": {
      "text/plain": [
       "[]"
      ]
     },
     "metadata": {},
     "output_type": "display_data"
    },
    {
     "data": {
      "text/plain": [
       "[20,19,18,17,16,15,14,13,12,11,10,9,8,7,6,5,4,3,2,1]"
      ]
     },
     "metadata": {},
     "output_type": "display_data"
    }
   ],
   "source": [
    "[1..20]\n",
    "[20..1]  -- ?\n",
    "[20,19..1]"
   ]
  },
  {
   "cell_type": "markdown",
   "metadata": {},
   "source": [
    "## List comprehension\n",
    "\n",
    "* They're normally used for building more specific sets out of general\n",
    "sets. \n"
   ]
  },
  {
   "cell_type": "code",
   "execution_count": 5,
   "metadata": {},
   "outputs": [
    {
     "data": {
      "text/plain": [
       "[\"<10\",\"<10\",\"<10\",\"<10\",\"<10\",\">=10\",\">=10\",\">=10\",\">=10\",\">=10\"]"
      ]
     },
     "metadata": {},
     "output_type": "display_data"
    }
   ],
   "source": [
    "boomBangs xs = [ if x < 10 then \"<10\" else \">=10\" | x <- xs, odd x]\n",
    "boomBangs [1..20]"
   ]
  },
  {
   "cell_type": "code",
   "execution_count": 6,
   "metadata": {},
   "outputs": [
    {
     "data": {
      "text/plain": [
       "[55,80,100,110]"
      ]
     },
     "metadata": {},
     "output_type": "display_data"
    }
   ],
   "source": [
    "[x * y | x <- [2,5,10],  y<- [8,10,11], x*y>50]"
   ]
  },
  {
   "cell_type": "code",
   "execution_count": 7,
   "metadata": {},
   "outputs": [
    {
     "data": {
      "text/plain": [
       "[[2,2,4],[2,4],[2,4,2,2,6]]"
      ]
     },
     "metadata": {},
     "output_type": "display_data"
    }
   ],
   "source": [
    "let xxs = [[1,3,5,2,3,1,2,4,5],[1,2,3,4],[1,2,4,2,1,3,2,3,6]]\n",
    "[ [ x | x <- xs, even x ] | xs <- xxs]"
   ]
  },
  {
   "cell_type": "markdown",
   "metadata": {},
   "source": [
    "## Tuples\n",
    "* Tuples are used when you know exactly how many\n",
    "values you want to combine and its type depends on how many components\n",
    "* Tuples are denoted with\n",
    "_parentheses_ and their components are separated by commas.\n",
    "* Another key difference is that tuples don't have to be homogenous. Unlike\n",
    "a list, a tuple can contain a combination of several types.\n",
    "* Zip takes two lists\n",
    "and then zips them together into one list by joining the matching\n",
    "elements into pairs. "
   ]
  },
  {
   "cell_type": "code",
   "execution_count": 8,
   "metadata": {},
   "outputs": [
    {
     "data": {
      "text/plain": [
       "(1,2,3,'a',\"a\",True)"
      ]
     },
     "metadata": {},
     "output_type": "display_data"
    }
   ],
   "source": [
    "(1,2,3,'a',\"a\",True)"
   ]
  },
  {
   "cell_type": "code",
   "execution_count": 9,
   "metadata": {},
   "outputs": [
    {
     "data": {
      "text/plain": [
       "[(5,\"im\"),(3,\"a\"),(2,\"turtle\")]"
      ]
     },
     "metadata": {},
     "output_type": "display_data"
    }
   ],
   "source": [
    "zip [5,3,2,6,2,7,2,5,4,6,6] [\"im\",\"a\",\"turtle\"]"
   ]
  },
  {
   "cell_type": "markdown",
   "metadata": {},
   "source": [
    "## Type and typeclass\n",
    "\n",
    "* __Types__: Int/Integer, Float, Double, Bool, Char, Tuple\n",
    "* __Typeclasses__: Eq, Ord, Show, Read, Enum, Bounded, Num, Integral, Floating\n",
    "* __Type conversion__: fromIntegral, fromRational/toRational, truncate/round/ceiling/floor\n",
    "* __Function declaration__"
   ]
  },
  {
   "cell_type": "code",
   "execution_count": 10,
   "metadata": {},
   "outputs": [
    {
     "ename": "",
     "evalue": "",
     "output_type": "error",
     "traceback": [
      "<interactive>:3:1: error:\n    Duplicate type signatures for ‘foo’\n    at <interactive>:1:1-3\n       <interactive>:2:1-3\n       <interactive>:3:1-3\n<interactive>:3:1: error: The type signature for ‘foo’ lacks an accompanying binding\n<interactive>:2:1: error: The type signature for ‘foo’ lacks an accompanying binding\n<interactive>:1:1: error: The type signature for ‘foo’ lacks an accompanying binding"
     ]
    }
   ],
   "source": [
    "foo:: a -> a\n",
    "foo:: Int -> Float\n",
    "foo:: (Integral a) => a -> Int -> a"
   ]
  },
  {
   "cell_type": "code",
   "execution_count": 11,
   "metadata": {},
   "outputs": [
    {
     "ename": "",
     "evalue": "",
     "output_type": "error",
     "traceback": [
      "<interactive>:1:1: error: Data constructor not in scope: Foo :: a1 -> b1"
     ]
    }
   ],
   "source": [
    "Foo:: a -> b --?"
   ]
  },
  {
   "cell_type": "markdown",
   "metadata": {},
   "source": [
    "## Pattern matching\n",
    "\n",
    "* Function pattern matching\n",
    "* As patterns = a reference @ a pattern\n",
    "* Tuple pattern matching\n",
    "* List pattern matching"
   ]
  },
  {
   "cell_type": "code",
   "execution_count": 1,
   "metadata": {},
   "outputs": [
    {
     "data": {
      "text/plain": [
       "\"Not between 1 and 5\""
      ]
     },
     "metadata": {},
     "output_type": "display_data"
    }
   ],
   "source": [
    "sayMe :: (Integral a) => a -> String\n",
    "sayMe 1 = \"One!\"\n",
    "sayMe 2 = \"Two!\"\n",
    "sayMe 3 = \"Three!\"\n",
    "sayMe 4 = \"Four!\"\n",
    "sayMe 5 = \"Five!\"\n",
    "sayMe x = \"Not between 1 and 5\"\n",
    "\n",
    "sayMe 6"
   ]
  },
  {
   "cell_type": "code",
   "execution_count": 13,
   "metadata": {},
   "outputs": [],
   "source": [
    "capital :: String -> String\n",
    "capital \"\" = \"Empty string, whoops!\"\n",
    "-- capital all = \"value\"\n",
    "-- capital (x:xs) = \"pattern\"\n",
    "capital all@(x:xs) = all ++ \": \" ++ [x]"
   ]
  },
  {
   "cell_type": "code",
   "execution_count": 14,
   "metadata": {},
   "outputs": [
    {
     "data": {
      "text/plain": [
       "(9,6)"
      ]
     },
     "metadata": {},
     "output_type": "display_data"
    }
   ],
   "source": [
    "addVectors :: (Num a) => (a, a) -> (a, a) -> (a, a)\n",
    "addVectors (x1, y1) (x2, y2) = (x1 + x2, y1 + y2) \n",
    "\n",
    "addVectors (6,2) (3,4)"
   ]
  },
  {
   "cell_type": "code",
   "execution_count": 15,
   "metadata": {},
   "outputs": [],
   "source": [
    "length' :: (Num b) => [a] -> b\n",
    "length' [] = 0\n",
    "length' (_:xs) = 2 + length' xs"
   ]
  },
  {
   "cell_type": "markdown",
   "metadata": {},
   "source": [
    "## Guards\n",
    "* Patterns make sure a value conforms to some form\n",
    "and deconstruct it.\n",
    "* Guards construct functions according to conditions."
   ]
  },
  {
   "cell_type": "code",
   "execution_count": 16,
   "metadata": {},
   "outputs": [],
   "source": [
    "bmiTell :: (RealFloat a) => a -> a -> String\n",
    "bmiTell weight height\n",
    "    | weight / height ^ 2 <= 18.5 = \"underweight\"\n",
    "    | weight / height ^ 2 <= 25.0 = \"normal\"\n",
    "    | weight / height ^ 2 <= 30.0 = \"overweight\"\n",
    "    | otherwise                 = \"obese\""
   ]
  },
  {
   "cell_type": "markdown",
   "metadata": {},
   "source": [
    "## Where\n",
    "* __Scope__: The names we define in the where section of a function are only visible\n",
    "to that function, so we don't have to worry about them polluting the\n",
    "namespace of other functions. \n",
    "* __Indention of where__: Notice that all the names are aligned at a\n",
    "single column. If not, Haskell gets\n",
    "confused because then it doesn't know they're all part of the same\n",
    "block.\n",
    "* __Indentation problems__: where, let, do"
   ]
  },
  {
   "cell_type": "code",
   "execution_count": 17,
   "metadata": {},
   "outputs": [],
   "source": [
    "initials :: String -> String -> String\n",
    "initials firstname lastname \n",
    "    = [f] ++ \". \" ++ [l] ++ \".\"\n",
    "    where (f:_) = firstname -- pattern match could be anywhere\n",
    "          (l:_) = lastname"
   ]
  },
  {
   "cell_type": "code",
   "execution_count": 18,
   "metadata": {},
   "outputs": [],
   "source": [
    "calcBmis :: (RealFloat a) => [(a, a)] -> [a]\n",
    "calcBmis xs = [bmi w h | (w, h) <- xs]\n",
    "    where bmi weight height = weight / height ^ 2"
   ]
  },
  {
   "cell_type": "code",
   "execution_count": 19,
   "metadata": {},
   "outputs": [],
   "source": [
    "calcBmis :: (RealFloat a) => [(a, a)] -> [a]\n",
    "calcBmis xs = [bmi w h | (w, h) <- xs]\n",
    "    where bmi weight height = weight / height ^ 2"
   ]
  },
  {
   "cell_type": "markdown",
   "metadata": {},
   "source": [
    "## Let\n",
    "\n",
    "* The form is let <bindings> in <expression>. The names that you define in the let part are accessible to the expression after the in part.\n",
    "* Equivalent to a where binding.\n",
    "* Indentation: aligned in a single column.\n",
    "* The difference is that let bindings are expressions themselves.\n",
    "where bindings are just syntactic constructs."
   ]
  }
 ],
 "metadata": {
  "kernelspec": {
   "display_name": "Haskell",
   "language": "haskell",
   "name": "haskell"
  },
  "language_info": {
   "codemirror_mode": "ihaskell",
   "file_extension": ".hs",
   "name": "haskell",
   "pygments_lexer": "Haskell",
   "version": "8.6.5"
  },
  "toc": {
   "base_numbering": 1,
   "nav_menu": {},
   "number_sections": true,
   "sideBar": true,
   "skip_h1_title": true,
   "title_cell": "Table of Contents",
   "title_sidebar": "Topics",
   "toc_cell": true,
   "toc_position": {},
   "toc_section_display": true,
   "toc_window_display": true
  }
 },
 "nbformat": 4,
 "nbformat_minor": 2
}
