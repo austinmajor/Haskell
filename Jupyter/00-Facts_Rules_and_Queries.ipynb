{
 "cells": [
  {
   "cell_type": "markdown",
   "metadata": {},
   "source": [
    "# Two main goals\n",
    "\n",
    "* This will introduce us to the three basic constructs in Prolog: \n",
    "\n",
    "\n",
    "    facts, \n",
    "    rules, \n",
    "    queries. \n",
    "\n",
    "* To begin the systematic study of Prolog by defining terms, atoms, variables and other syntactic concepts."
   ]
  },
  {
   "cell_type": "markdown",
   "metadata": {},
   "source": [
    "## Some Simple Examples\n",
    "\n",
    "* There are only three basic constructs in Prolog: facts, rules, and queries. \n",
    "* A collection of facts and rules is called a knowledge base (or a database) and Prolog programming is all about writing knowledge bases. \n",
    "* So how do we use a Prolog program? By posing queries. That is, by asking questions about the information stored in the knowledge base."
   ]
  },
  {
   "cell_type": "markdown",
   "metadata": {},
   "source": [
    "### Knowledge Base 1\n",
    "\n",
    "* Knowledge Base 1 (KB1) is simply a collection of facts. \n",
    "\n",
    "* Facts are used to state things that are unconditionally true of some situation of interest. \n",
    "\n",
    "For example, we can state that Mia, Jody, and Yolanda are women, that Jody plays air guitar, and that a party is taking place, using the following five facts:"
   ]
  },
  {
   "cell_type": "code",
   "execution_count": null,
   "metadata": {},
   "outputs": [],
   "source": [
    "woman(mia).\n",
    "woman(jody).\n",
    "woman(yolanda).\n",
    "playsAirGuitar(jody).\n",
    "party."
   ]
  },
  {
   "cell_type": "code",
   "execution_count": null,
   "metadata": {},
   "outputs": [],
   "source": [
    "make."
   ]
  },
  {
   "cell_type": "markdown",
   "metadata": {},
   "source": [
    "How can we use KB1? By posing queries. That is, by asking questions about the information KB1 contains. "
   ]
  },
  {
   "cell_type": "code",
   "execution_count": null,
   "metadata": {},
   "outputs": [],
   "source": [
    "?-  woman(mia)."
   ]
  },
  {
   "cell_type": "markdown",
   "metadata": {},
   "source": [
    "* ?- is the prompt symbol that the Prolog interpreter displays when it is waiting to evaluate a query. \n",
    "* We just type in the actual query (for example woman(mia) ) followed by . (a full stop). The full stop is important. If you don’t type it, Prolog won’t start working on the query."
   ]
  },
  {
   "cell_type": "code",
   "execution_count": null,
   "metadata": {},
   "outputs": [],
   "source": [
    "?-playsAirGuitar(jody)."
   ]
  },
  {
   "cell_type": "markdown",
   "metadata": {},
   "source": [
    "Prolog will again answer yes, because this is one of the facts in KB1. However, suppose we ask whether Mia plays air guitar:"
   ]
  },
  {
   "cell_type": "code",
   "execution_count": null,
   "metadata": {},
   "outputs": [],
   "source": [
    "?-playsAirGuitar(mia)."
   ]
  },
  {
   "cell_type": "markdown",
   "metadata": {},
   "source": [
    "Prolog correctly concludes that playsAirGuitar(mia) does not follow from KB1."
   ]
  },
  {
   "cell_type": "markdown",
   "metadata": {},
   "source": [
    "Here are two important examples. First, suppose we pose the query:"
   ]
  },
  {
   "cell_type": "code",
   "execution_count": null,
   "metadata": {},
   "outputs": [],
   "source": [
    "?-  playsAirGuitar(vincent)."
   ]
  },
  {
   "cell_type": "markdown",
   "metadata": {},
   "source": [
    "This query is about a person (Vincent) that it has no information about, so it (correctly) concludes that playsAirGuitar(vincent) cannot be deduced from the information in KB1."
   ]
  },
  {
   "cell_type": "markdown",
   "metadata": {},
   "source": [
    "Similarly, suppose we pose the query:"
   ]
  },
  {
   "cell_type": "code",
   "execution_count": null,
   "metadata": {},
   "outputs": [],
   "source": [
    "   ?-  tatooed(jody)."
   ]
  },
  {
   "cell_type": "markdown",
   "metadata": {},
   "source": [
    "This query is about a property (being tatooed) that it has no information about, so once again it (correctly) concludes that the query cannot be deduced from the information in KB1. "
   ]
  },
  {
   "cell_type": "markdown",
   "metadata": {},
   "source": [
    "Needless to say, we can also make queries concerning propositions. For example, if we pose the query"
   ]
  },
  {
   "cell_type": "markdown",
   "metadata": {},
   "source": [
    "   ?-  party."
   ]
  },
  {
   "cell_type": "markdown",
   "metadata": {},
   "source": [
    "and if we pose the query"
   ]
  },
  {
   "cell_type": "markdown",
   "metadata": {},
   "source": [
    "   ?-  rockConcert."
   ]
  },
  {
   "cell_type": "markdown",
   "metadata": {},
   "source": [
    "### Knowledge Base 2\n",
    "\n",
    "Here is KB2, our second knowledge base:"
   ]
  },
  {
   "cell_type": "code",
   "execution_count": null,
   "metadata": {},
   "outputs": [],
   "source": [
    "happy(yolanda). \n",
    "listens2Music(mia). \n",
    "listens2Music(yolanda):-  happy(yolanda). \n",
    "playsAirGuitar(mia):-  listens2Music(mia). \n",
    "playsAirGuitar(yolanda):-  listens2Music(yolanda)."
   ]
  },
  {
   "cell_type": "markdown",
   "metadata": {},
   "source": [
    "* There are two facts in KB2, listens2Music(mia) and happy(yolanda) . \n",
    "* The last three items it contains are rules."
   ]
  },
  {
   "cell_type": "markdown",
   "metadata": {},
   "source": [
    "* Rules state information that is conditionally true of the situation of interest. \n",
    "* The :- should be read as “if”, or “is implied by”. The part on the left hand side of the :- is called the head of the rule, the part on the right hand side is called the body. \n",
    "* If the body of the rule is true, then the head of the rule is true too. \n",
    "\n",
    "* If a knowledge base contains a rule head  :-  body, and Prolog knows that body follows from the information in the knowledge base, then Prolog can infer head.\n",
    "\n",
    "Let’s consider an example. Suppose we ask whether Mia plays air guitar:"
   ]
  },
  {
   "cell_type": "code",
   "execution_count": null,
   "metadata": {},
   "outputs": [],
   "source": [
    "   ?-  playsAirGuitar(mia)."
   ]
  },
  {
   "cell_type": "markdown",
   "metadata": {},
   "source": [
    "\n",
    "playsAirGuitar(mia):-  listens2Music(mia).\n",
    "listens2Music(mia). "
   ]
  },
  {
   "cell_type": "code",
   "execution_count": null,
   "metadata": {},
   "outputs": [],
   "source": [
    "   ?-  playsAirGuitar(yolanda)."
   ]
  },
  {
   "cell_type": "markdown",
   "metadata": {},
   "source": [
    "listens2Music(yolanda):-  happy(yolanda).\n",
    "listens2Music(yolanda) . "
   ]
  },
  {
   "cell_type": "markdown",
   "metadata": {},
   "source": [
    "* The facts and rules contained in a knowledge base are called clauses. \n",
    "* Thus KB2 contains five clauses, namely three rules and two facts. \n",
    "* Another way of looking at KB2 is to say that it consists of three predicates (or procedures):\n",
    "   listens2Music \n",
    "   happy \n",
    "   playsAirGuitar\n",
    "\n",
    "* It is a good idea to think about Prolog programs in terms of the predicates they contain. \n",
    "\n",
    "* We can view a fact as a rule with an empty body. That is, we can think of facts as conditionals that do not have any antecedent conditions, or degenerate rules."
   ]
  },
  {
   "cell_type": "markdown",
   "metadata": {},
   "source": [
    "### Knowledge Base 3\n",
    "\n",
    "KB3, our third knowledge base, consists of five clauses:"
   ]
  },
  {
   "cell_type": "code",
   "execution_count": null,
   "metadata": {},
   "outputs": [],
   "source": [
    "happy(vincent). \n",
    "listens2Music(butch). \n",
    "playsAirGuitar(vincent):- \n",
    "      listens2Music(vincent), \n",
    "      happy(vincent).    \n",
    "playsAirGuitar(butch):- \n",
    "      happy(butch).    \n",
    "playsAirGuitar(butch):- \n",
    "      listens2Music(butch)."
   ]
  },
  {
   "cell_type": "markdown",
   "metadata": {},
   "source": [
    "The rule\n",
    "\n",
    "   playsAirGuitar(vincent):- \n",
    "         listens2Music(vincent), \n",
    "         happy(vincent).\n",
    "         \n",
    "has two items in its body, or (to use the standard terminology) two goals. \n",
    "\n",
    "* a comma means \"and\". \n",
    "* a semicolon means \"or\".\n",
    "* The spacing used in this rule is irrelevant. "
   ]
  },
  {
   "cell_type": "markdown",
   "metadata": {},
   "source": [
    "Two rules can have exactly the same head:"
   ]
  },
  {
   "cell_type": "code",
   "execution_count": null,
   "metadata": {},
   "outputs": [],
   "source": [
    "   playsAirGuitar(butch):- \n",
    "         happy(butch). \n",
    "   playsAirGuitar(butch):- \n",
    "         listens2Music(butch)."
   ]
  },
  {
   "cell_type": "markdown",
   "metadata": {},
   "source": [
    "* This is a way of stating that Butch plays air guitar either if he listens to music, or if he is happy. \n",
    "* Listing multiple rules with the same head is a way of expressing logical disjunction (that is, it is a way of saying or ). "
   ]
  },
  {
   "cell_type": "markdown",
   "metadata": {},
   "source": [
    "There is another way of expressing disjunction in Prolog. "
   ]
  },
  {
   "cell_type": "code",
   "execution_count": null,
   "metadata": {},
   "outputs": [],
   "source": [
    "playsAirGuitar(butch):- \n",
    "         happy(butch); \n",
    "         listens2Music(butch)."
   ]
  },
  {
   "cell_type": "markdown",
   "metadata": {},
   "source": [
    "It should now be clear that Prolog has something to do with logic: \n",
    "\n",
    "* the :- means implication\n",
    "* the , means conjunction\n",
    "* the ; means disjunction. "
   ]
  },
  {
   "cell_type": "markdown",
   "metadata": {},
   "source": [
    "### Knowledge Base 4\n",
    "\n",
    "Here is KB4, our fourth knowledge base:"
   ]
  },
  {
   "cell_type": "code",
   "execution_count": null,
   "metadata": {},
   "outputs": [],
   "source": [
    "   woman(mia). \n",
    "   woman(jody). \n",
    "   woman(yolanda). \n",
    "    \n",
    "   loves(vincent,mia). \n",
    "   loves(marsellus,mia). \n",
    "   loves(pumpkin,honey_bunny). \n",
    "   loves(honey_bunny,pumpkin)."
   ]
  },
  {
   "cell_type": "markdown",
   "metadata": {},
   "source": [
    "We’re going to make use of variables. "
   ]
  },
  {
   "cell_type": "code",
   "execution_count": null,
   "metadata": {},
   "outputs": [],
   "source": [
    "   ?-  woman(X)."
   ]
  },
  {
   "cell_type": "markdown",
   "metadata": {},
   "source": [
    "* Any word beginning with an upper-case letter is a Prolog variable\n",
    "* A variable isn’t a name, rather it’s a placeholder for information. \n",
    "* Prolog answers this query by working its way through KB4, from top to bottom, trying to unify (or match) the expression woman(X) with the information KB4 contains. "
   ]
  },
  {
   "cell_type": "markdown",
   "metadata": {},
   "source": [
    "* Any word beginning with an upper-case letter is a Prolog variable\n",
    "* A variable isn’t a name, rather it’s a placeholder for information. \n",
    "* Prolog answers this query by working its way through KB4, from top to bottom, trying to unify (or match) the expression woman(X) with the information KB4 contains. "
   ]
  },
  {
   "cell_type": "code",
   "execution_count": null,
   "metadata": {},
   "outputs": [],
   "source": [
    "   X  =  mia"
   ]
  },
  {
   "cell_type": "markdown",
   "metadata": {},
   "source": [
    "There is information about other women in the knowledge base. We can access this information by typing a semicolon:"
   ]
  },
  {
   "cell_type": "code",
   "execution_count": null,
   "metadata": {},
   "outputs": [],
   "source": [
    "   X  =  mia  ;"
   ]
  },
  {
   "cell_type": "markdown",
   "metadata": {},
   "source": [
    "   X  =  mia  ; \n",
    "   X  =  jody"
   ]
  },
  {
   "cell_type": "markdown",
   "metadata": {},
   "source": [
    "And of course, if we press ; a second time, Prolog returns the answer"
   ]
  },
  {
   "cell_type": "code",
   "execution_count": null,
   "metadata": {},
   "outputs": [],
   "source": [
    "   X  =  mia  ; \n",
    "   X  =  jody  ; \n",
    "   X  =  yolanda"
   ]
  },
  {
   "cell_type": "markdown",
   "metadata": {},
   "source": [
    "Let’s try a more complicated query, namely"
   ]
  },
  {
   "cell_type": "code",
   "execution_count": null,
   "metadata": {},
   "outputs": [],
   "source": [
    "   ?-  loves(marsellus,X),  woman(X)."
   ]
  },
  {
   "cell_type": "markdown",
   "metadata": {},
   "source": [
    "This query says: is there any individual X such that Marsellus loves X and X is a woman ? \n",
    "\n",
    "* Mia is a woman (fact 1) and \n",
    "* Marsellus loves Mia (fact 5). "
   ]
  },
  {
   "cell_type": "code",
   "execution_count": null,
   "metadata": {},
   "outputs": [],
   "source": [
    "   X  =  mia"
   ]
  },
  {
   "cell_type": "markdown",
   "metadata": {},
   "source": [
    "### Knowledge Base 5"
   ]
  },
  {
   "cell_type": "code",
   "execution_count": null,
   "metadata": {},
   "outputs": [],
   "source": [
    "   loves(vincent,mia). \n",
    "   loves(marsellus,mia). \n",
    "   loves(pumpkin,honey_bunny). \n",
    "   loves(honey_bunny,pumpkin). \n",
    "    \n",
    "   jealous(X,Y):-  loves(X,Z)  loves(Y,Z)."
   ]
  },
  {
   "cell_type": "markdown",
   "metadata": {},
   "source": [
    "It is defining a concept of jealousy. It says that an individual X will be jealous of an individual Y if there is some individual Z that X loves, and Y loves that same individual Z too. "
   ]
  },
  {
   "cell_type": "code",
   "execution_count": null,
   "metadata": {},
   "outputs": [],
   "source": [
    "   ?-  jealous(marsellus,W)."
   ]
  },
  {
   "cell_type": "markdown",
   "metadata": {},
   "source": []
  }
 ],
 "metadata": {
  "kernelspec": {
   "display_name": "SWI-Prolog",
   "language": "",
   "name": "jswipl"
  },
  "language_info": {
   "mimetype": "text/plain",
   "name": "swipl"
  },
  "toc": {
   "base_numbering": 1,
   "nav_menu": {},
   "number_sections": true,
   "sideBar": true,
   "skip_h1_title": false,
   "title_cell": "Table of Contents",
   "title_sidebar": "Contents",
   "toc_cell": false,
   "toc_position": {
    "height": "calc(100% - 180px)",
    "left": "10px",
    "top": "150px",
    "width": "304.2527160644531px"
   },
   "toc_section_display": true,
   "toc_window_display": true
  }
 },
 "nbformat": 4,
 "nbformat_minor": 2
}
